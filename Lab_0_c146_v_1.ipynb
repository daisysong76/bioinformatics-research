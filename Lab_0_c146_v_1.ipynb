{
  "cells": [
    {
      "cell_type": "markdown",
      "metadata": {
        "id": "view-in-github",
        "colab_type": "text"
      },
      "source": [
        "<a href=\"https://colab.research.google.com/github/daisysong76/bioinformatics-research/blob/main/Lab_0_c146_v_1.ipynb\" target=\"_parent\"><img src=\"https://colab.research.google.com/assets/colab-badge.svg\" alt=\"Open In Colab\"/></a>"
      ]
    },
    {
      "cell_type": "markdown",
      "metadata": {
        "id": "JeQXDKOtqjOW"
      },
      "source": [
        "# [DS4Bio] Lab 0: Comparative Genomics\n",
        "\n",
        "**Notebook Developed by:**\n",
        "*Reet Mishra and Sarp Dora Kurtoglu* (adapted in part from work by *Shishi Luo* and *Jonathan Fischer*) <br>**Notebook Updated by:**\n",
        "*Skye Pickett, Zcjanin Ollesca, Xiaomei Song, Diego Sotomayor, Evie Currington*\n",
        "\n",
        "### Learning Outcomes\n",
        "\n",
        "In this notebook, you will learn about:\n",
        "* Importing and analyzing datasets\n",
        "* Sorting and manipulating scientific data\n",
        "* Understanding correlation coefficients\n",
        "* Graphing genome sizes (bar, scatter, histogram)\n",
        "* Grouping and Pivot histograms\n",
        "* Summary Statistics\n",
        "* C-Value Paradox between different organisms\n",
        "\n",
        "\n",
        "## Table of Contents\n",
        "1. [Genome Size Exploration](#1.-Genome-Size-Exploration)\n",
        "1. [Pathogen Genome Sizes](#2.-Pathogen-Genome-Sizes)\n",
        "1. [Histograms](#3.-Histograms)\n",
        "1. [Scatterplots](#4.-Scatterplots)\n",
        "1. [Summary Statistics](#5.-Summary-Statistics)\n",
        "1. [Putting it all together: Analytics on Animals](#6.-Putting-it-all-together:-Analytics-on-Animals)\n",
        "1. [C-Value Paradox](#7.-C-Value-Paradox)\n",
        "1. [Conclusion](#8.-Conclusion)\n",
        "***"
      ]
    },
    {
      "cell_type": "markdown",
      "metadata": {
        "id": "e-q7JCXEqjOd"
      },
      "source": [
        "### Helpful Data Science Resources\n",
        "Here are some resources you can check out while doing this notebook!\n",
        "\n",
        "- [Reference Sheet for the datascience Module](http://data8.org/sp22/python-reference.html)<br>(This is extremely helpful whenever you need a cheatsheet!)\n",
        "- [Documentation for the datascience Module](http://data8.org/datascience/index.html)\n",
        "\n",
        "### Peer Consulting\n",
        "\n",
        "If you find yourself having trouble with any content in this notebook, Data Peer Consultants are an excellent resource! Click [here](https://dlab.berkeley.edu/training/frontdesk-info) to locate live help.\n",
        "\n",
        "Peer Consultants are there to answer all data-related questions, whether it be about the content of this notebook, applications of data science in the world, or other data science courses offered at Berkeley.\n",
        "\n",
        "---"
      ]
    },
    {
      "cell_type": "markdown",
      "metadata": {
        "id": "zZ-b897eqjOe"
      },
      "source": [
        "## 1. Genome Size Exploration"
      ]
    },
    {
      "cell_type": "markdown",
      "metadata": {
        "id": "cgxzG3UsqjOh"
      },
      "source": [
        "To prepare our notebook environment, run the following cell which imports the necessary packages. It will print `All necessary packages have been imported.` below the cell when it's completed importing."
      ]
    },
    {
      "cell_type": "code",
      "execution_count": null,
      "metadata": {
        "colab": {
          "base_uri": "https://localhost:8080/"
        },
        "id": "CXnyna64qjOh",
        "outputId": "e3e1defc-7cd3-4758-c4c9-ac9c522f8e95"
      },
      "outputs": [
        {
          "output_type": "stream",
          "name": "stdout",
          "text": [
            "All necessary packages have been imported.\n"
          ]
        }
      ],
      "source": [
        "# Import the necessary packages\n",
        "from datascience import *\n",
        "%matplotlib inline\n",
        "import matplotlib.pyplot as plt\n",
        "import numpy as np\n",
        "import scipy.stats as sp\n",
        "plt.style.use('fivethirtyeight')\n",
        "print(\"All necessary packages have been imported.\")"
      ]
    },
    {
      "cell_type": "markdown",
      "metadata": {
        "id": "8kEa330TqjOj"
      },
      "source": [
        "---\n",
        "### 1.1 Importing data\n",
        "\n",
        "\n",
        "The **genome size** is the amount of DNA contained in one copy of the complete genome, in terms of the number of basepairs.\n",
        "\n",
        "The table that we are importing contains information on 15 different species. The table provides both the scientific and common name of these species, as well as the number of genes, the number of proteins, and the genome size for the species."
      ]
    },
    {
      "cell_type": "markdown",
      "metadata": {
        "id": "nDhZ_X1PqjOk"
      },
      "source": [
        "\n",
        "<font color = #d14d0f>**QUESTION 1**:</font> ***Replace the `...` in the cell below with your code.* Import the model species data as a table. The *csv* file that we will turn into a table is called `lab0_model_species.csv`. Keep in mind that `Table.read_table(...)` takes in the file *path*, not just the file name. In the cell below we are assigning the to the variable `species`.**\n",
        ">*Hint:<br>- The format of the code below will be `Table.read_table('<foldername>/<filename>')`).<br>- \"lab0_model_species.csv\" is located inside the \"data\" folder.*\n"
      ]
    },
    {
      "cell_type": "code",
      "execution_count": null,
      "metadata": {
        "id": "I51muB80qjOl"
      },
      "outputs": [],
      "source": [
        "species = Table.read_table(...)"
      ]
    },
    {
      "cell_type": "markdown",
      "metadata": {
        "id": "4R3Q7CSlqjOm"
      },
      "source": [
        "\n",
        "We can see the full table with the `<tablename>.show()` command. <br>Run the code below, `species.show()`, to see the full *species* table!\n"
      ]
    },
    {
      "cell_type": "code",
      "execution_count": null,
      "metadata": {
        "id": "d5V4CN0fqjOq"
      },
      "outputs": [],
      "source": [
        "species.show()"
      ]
    },
    {
      "cell_type": "markdown",
      "metadata": {
        "id": "017ZdWf7qjOr"
      },
      "source": [
        "---\n",
        "### 1.2 Organisms by Genome Size\n",
        "\n",
        "\n",
        "\n",
        "<font color = #d14d0f>**QUESTION 2**:</font> Sort the `species` table by size in ascending order (smallest to biggest).<br>\n",
        ">*Hint:*<br> - Use the sort function: `<table_name>.sort(<\"column_name\">)`\n"
      ]
    },
    {
      "cell_type": "code",
      "execution_count": null,
      "metadata": {
        "id": "qjed09vzqjOr"
      },
      "outputs": [],
      "source": [
        "# YOUR CODE HERE"
      ]
    },
    {
      "cell_type": "markdown",
      "metadata": {
        "id": "2kq5Yn5CqjOr"
      },
      "source": [
        "\n",
        "<font color = #d14d0f>**QUESTION 3**:</font> Now, sort the *species* table by size in descending order (biggest to smallest).<br>\n",
        ">*Hint:*<br> - The sort function has an optional argument, *descending* that can be set equal to True or False:<br>`<table_name>.sort(<\"column_name\">, descending = ___)`\n"
      ]
    },
    {
      "cell_type": "code",
      "execution_count": null,
      "metadata": {
        "id": "YyBW9rjcqjOs"
      },
      "outputs": [],
      "source": [
        "# YOUR CODE HERE"
      ]
    },
    {
      "cell_type": "markdown",
      "metadata": {
        "id": "7EiKkltnqjOs"
      },
      "source": [
        "\n",
        "<font color = #d14d0f>**QUESTION 4**:</font> Extract the organisms with more than 60,000 genes from the `species` table. This is roughly number of genes that humans have.<br>\n",
        ">*Hint*:<br> Use the where function with this syntax `<table_name>.where('<column_name>', predicate)`<br>[All `table.where` predicates at this link](https://www.data8.org/fa23/reference/#tablewhere-predicates)\n"
      ]
    },
    {
      "cell_type": "code",
      "execution_count": null,
      "metadata": {
        "id": "f0dcqG63qjOs"
      },
      "outputs": [],
      "source": [
        "# YOUR CODE HERE\n",
        "greater_than_60k = ...\n",
        "greater_than_60k"
      ]
    },
    {
      "cell_type": "code",
      "execution_count": null,
      "metadata": {
        "id": "Pyo9_PeRqjOs"
      },
      "outputs": [],
      "source": [
        "# DON'T MODIFY THIS CELL -- for graders to check answers\n",
        "greater_than_60k[1]"
      ]
    },
    {
      "cell_type": "markdown",
      "metadata": {
        "id": "Lx341M8gqjOt"
      },
      "source": [
        "---\n",
        "## 2. Pathogen Genome Sizes\n",
        "\n",
        "---\n",
        "### 2.1 Importing Data"
      ]
    },
    {
      "cell_type": "markdown",
      "metadata": {
        "id": "uri2PHTMqjOt"
      },
      "source": [
        "\n",
        "<font color = #d14d0f>**QUESTION 5**:</font> ***Replace the `...` in the cell below with your code.* Import the pathogen data as a table and assign it to a variable `pathogens`. The *csv* file that we will turn into a table is called `lab0_pathogens.csv`. Keep in mind that `Table.read_table(...)` takes in the file *path*, not just the file name.**\n",
        ">*Hint:<br>- See Question 1 for a guide.<br>- The format of the code below will be `Table.read_table('<foldername>/<filename>')`).<br>- \"lab0_pathogens.csv\" is located inside the \"data\" folder.*<br>- The last line of the cell below will be `<table_name>.show()`. This will output the table if the line above is done correctly.\n"
      ]
    },
    {
      "cell_type": "code",
      "execution_count": null,
      "metadata": {
        "id": "LQ7gEtJ-qjOt"
      },
      "outputs": [],
      "source": [
        "# YOUR CODE HERE -- replace the ...\n",
        "\n",
        "... = Table.read_table(...)\n",
        "...show()\n"
      ]
    },
    {
      "cell_type": "markdown",
      "source": [
        "<font color = #d14d0f>**QUESTION 6**:</font> **Calculate the minimum, maximum, mean, and standard deviation of the pathogen sizes to get a good sense of the data that you are analyzing. Assign each to the corresponding variable names below (replace `...` with your code.)**\n",
        "\n",
        ">*Hint*:\n",
        "<br>- Use `np.min(<table_name>[<\"column_name\">])`, `np.max(<table_name>[<\"column_name\">])`, `np.mean(<table_name>[<\"column_name\">])`, and `np.std(<table_name>[<\"column_name\">])` for these calculations.\n",
        "<br> - The `pathogens` table has a column \"Size\".\n"
      ],
      "metadata": {
        "id": "_KN51OUI1uPx"
      }
    },
    {
      "cell_type": "code",
      "source": [
        "size_min = ...\n",
        "size_max = ...\n",
        "size_mean = ...\n",
        "size_std = ..."
      ],
      "metadata": {
        "colab": {
          "base_uri": "https://localhost:8080/"
        },
        "id": "U94YoOxp1ujw",
        "outputId": "d76541e0-9ea5-4f1d-8261-ff4e21dfa894"
      },
      "execution_count": null,
      "outputs": [
        {
          "output_type": "execute_result",
          "data": {
            "text/plain": [
              "Ellipsis"
            ]
          },
          "metadata": {},
          "execution_count": 6
        }
      ]
    },
    {
      "cell_type": "code",
      "source": [
        "# DON'T MODIFY THIS CELL -- for graders to check answers\n",
        "print(size_min, size_max, size_mean, size_std)"
      ],
      "metadata": {
        "colab": {
          "base_uri": "https://localhost:8080/"
        },
        "id": "6irch2gHCpNg",
        "outputId": "c1f4fea7-09a5-40a0-bceb-b4f3395feb1f"
      },
      "execution_count": null,
      "outputs": [
        {
          "output_type": "execute_result",
          "data": {
            "text/plain": [
              "1"
            ]
          },
          "metadata": {},
          "execution_count": 3
        }
      ]
    },
    {
      "cell_type": "markdown",
      "source": [
        "<font color = #d14d0f>**QUESTION 7**:</font> **How many subgroups do we have in the `pathogens` table?**\n",
        "**What is the most common subgroup?**\n",
        "<br>*Hint:* <br>- Use [`<table_name>.group(\"<column_name>\", <optional_aggregation_function>)`](http://www.data8.org/datascience/_autosummary/datascience.tables.Table.group.html#datascience.tables.Table.group).\n",
        "<br>- The default aggregation function is 'count' which counts how many time each value occurs in the table (ie, 'commonness').\n",
        "<br>- Using [`.sort(\"<column_name>\")`](http://www.data8.org/datascience/_autosummary/datascience.tables.Table.sort.html#datascience.tables.Table.sort) to sort by the count values could be helpful to identify the most common subgroup."
      ],
      "metadata": {
        "id": "UzlV0J38B_Ms"
      }
    },
    {
      "cell_type": "code",
      "source": [
        "## Your code here"
      ],
      "metadata": {
        "id": "XoHctNbuEytZ"
      },
      "execution_count": null,
      "outputs": []
    },
    {
      "cell_type": "markdown",
      "source": [
        "**ANSWER:**\n",
        "Double click on this cell, then replace the ... with your answers.\n",
        "\n",
        "**Number of subgroups** = ...\n",
        "<br> **Most common subgroup** = ..."
      ],
      "metadata": {
        "id": "8XBX2tAGFFse"
      }
    },
    {
      "cell_type": "markdown",
      "metadata": {
        "scrolled": false,
        "id": "1qYuzVWqqjOt"
      },
      "source": [
        "---\n",
        "### 2.2 Understanding Pathogens\n",
        "\n",
        "<font color = #d14d0f>**QUESTION 8**:</font> **How many organisms does `pathogens` contain?**\n",
        "\n",
        ">*Hint:*<br>- The `<table_name>.num_rows` function from Data 8 library will provide you with the total number of elements in your table."
      ]
    },
    {
      "cell_type": "code",
      "execution_count": null,
      "metadata": {
        "id": "mZusgDBtqjOu"
      },
      "outputs": [],
      "source": [
        "# YOUR CODE HERE\n",
        "num_organisms = ..."
      ]
    },
    {
      "cell_type": "code",
      "execution_count": null,
      "metadata": {
        "id": "6oGXOktKqjOu"
      },
      "outputs": [],
      "source": [
        "# DON'T MODIFY THIS CELL -- for graders to check answers\n",
        "print(num_organisms)"
      ]
    },
    {
      "cell_type": "markdown",
      "source": [
        "\n",
        "<font color = #d14d0f>**QUESTION 9**:</font> **Create a scatter plot of Genome Size vs. Number of Genes.**\n",
        ">*Hint:* To create a scatter plot of genome size vs. the number of genes, you can use the plt.scatter() function from matplotlib.pyplot. Provide the appropriate columns from the pathogens table as the x and y data. See the scatter plot above for help!\n"
      ],
      "metadata": {
        "id": "RnbztKnnyx3o"
      }
    },
    {
      "cell_type": "code",
      "source": [
        "# Extract the relevant columns from the pathogens table and put them in the ... below\n",
        "plt.scatter(..., ..., alpha = 0.5)\n",
        "# Keep the below code\n",
        "plt.xlabel('Genome Size (Megabases)')\n",
        "plt.ylabel('Number of Genes')\n",
        "plt.title('Scatter Plot of Genome Size vs. Number of Genes')\n",
        "plt.show()"
      ],
      "metadata": {
        "id": "EfhkiNSUywCO"
      },
      "execution_count": null,
      "outputs": []
    },
    {
      "cell_type": "markdown",
      "source": [
        "<font color = #d14d0f>**QUESTION 10**:</font> **Create a bar chart of subgroup frequencies.**\n",
        ">*Hint:* To create a bar chart of subgroup frequencies, you can use the plt.bar() function from matplotlib.pyplot. You'll need to count the frequencies of each subgroup in the pathogens table and then use the subgroup names as x-values and the frequencies as y-values for your plot.\n",
        "\n",
        "<br>**Step 1:** Group the `pathogens` table to find the total amount of each subgroup in the table. *Assign this new table to the variable `subgroup_counts`.* See your code from Question 7!\n",
        "<br> **Step 2:** Plot the counts in a bar chart. Keep in mind that the order is `plt.bar(<x_axis_values>, <y_axis_values>)`."
      ],
      "metadata": {
        "id": "nxzocVAIzCKD"
      }
    },
    {
      "cell_type": "code",
      "source": [
        "## Create a grouped table\n",
        "\n",
        "# YOUR CODE HERE -- Replace the ... with your grouped table\n",
        "\n",
        "subgroup_counts = ...\n",
        "\n",
        "## Below we extract the subgroup names and frequencies\n",
        "subgroup_names = subgroup_counts.column(\"Subgroup\")\n",
        "subgroup_freq = subgroup_counts.column(\"count\")\n",
        "\n",
        "\n",
        "# YOUR CODE HERE -- Create a bar chart! Replace the ... below\n",
        "plt.figure(figsize=(10, 6))\n",
        "plt.bar(..., ...)\n",
        "plt.xlabel('Subgroup')\n",
        "plt.ylabel('Frequency')\n",
        "plt.title('Bar Chart of Subgroup Frequencies')\n",
        "plt.xticks(rotation=45)\n",
        "plt.show()"
      ],
      "metadata": {
        "id": "9aFar7Cw0JtC"
      },
      "execution_count": null,
      "outputs": []
    },
    {
      "cell_type": "markdown",
      "metadata": {
        "id": "arH2nd5YqjOv"
      },
      "source": [
        "---\n",
        "## 3. Histograms\n",
        "With so many organisms, it can be hard to interpret the table. Histograms are a great way to visualize the distribution of a quantity of interest."
      ]
    },
    {
      "cell_type": "markdown",
      "metadata": {
        "id": "bk0JCoNjqjOv"
      },
      "source": [
        "<font color = #d14d0f>**QUESTION 11**:</font> **In the code cell below, create a histogram of genome sizes (in megabases).**\n",
        ">*Hint:<br>* Use the following format `<table_name>.hist('column_name', bins = b, normed = n)` where<br>- b gives the number of bins in the histogram<br>- n is either True or False for whether bin heights should be normalized by number of observations<br>- Choose 20 bins and normed = False\n"
      ]
    },
    {
      "cell_type": "code",
      "execution_count": null,
      "metadata": {
        "id": "IhLpNPNCqjOv"
      },
      "outputs": [],
      "source": [
        "# YOUR CODE HERE\n",
        "genome_size_hist = ....hist(..., bins = ..., normed = ...)       # Replace the ellipsis with appropriate arguments\n",
        "genome_size_hist"
      ]
    },
    {
      "cell_type": "markdown",
      "metadata": {
        "id": "-g0Vi-EjqjOv"
      },
      "source": [
        "---\n",
        "### 3.1 Understanding Histograms"
      ]
    },
    {
      "cell_type": "markdown",
      "metadata": {
        "id": "6slnaoYDqjOv"
      },
      "source": [
        "First, **read about histograms [here](https://chartio.com/learn/charts/histogram-complete-guide/)**, then answer the questions below."
      ]
    },
    {
      "cell_type": "markdown",
      "metadata": {
        "id": "ZTzGKW1FqjOw"
      },
      "source": [
        "\n",
        "<font color = #d14d0f>**QUESTION 12**:</font> **What are 3 benefits the author describes of using a histogram?**"
      ]
    },
    {
      "cell_type": "markdown",
      "metadata": {
        "id": "prvOurMVqjOw"
      },
      "source": [
        "**ANSWER:**<br>\n",
        "\n",
        "Double click on this cell, then replace this sentence with your answer.\n",
        "\n"
      ]
    },
    {
      "cell_type": "markdown",
      "metadata": {
        "id": "CXmnSWl3qjOw"
      },
      "source": [
        "\n",
        "<font color = #d14d0f>**QUESTION 13**:</font> **What are the 3 best practices for using a histogram?**"
      ]
    },
    {
      "cell_type": "markdown",
      "metadata": {
        "id": "FIb7yaI2qjOw"
      },
      "source": [
        "**ANSWER:**<br>\n",
        "\n",
        "Double click on this cell, then replace this sentence with your answer.\n",
        "\n"
      ]
    },
    {
      "cell_type": "markdown",
      "metadata": {
        "id": "omgO6coPqjOw"
      },
      "source": [
        "\n",
        "<font color = #d14d0f>**QUESTION 14**:</font> **Why is it imperative to choose the appropriate number of bins? How do you decide the right amount?**"
      ]
    },
    {
      "cell_type": "markdown",
      "metadata": {
        "id": "i8b7lf9vqjOw"
      },
      "source": [
        "**ANSWER:**<br>\n",
        "\n",
        "Double click on this cell, then replace this sentence with your answer.\n",
        "\n"
      ]
    },
    {
      "cell_type": "markdown",
      "metadata": {
        "id": "z5D9nA37qjOx"
      },
      "source": [
        "\n",
        "<font color = #d14d0f>**QUESTION 15**:</font> **In order to compare genome sizes, should we use absolute frequency or relative frequency?**"
      ]
    },
    {
      "cell_type": "markdown",
      "metadata": {
        "id": "tBuYkJ9EqjOx"
      },
      "source": [
        "**ANSWER:**<br>\n",
        "\n",
        "Double click on this cell, then replace this sentence with your answer.\n",
        "\n"
      ]
    },
    {
      "cell_type": "markdown",
      "metadata": {
        "id": "eZSCVvyhqjOx"
      },
      "source": [
        "\n",
        "<font color = #d14d0f>**QUESTION 16**:</font> **What's wrong with the Histogram above (in Question 11)?**"
      ]
    },
    {
      "cell_type": "markdown",
      "metadata": {
        "id": "Ne0FVyqJqjOz"
      },
      "source": [
        "**ANSWER:**<br>\n",
        "\n",
        "Double click on this cell, then replace this sentence with your answer.\n",
        "\n"
      ]
    },
    {
      "cell_type": "markdown",
      "metadata": {
        "id": "xvJKYgprqjO0"
      },
      "source": [
        "---\n",
        "### 3.2 Pivot Histograms for Genome Sizes\n",
        "\n"
      ]
    },
    {
      "cell_type": "markdown",
      "metadata": {
        "id": "AU2r8O5iqjO0"
      },
      "source": [
        "\n",
        "<font color = #d14d0f>**QUESTION 17**:</font> **Since we are dealing with different types of subgroups (bacteria, fungi, parasites, and viruses), it would be helpful to create a histogram with the normalized frequency of genome sizes for each subgroup and compare them with one another as opposed to viewing a histogram displaying the frequencies of all of the different sizes for each subgroup.**\n",
        ">*Hint:* <br> Use the following format `object.hist('column_name', group = variable_to_group_by, bins = b, normed = n)` where<br>- group is set to the column containing our subgroups<br>- b gives the number of bins in the histogram<br>- n is either True or False for whether bin heights should be normalized by number of observations<br>- Choose 20 bins and normed = False   "
      ]
    },
    {
      "cell_type": "code",
      "execution_count": null,
      "metadata": {
        "id": "Yh-HAhcWqjO1"
      },
      "outputs": [],
      "source": [
        "# YOUR CODE HERE\n",
        "subgroup_size_hist = ....hist(..., group = ... , bins = ... , normed = ...)\n",
        "subgroup_size_hist"
      ]
    },
    {
      "cell_type": "markdown",
      "metadata": {
        "id": "G9MefFoJqjO1"
      },
      "source": [
        "\n",
        "With the previous histogram, we had no information about how differing subgroups may have different relative frequencies of genome sizes. In the plot above, we are now able to view separate histograms displaying the normalized frequency of genome sizes for each subgroup which gives us more detail about how the distributions of sizes differ across bacteria, fungi, parasites, and viruses."
      ]
    },
    {
      "cell_type": "markdown",
      "metadata": {
        "id": "OOF1G9-fqjO1"
      },
      "source": [
        "---\n",
        "## 4. Scatterplots"
      ]
    },
    {
      "cell_type": "markdown",
      "metadata": {
        "id": "O2RPPxk1qjO6"
      },
      "source": [
        "\n",
        "Scatterplots are a great way to visualize the connection between two variables. A scatterplot represents each row in our table with a single dot, and we plot each dot relative to its value for the two numerical columns on the axes.\n",
        "\n",
        "*Below you will make a scatter plot consisting of one point for each row of the table. Note that x_column and y_column must be strings specifying column names.*\n",
        "    "
      ]
    },
    {
      "cell_type": "markdown",
      "metadata": {
        "id": "eCWul95nqjO6"
      },
      "source": [
        "\n",
        "<font color = #d14d0f>**QUESTION 18**:</font> **Make scatterplot of the genome sizes vs the number of genes in `pathogens` (genome size on X axis, number of genes on Y axis).**<br>\n",
        ">*Hint:<br>- `<table_name>.scatter(<'X_column'>, <'Y_column'>)`\n",
        "<br>- 1. string: name of the column on the x-axis\n",
        "<br>- 2. string: name of the column on the y-axis\n",
        "<br>- 3. (Optional) fit_line=True (Include optional argument fit_line=True if you want to draw a line of best fit for each set of points)*"
      ]
    },
    {
      "cell_type": "code",
      "execution_count": null,
      "metadata": {
        "scrolled": false,
        "id": "JF_Yhx8eqjO6"
      },
      "outputs": [],
      "source": [
        "## Run this cell to recall what the names\n",
        "## of each of the columns in the species table is\n",
        "pathogens.labels\n"
      ]
    },
    {
      "cell_type": "code",
      "execution_count": null,
      "metadata": {
        "id": "FZlUR5HHqjO7"
      },
      "outputs": [],
      "source": [
        "# YOUR CODE HERE\n",
        "\n",
        "# Don't delete the code below\n",
        "plt.title(\"Genome size vs Number of Genes\");\n",
        "\n",
        "\n"
      ]
    },
    {
      "cell_type": "markdown",
      "metadata": {
        "id": "1xAe6sCOqjO7"
      },
      "source": [
        "In the next few questions, we will be working with correlation coefficients, specifically Pearson's and Spearman correlations. Read these links to familiarize yourself with them both:\n",
        ">Pearson's Correlation [definition](https://www.mathsisfun.com/data/correlation.html) and [Data 8 explanation](https://inferentialthinking.com/chapters/15/1/Correlation.html#the-correlation-coefficient)\n",
        "\n",
        ">Spearman Correlation [definition](https://statisticsbyjim.com/basics/spearmans-correlation/)\n",
        "\n",
        "\n",
        "<font color = #d14d0f>**QUESTION 19**:</font> **Calculate the Pearson and Spearman correlations between the genome sizes and the number of genes in the `pathogens`.**\n",
        "\n",
        ">*Hints:*<br>- Pearson correlation function:<br>`sp.pearsonr(<table_name>[<\"column_name_1\">], <table_name>[<\"column_name_2\">])` <br>- Spearman correlation function:<br>`sp.spearmanr(<table_name>[<'column_name_1'], <table_name>[<'column_name_2'>])`<br>- The column names are the same ones that you used for your x column and y column in the scatter plot above."
      ]
    },
    {
      "cell_type": "code",
      "execution_count": null,
      "metadata": {
        "id": "6luQERw9qjO7"
      },
      "outputs": [],
      "source": [
        "pearson_correlation = ...\n",
        "spearman_correlation = ..."
      ]
    },
    {
      "cell_type": "code",
      "execution_count": null,
      "metadata": {
        "id": "yvM9EMvhqjO7"
      },
      "outputs": [],
      "source": [
        "# DON'T MODIFY THIS CELL - for graders to check answers\n",
        "print(\"Genome SIZES vs Number of GENES\")\n",
        "print(\"Pearson correlation: \", pearson_correlation)\n",
        "print(\"Spearman correlation: \", spearman_correlation)"
      ]
    },
    {
      "cell_type": "markdown",
      "metadata": {
        "id": "VbF0DiVsqjO8"
      },
      "source": [
        "\n",
        "<font color = #d14d0f>**QUESTION 20**:</font> **Make a scatterplot of the number of proteins vs number of genes in `pathogens`(number of proteins on X axis, number of genes on Y axis).** *Use the code for your previous scatter plot as a guide.*\n",
        "<br>\n",
        ">*Hint:<br>- `<table_name>.scatter(<'X_column'>, <'Y_column'>)`\n",
        "<br>- 1. string: name of the column on the x-axis\n",
        "<br>- 2. string: name of the column on the y-axis\n",
        "<br>- 3. (Optional) fit_line=True (Include optional argument fit_line=True if you want to draw a line of best fit for each set of points)*"
      ]
    },
    {
      "cell_type": "code",
      "execution_count": null,
      "metadata": {
        "id": "2fvGcY_oqjO8"
      },
      "outputs": [],
      "source": [
        "# YOUR CODE HERE\n",
        "\n",
        "\n",
        "# Don't delete the code below\n",
        "plt.title(\"Proteins count vs. Number of Genes\");\n",
        "\n"
      ]
    },
    {
      "cell_type": "markdown",
      "metadata": {
        "id": "CSWm1PrXAqLU"
      },
      "source": [
        "\n",
        "<font color = #d14d0f>**QUESTION 21**:</font> **Which correlation coefficient would be most appropriate for the plot above?**\n"
      ]
    },
    {
      "cell_type": "markdown",
      "metadata": {
        "id": "QCnEzH-MA1yO"
      },
      "source": [
        "**Answer:**\n",
        "\n",
        "Double tap on this cell to edit the text. Replace this with your answer."
      ]
    },
    {
      "cell_type": "markdown",
      "metadata": {
        "id": "ikV0BahGqjO8"
      },
      "source": [
        "\n",
        "<font color = #d14d0f>**QUESTION 22**:</font> **Calculate the Pearson and Spearman correlations between the number of proteins and the number of genes in the pathogens.**\n",
        ">*Hints:<br>- Pearson correlation function:<br>`sp.pearsonr(<table_name>[<\"column_name_1\">], <table_name>[<\"column_name_2\">])` <br>- Spearman correlation function:<br>`sp.spearmanr(<table_name>[<'column_name_1'], <table_name>[<'column_name_2'>])`<br>- The column names are the same ones that you used for your x column and y column in the scatter plot above.*"
      ]
    },
    {
      "cell_type": "code",
      "execution_count": null,
      "metadata": {
        "id": "Fo3fwKLGqjO9"
      },
      "outputs": [],
      "source": [
        "pearson_correlation = ...\n",
        "spearman_correlation = ..."
      ]
    },
    {
      "cell_type": "code",
      "execution_count": null,
      "metadata": {
        "id": "UQGaUvUTqjO9"
      },
      "outputs": [],
      "source": [
        "# DON'T MODIFY THIS CELL - for graders to check answers\n",
        "print(\"Number of PROTEINS vs Number of GENES\")\n",
        "print(\"Pearson correlation: \", pearson_correlation)\n",
        "print(\"Spearman correlation: \", spearman_correlation)"
      ]
    },
    {
      "cell_type": "markdown",
      "metadata": {
        "id": "bEtpzsZAqjO9"
      },
      "source": [
        "\n",
        "<font color = #d14d0f>**QUESTION 23**:</font> **Calculate the Pearson and Spearman correlations between the genome sizes and the number of genes in the `pathogens`.**\n",
        ">*Hints:*<br>- Pearson correlation function:<br>`sp.pearsonr(<table_name>[<\"column_name_1\">], <table_name>[<\"column_name_2\">])` <br>- Spearman correlation function:<br>`sp.spearmanr(<table_name>[<'column_name_1'], <table_name>[<'column_name_2'>])`<br>- The column names are the same ones that you used for your x column and y column in the scatter plot above."
      ]
    },
    {
      "cell_type": "code",
      "execution_count": null,
      "metadata": {
        "id": "C5RgrjYdqjO-"
      },
      "outputs": [],
      "source": [
        "pearson_correlation = ...\n",
        "spearman_correlation = ..."
      ]
    },
    {
      "cell_type": "code",
      "execution_count": null,
      "metadata": {
        "id": "W8CuAGB9qjO-"
      },
      "outputs": [],
      "source": [
        "# DON'T MODIFY THIS CELL - for graders to check answers\n",
        "print(\"Genome SIZES vs Number of GENES\")\n",
        "print(\"Pearson correlation: \", pearson_correlation)\n",
        "print(\"Spearman correlation: \", spearman_correlation)"
      ]
    },
    {
      "cell_type": "markdown",
      "metadata": {
        "id": "2C_PUtr0qjO_"
      },
      "source": [
        "\n",
        "<font color = #d14d0f>**QUESTION 24**:</font> **Make a scatterplot of the number of proteins vs number of genes in pathogens (number of proteins on X axis, number of genes on Y axis).** *Use the code for your previous scatter plot as a guide.*\n",
        ">*Hint:<br>- `<table_name>.scatter(<'X_column'>, <'Y_column'>)`\n",
        "<br>- 1. string: name of the column on the x-axis\n",
        "<br>- 2. string: name of the column on the y-axis\n",
        "<br>- 3. (Optional) fit_line=True (Include optional argument fit_line=True if you want to draw a line of best fit for each set of points)*"
      ]
    },
    {
      "cell_type": "code",
      "source": [
        "# YOUR CODE HERE\n",
        "\n",
        "\n",
        "# Don't delete the code below\n",
        "plt.title(\"Proteins count vs. Number of Genes\");"
      ],
      "metadata": {
        "id": "6hbdLOOZhMKT"
      },
      "execution_count": null,
      "outputs": []
    },
    {
      "cell_type": "markdown",
      "metadata": {
        "id": "BvFvrsO7qjO_"
      },
      "source": [
        "---\n",
        "## 5. Summary Statistics\n",
        "                                 \n",
        "Summary statistics are numerical measures used to describe and summarize essential characteristics or properties of a dataset. They provide a concise overview of the dataset's central tendency, spread, and key features.\n",
        "\n",
        ">#### **Mean:**\n",
        "The mean, often called the average, is calculated by summing all values in a dataset and dividing by the number of data points. It represents the arithmetic center of the data.<br>\n",
        "Use Case: The mean is useful for continuous data when you want to find the typical or central value. However, it can be sensitive to outliers, making it less suitable when extreme values are present.\n",
        ">#### **Median:**\n",
        "The median is the middle value in a dataset when it is ordered. If there is an even number of data points, it's the average of the two middle values. The median is less sensitive to outliers compared to the mean.<br>\n",
        "Use Case: The median is preferred when dealing with skewed or non-normally distributed data, as it provides a more robust measure of central tendency.\n",
        ">#### **Standard Deviation:**\n",
        "The standard deviation quantifies the amount of variation or dispersion in a dataset. It measures how individual data points deviate from the mean.<br>\n",
        "Use Case: The standard deviation is useful for understanding the spread or variability in a dataset. A higher standard deviation indicates greater variability, making it valuable for assessing data consistency.\n",
        ">#### **Interquartile Range (IQR):**\n",
        "The IQR is a measure of statistical dispersion, specifically the range between the first quartile (Q1) and the third quartile (Q3). It identifies the middle 50% of the data.<br>\n",
        "Use Case: The IQR is robust against outliers and is often used to identify and handle extreme values. It's valuable for describing the spread of data while minimizing the influence of outliers.<"
      ]
    },
    {
      "cell_type": "markdown",
      "metadata": {
        "id": "4gmNtaW_qjO_"
      },
      "source": [
        "Run this cell to print the mean of the genome sizes of the `pathogens` table."
      ]
    },
    {
      "cell_type": "code",
      "execution_count": null,
      "metadata": {
        "scrolled": true,
        "id": "Vv5gRfwhqjO_"
      },
      "outputs": [],
      "source": [
        "genome_size_mean = np.mean(pathogens['Size'])\n",
        "genome_size_mean"
      ]
    },
    {
      "cell_type": "markdown",
      "metadata": {
        "id": "LqGg9A5uqjO_"
      },
      "source": [
        "\n",
        "<font color = #d14d0f>**QUESTION 25**:</font> **Above we computed the mean of the genome sizes in the `pathogens` table. In the cell below, compute the mean (average) of the genes count in `pathogens` and of the proteins count in `pathogens`.**\n"
      ]
    },
    {
      "cell_type": "code",
      "execution_count": null,
      "metadata": {
        "id": "ZXO_lJGEqjPA"
      },
      "outputs": [],
      "source": [
        "genes_mean = ...\n",
        "proteins_mean = ..."
      ]
    },
    {
      "cell_type": "code",
      "execution_count": null,
      "metadata": {
        "id": "dMklANDNqjPA"
      },
      "outputs": [],
      "source": [
        "# Don't modify this cell -- just run it\n",
        "print(\"Average Genome size: \", genome_size_mean)\n",
        "print(\"Average number of genes: \", genes_mean)\n",
        "print(\"Average number of proteins: \", proteins_mean)\n",
        "genome_size = [genome_size_mean]\n",
        "genes = [genes_mean]\n",
        "proteins = [proteins_mean]"
      ]
    },
    {
      "cell_type": "markdown",
      "metadata": {
        "id": "9TPc-5DnqjPA"
      },
      "source": [
        "\n",
        "<font color = #d14d0f>**QUESTION 26**:</font> **In one to two sentences, summarize what the cell above tells us about the average values. ie) Which values are highest or lowest? Why is or isn't this what you'd expect?**\n"
      ]
    },
    {
      "cell_type": "markdown",
      "metadata": {
        "id": "bah_3wqgqjPA"
      },
      "source": [
        "**Answer:**\n",
        "\n",
        "Double tap on this cell to edit the text. Replace this with your answer."
      ]
    },
    {
      "cell_type": "markdown",
      "metadata": {
        "id": "YCs6fvDiqjPA"
      },
      "source": [
        "\n",
        "We're going to store the summary statistics we found so far (and 3 more that we will calculate shortly) in a table. Let's call this table `pathogens_summary`. Read the cell below to understand how this table is being made. We're creating a column that shows each summary statistic and we'll add more columns on later.\n",
        ">`<table_name> = Table().with_columns(<'column_name_1'>, [...values...], <'column_name_2'>, [...values...], ...)`"
      ]
    },
    {
      "cell_type": "code",
      "execution_count": null,
      "metadata": {
        "id": "ZuDr1JO2qjPB"
      },
      "outputs": [],
      "source": [
        "pathogens_summary = Table().with_columns([\"Summary statistic\", [\"Mean\", \"Median\", \"Standard Deviation\", \"Interquartile Range\"]])\n",
        "pathogens_summary"
      ]
    },
    {
      "cell_type": "markdown",
      "metadata": {
        "id": "651wUT5MqjPB"
      },
      "source": [
        "\n",
        "<font color = #d14d0f>**QUESTION 27**:</font> **Find the median of the genome sizes, number of genes, and number of proteins in `pathogens`.**\n",
        ">*Hint*: Use `np.median(<table_name>[<\"column_name\">])`\n"
      ]
    },
    {
      "cell_type": "code",
      "execution_count": null,
      "metadata": {
        "id": "GPpQ3b2uqjPB"
      },
      "outputs": [],
      "source": [
        "genome_size_median = ...\n",
        "genes_median = ...\n",
        "proteins_median = ..."
      ]
    },
    {
      "cell_type": "code",
      "execution_count": null,
      "metadata": {
        "scrolled": true,
        "id": "v2OjZ3_fqjPB"
      },
      "outputs": [],
      "source": [
        "# Don't modify this cell -- just run it\n",
        "print(\"Median Genome size: \", genome_size_median)\n",
        "print(\"Median number of genes: \", genes_median)\n",
        "print(\"Median number of proteins: \", proteins_median)\n",
        "genome_size.append(genome_size_median)\n",
        "genes.append(genes_median)\n",
        "proteins.append(proteins_median)"
      ]
    },
    {
      "cell_type": "markdown",
      "metadata": {
        "id": "_DtjwSdBqjPC"
      },
      "source": [
        "\n",
        "<font color = #d14d0f>**QUESTION 28**:</font> **Find the standard deviation of the genome sizes, number of genes, and number of proteins in `pathogens`.**\n",
        ">*Hint*: Use `np.std(<table_name>[<\"column_name\">])`\n"
      ]
    },
    {
      "cell_type": "code",
      "execution_count": null,
      "metadata": {
        "id": "jhaRhwjeqjPC"
      },
      "outputs": [],
      "source": [
        "genome_size_std = ...\n",
        "genes_std = ...\n",
        "proteins_std = ..."
      ]
    },
    {
      "cell_type": "code",
      "execution_count": null,
      "metadata": {
        "scrolled": true,
        "id": "Wca1hgxBqjPC"
      },
      "outputs": [],
      "source": [
        "# Don't modify this cell -- just run it\n",
        "print(\"Standard Deviation of Genome size: \", genome_size_std)\n",
        "print(\"Standard Deviation of number of genes: \", genes_std)\n",
        "print(\"Standard Deviation of number of proteins: \", proteins_std)\n",
        "genome_size.append(genome_size_std)\n",
        "genes.append(genes_std)\n",
        "proteins.append(proteins_std)"
      ]
    },
    {
      "cell_type": "markdown",
      "metadata": {
        "id": "utFDD_YTqjPD"
      },
      "source": [
        "\n",
        "<font color = #d14d0f>**QUESTION 29**:</font> **Find the [interquartile range](https://statisticsbyjim.com/basics/interquartile-range/#:~:text=The%20interquartile%20range%20(IQR)%20measures,your%20data%20spread%20out%20further.) of the genome sizes, number of genes, and number of proteins in `pathogens`.**\n",
        ">*Hint*: Use this syntax: `sq.iqr(<table_name>[<\"column_name\">])`\n"
      ]
    },
    {
      "cell_type": "code",
      "execution_count": null,
      "metadata": {
        "id": "WL3ukDUmqjPD"
      },
      "outputs": [],
      "source": [
        "genome_size_iqr = ...\n",
        "genes_iqr = ...\n",
        "proteins_iqr = ..."
      ]
    },
    {
      "cell_type": "code",
      "execution_count": null,
      "metadata": {
        "scrolled": false,
        "id": "vnuvqvcEqjPD"
      },
      "outputs": [],
      "source": [
        "# Don't modify this cell -- just run it\n",
        "print(\"IQR of Genome size: \", genome_size_iqr)\n",
        "print(\"IQR of number of genes: \", genes_iqr)\n",
        "print(\"IQR of number of proteins: \", proteins_iqr)\n",
        "genome_size.append(genome_size_iqr)\n",
        "genes.append(genes_iqr)\n",
        "proteins.append(proteins_iqr)"
      ]
    },
    {
      "cell_type": "markdown",
      "metadata": {
        "id": "2YhzLKoIqjPE"
      },
      "source": [
        "\n",
        "\n",
        "Let's **add all our summary statistics** we found to the `pathogens_summary` we made before. Read the cell below to understand how this table is being updated. We're creating a column for each of the attributes that we're summarizing. Run the code cell below.\n",
        ">To update a table/add columns, use this:`<table_name> = <table_name>.with_columns(<'column_name_1'>, [...values...], <'column_name_2'>, [...values...], ...)`"
      ]
    },
    {
      "cell_type": "code",
      "execution_count": null,
      "metadata": {
        "scrolled": false,
        "id": "KvaV1-K-qjPE"
      },
      "outputs": [],
      "source": [
        "pathogens_summary = pathogens_summary.with_columns([\"Genome size\", genome_size, \"Genes\", genes, \"Proteins\", proteins])\n",
        "pathogens_summary ## Run this cell"
      ]
    },
    {
      "cell_type": "markdown",
      "metadata": {
        "id": "4lXxUf9LqjPE"
      },
      "source": [
        "\n",
        "<font color = #d14d0f>**QUESTION 30**:</font> **In two to three sentences, summarize what similarities or differences you notice between the summary statistics of the genome sizes, gene counts, and proteins counts from the `pathogens_summary` table above.**\n"
      ]
    },
    {
      "cell_type": "markdown",
      "metadata": {
        "id": "Sedc4f1qqjPE"
      },
      "source": [
        "**Answer:**\n",
        "\n",
        "Double tap on this cell to edit the text. Replace this with your answer."
      ]
    },
    {
      "cell_type": "markdown",
      "metadata": {
        "id": "s0zm3HMMqjPE"
      },
      "source": [
        "---\n",
        "## 6. Putting it all together: Analytics on Animals\n",
        "Refer to all prior sections for guidance!"
      ]
    },
    {
      "cell_type": "markdown",
      "metadata": {
        "id": "KdGcn7z6qjPe"
      },
      "source": [
        "<font color = #d14d0f>**QUESTION 31**:</font> ***Replace the `...` in the cell below with your code.* Import the animals data as a table and assign it to a variable `animals`. The *csv* file that we will turn into a table is called `lab0_animals.csv`. Keep in mind that `Table.read_table(...)` takes in the file *path*, not just the file name.**\n",
        ">*Hint:<br>- See Question 1 and 5 for reference.<br>- The format of the code below will be `Table.read_table('<foldername>/<filename>')`).<br>- \"lab0_animals.csv\" is located inside the \"data\" folder.*<br>- The last line of the cell below will be `<table_name>.show()`. This will output the table if the line above is done correctly.\n"
      ]
    },
    {
      "cell_type": "code",
      "execution_count": null,
      "metadata": {
        "id": "uSaQn-R-qjPe"
      },
      "outputs": [],
      "source": [
        "... = Table.read_table(...)\n",
        "....show()"
      ]
    },
    {
      "cell_type": "markdown",
      "metadata": {
        "id": "7ovnetkFqjPf"
      },
      "source": [
        "\n",
        "This table has 51 different animals listed. We know this by the calculation done in the cell below.\n",
        "\n",
        "\n"
      ]
    },
    {
      "cell_type": "code",
      "execution_count": null,
      "metadata": {
        "scrolled": true,
        "id": "JXoD9NZpqjPf"
      },
      "outputs": [],
      "source": [
        "animals.num_rows"
      ]
    },
    {
      "cell_type": "markdown",
      "metadata": {
        "id": "mJ3Zy8fPqjPg"
      },
      "source": [
        "\n",
        "\n",
        "\n",
        "\n",
        "<font color = #d14d0f>**QUESTION 32**:</font> **Like we did in Section 3.1, create a histogram of genome sizes (in megabases) but this time use the matplotlib.pyplot package to create it. Remember to adhere to the best practices of creating histograms. The code cell below lays out the general format for plotting histograms when using pyplot. Fill in the ellipsis with the appropriate arguments. Take note of any differences you observe in the histogram generated in 3.1 and the histogram generated here using pyplot.**\n",
        "\n",
        ">*Hint*: You can refer to the [documentation](https://matplotlib.org/stable/api/_as_gen/matplotlib.pyplot.hist.html) and [examples/tutorials](https://realpython.com/python-histograms/) for guidance.\n"
      ]
    },
    {
      "cell_type": "code",
      "execution_count": null,
      "metadata": {
        "id": "SSxTDmmvqjPg"
      },
      "outputs": [],
      "source": [
        "import matplotlib.pyplot as plt # the package is already imported for you\n",
        "\n",
        "# YOUR CODE HERE\n",
        "\n",
        "genome_sizes_column = ....column(...)           # Replace the first ellipsis with the appropriate table name, replace the second with the appropriate column\n",
        "\n",
        "plt.hist(genome_sizes_column,\n",
        "        bins = ...,                             # Specify your bins\n",
        "        )\n",
        "plt.xlabel(...)                                 # Add a label for the x-axis\n",
        "plt.ylabel(...)                                 # Add a label for the y-axis\n",
        "plt.title(...)                                  # Add a plot title\n",
        "plt.show()"
      ]
    },
    {
      "cell_type": "markdown",
      "metadata": {
        "id": "0qnztH7KqjPg"
      },
      "source": [
        "<font color = #d14d0f>**QUESTION 33**:</font> **Like we did in Section 3.2, create a pivot histogram of genome sizes (in megabases) based on the `Subgroup` column but this time use the matplotlib.pyplot package to create it. Remember to adhere to the best practices of creating histograms.The code cell below lays out the general format for plotting histograms when using pyplot. Fill in the ellipsis with the appropriate arguments. Again, take note of any differences you observe in the histogram generated in 3.1 and the histogram generated here using pyplot.**\n"
      ]
    },
    {
      "cell_type": "code",
      "execution_count": null,
      "metadata": {
        "id": "GWT9tHAFqjPg"
      },
      "outputs": [],
      "source": [
        "# YOUR CODE HERE\n",
        "\n",
        "# Do not modify this code, this creates a list of each unique subgroup in pathogens\n",
        "subgroups = np.unique(pathogens.column('Subgroup'))\n",
        "\n",
        "# This loop will create a histogram for each subgroup, don't worry too much about the syntax, simply specify the bins for the histogram\n",
        "for group in subgroups:\n",
        "        group_column = pathogens.where('Subgroup', are.equal_to(group))\n",
        "        plt.hist(group_column,\n",
        "                bins = ...,                     # Specify your bins\n",
        "                label = group\n",
        "                )\n",
        "plt.xlabel(...)                                 # Add a label for the x-axis as a string\n",
        "plt.ylabel(...)                                 # Add a label for the y-axis as a string\n",
        "plt.title(...)                                  # Add a plot title as a string\n",
        "plt.legend()\n",
        "plt.show()"
      ]
    },
    {
      "cell_type": "markdown",
      "metadata": {
        "id": "Bg8dBrq3qjPh"
      },
      "source": [
        "The code below creates summary statistics (like we did for `pathogens`) and puts them into a table called `animals_summary`. Read through the cell below and notice how this code replicates what you did earlier on. Run the cell to see the summary statistics of the `animals` table."
      ]
    },
    {
      "cell_type": "code",
      "execution_count": null,
      "metadata": {
        "id": "K8ZJYJ7DqjPh"
      },
      "outputs": [],
      "source": [
        "genome_sizes = [np.mean(animals['Size']), np.median(animals['Size']), np.std(animals['Size']), sq.iqr(animals['Size'])]\n",
        "genes = [np.mean(animals['Genes']), np.median(animals['Genes']), np.std(animals['Genes']), sq.iqr(animals['Genes'])]\n",
        "proteins = [np.mean(animals['Proteins']), np.median(animals['Proteins']), np.std(animals['Proteins']), sq.iqr(animals['Proteins'])]\n",
        "\n",
        "animals_summary = Table().with_columns(\n",
        "\"Summary Statistic\", [\"Mean\", \"Median\", \"Standard Deviation\", \"IQR\"],\n",
        "\"Genome size\", genome_sizes,\n",
        "\"Genes\", genes,\n",
        "\"Proteins\", proteins)\n",
        "animals_summary.show()"
      ]
    },
    {
      "cell_type": "markdown",
      "metadata": {
        "id": "PHeP8WgCqjPi"
      },
      "source": [
        "\n",
        "<font color = #d14d0f>**QUESTION 34**:</font> **In two to three sentences, summarize what similarities or differences you notice between the summary statistics of the genome sizes, gene counts, and proteins counts from the `animals_summary` table above.**\n"
      ]
    },
    {
      "cell_type": "markdown",
      "metadata": {
        "id": "et29L1IYqjPi"
      },
      "source": [
        "**Answer:**\n",
        "\n",
        "Double tap on this cell to edit the text. Replace this with your answer."
      ]
    },
    {
      "cell_type": "markdown",
      "metadata": {
        "id": "EOYEx1p5qjPm"
      },
      "source": [
        "\n",
        "**Run the cell below** to see the `pathogens_summary` table again."
      ]
    },
    {
      "cell_type": "code",
      "execution_count": null,
      "metadata": {
        "id": "BuOHT8BoqjPm"
      },
      "outputs": [],
      "source": [
        "pathogens_summary.show()"
      ]
    },
    {
      "cell_type": "markdown",
      "metadata": {
        "id": "pyxg3zFoqjPn"
      },
      "source": [
        "\n",
        "<font color = #d14d0f>**QUESTION 35**:</font> **In two to three sentences, write what you notice between the pathogens and animals summary tables. Why are there these differences?**\n"
      ]
    },
    {
      "cell_type": "markdown",
      "metadata": {
        "id": "69q6LaxxqjPn"
      },
      "source": [
        "**Answer:**\n",
        "\n",
        "Double tap on this cell to edit the text. Replace this with your answer."
      ]
    },
    {
      "cell_type": "markdown",
      "metadata": {
        "id": "PvXh30CpqjPn"
      },
      "source": [
        "---\n",
        "# 7. C-Value Paradox"
      ]
    },
    {
      "cell_type": "markdown",
      "metadata": {
        "id": "BTMCzQGxqjPo"
      },
      "source": [
        "\n",
        "<font color = #d14d0f>**QUESTION 36**:</font> **Read the following article titled [\"The size of the genome and the complexity of living beings\"](https://metode.org/issues/monographs/the-size-of-the-genome-and-the-complexity-of-living-beings.html). What is the C-value paradox?**\n"
      ]
    },
    {
      "cell_type": "markdown",
      "metadata": {
        "id": "smNdpN6aqjPo"
      },
      "source": [
        "**Answer:**\n",
        "\n",
        "Double tap on this cell to edit the text. Replace this with your answer."
      ]
    },
    {
      "cell_type": "markdown",
      "metadata": {
        "id": "UK0CtFzvqjPo"
      },
      "source": [
        "\n",
        "<font color = #d14d0f>**QUESTION 37**:</font> **Choose two organisms from `species`, `pathogens`, and/or `animals` that exhibit the C-value paradox.** Feel free to use the code cell below to look at the tables with `<table_name>.show()>`. **In the text box below, write the scientific names of the two organisms that you're comparing.**\n"
      ]
    },
    {
      "cell_type": "code",
      "execution_count": null,
      "metadata": {
        "scrolled": true,
        "id": "StYKdTNpqjPo"
      },
      "outputs": [],
      "source": [
        "### Optional: Use this cell for code to view data -- write your answer in the cell below this"
      ]
    },
    {
      "cell_type": "markdown",
      "metadata": {
        "id": "yrm1KwHHqjPo"
      },
      "source": [
        "**Answer:**\n",
        "\n",
        "Double tap on this cell to edit the text. Replace this with your answer."
      ]
    },
    {
      "cell_type": "markdown",
      "metadata": {
        "id": "jznB9nLpqjPp"
      },
      "source": [
        "\n",
        "<font color = #d14d0f>**QUESTION 38**:</font> **Create a scatter plot to visualize the comparison. Include `plt.title(\"___ vs ___\")` as the last line in your code cell with a descriptive title so we can understand your visualization.**\n",
        ">*Hint:*<br>- Use the scatter plots we made above for reference!<br>- If you feel that a summary statistics table would help explain your argument, feel free to use either of the two already created: `pathogens_summary` or `animals_summary`.\n",
        "\n"
      ]
    },
    {
      "cell_type": "code",
      "execution_count": null,
      "metadata": {
        "id": "TOgRXG1RqjPp"
      },
      "outputs": [],
      "source": [
        "## YOUR CODE HERE\n",
        "plt.title(...)"
      ]
    },
    {
      "cell_type": "markdown",
      "metadata": {
        "id": "0Ij3y9o2qjPp"
      },
      "source": [
        "\n",
        "<font color = #d14d0f>**QUESTION 39**:</font> **Write one paragraph interpreting your visualization(s) and explaining how it demonstrates the C-value paradox.**"
      ]
    },
    {
      "cell_type": "markdown",
      "metadata": {
        "id": "NdHZj8IdqjPp"
      },
      "source": [
        "**Answer:**\n",
        "\n",
        "Double tap on this cell to edit the text. Replace this with your answer."
      ]
    },
    {
      "cell_type": "markdown",
      "metadata": {
        "id": "fz3c11gLqjPp"
      },
      "source": [
        "\n",
        "<font color = #d14d0f>**QUESTION 40**:</font> **In one to two sentences, hypothesize why a less complex organism may have a bigger genome size.**\n"
      ]
    },
    {
      "cell_type": "markdown",
      "metadata": {
        "id": "W-dymswTqjPq"
      },
      "source": [
        "**Answer:**\n",
        "\n",
        "Double tap on this cell to edit the text. Replace this with your answer."
      ]
    },
    {
      "cell_type": "markdown",
      "metadata": {
        "id": "I5ki5yadqjPq"
      },
      "source": [
        "---\n",
        "# 8. Conclusion"
      ]
    },
    {
      "cell_type": "markdown",
      "metadata": {
        "id": "LPkIEFAkqjPq"
      },
      "source": [
        "Over the course of this notebook, you:\n",
        "* Explored genome size data in various species.\n",
        "* Used summary statistics to understand data distributions.\n",
        "* Created visualizations such as histograms and scatter plots.\n",
        "* Investigated the C-value paradox and compare genome sizes across different organisms."
      ]
    },
    {
      "cell_type": "markdown",
      "metadata": {
        "id": "lGFEIN4DqjPq"
      },
      "source": [
        "### Congratulations! You have finished the notebook! ##"
      ]
    },
    {
      "cell_type": "markdown",
      "metadata": {
        "id": "GsNNkB7MqjPq"
      },
      "source": [
        "***\n",
        "## *Optional Exercise*"
      ]
    },
    {
      "cell_type": "markdown",
      "metadata": {
        "id": "zvJazXz6qjPr"
      },
      "source": [
        "### Comparing pathogens and animals"
      ]
    },
    {
      "cell_type": "code",
      "execution_count": null,
      "metadata": {
        "id": "_JIXCE_gqjPr"
      },
      "outputs": [],
      "source": [
        "# We need to merge the tables before comparing.\n",
        "\n",
        "# First, add a new column named 'Type' to each table which says either 'Pathogens' or 'Animals'\n",
        "# Hint: table.append_column(column_name, word)\n",
        "\n",
        "\n",
        "\n",
        "# Now define merged by setting it equal to pathogens. Then use the table.append(table2) syntax to merge the tables\n"
      ]
    },
    {
      "cell_type": "code",
      "execution_count": null,
      "metadata": {
        "id": "_EQrVoWnqjPr"
      },
      "outputs": [],
      "source": [
        "# Make the normalized pivot histogram of genome sizes with 50 bins\n"
      ]
    },
    {
      "cell_type": "markdown",
      "metadata": {
        "id": "tV_dQJDkqjPs"
      },
      "source": [
        "The scaling is kind of distorted because of the wide range of values. Perhaps a log transformation would make things look better?"
      ]
    },
    {
      "cell_type": "code",
      "execution_count": null,
      "metadata": {
        "id": "8ZP7dLgWqjPs"
      },
      "outputs": [],
      "source": [
        "# Append a new column named 'Log size'\n",
        "# Use np.log10 to take the log10 of the 'Size' column. Remember that these are in Mb, so you should add 6 after taking the log!\n",
        "\n"
      ]
    },
    {
      "cell_type": "code",
      "execution_count": null,
      "metadata": {
        "id": "2eANNlpbqjPs"
      },
      "outputs": [],
      "source": [
        "# Make the normalized pivot histogram of genome sizes with 50 bins\n"
      ]
    }
  ],
  "metadata": {
    "kernelspec": {
      "display_name": "Python 3 (ipykernel)",
      "language": "python",
      "name": "python3"
    },
    "language_info": {
      "codemirror_mode": {
        "name": "ipython",
        "version": 3
      },
      "file_extension": ".py",
      "mimetype": "text/x-python",
      "name": "python",
      "nbconvert_exporter": "python",
      "pygments_lexer": "ipython3",
      "version": "3.9.7"
    },
    "colab": {
      "provenance": [],
      "include_colab_link": true
    }
  },
  "nbformat": 4,
  "nbformat_minor": 0
}