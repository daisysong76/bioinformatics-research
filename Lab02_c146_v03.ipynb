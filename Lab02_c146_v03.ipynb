{
  "cells": [
    {
      "cell_type": "markdown",
      "metadata": {
        "id": "view-in-github",
        "colab_type": "text"
      },
      "source": [
        "<a href=\"https://colab.research.google.com/github/daisysong76/bioinformatics-research/blob/main/Lab02_c146_v03.ipynb\" target=\"_parent\"><img src=\"https://colab.research.google.com/assets/colab-badge.svg\" alt=\"Open In Colab\"/></a>"
      ]
    },
    {
      "cell_type": "markdown",
      "metadata": {
        "id": "C-E9lxymgktn"
      },
      "source": [
        "\n",
        "\n",
        "\n",
        "# [DS4Bio] Lab 2: STR Algorithms\n",
        "### Data Science for Biology\n",
        "**Notebook developed by:** *Sarp Dora Kurtoglu*<br>\n",
        "Adapted and inspired from **Harvard CS50x** from 2021 with permission from David Malan. <br>\n",
        "See [this video](https://cs50.harvard.edu/x/2021/psets/6/dna/) for another introduction to this topic.<br>\n",
        "**Notebook updated by:** *Skye Pickett, Zcjanin Ollesca, Xiaomei Song, Diego Sotomayor, Evie Currington*\n",
        "\n",
        "\n",
        "### Learning Outcomes\n",
        "\n",
        "In this notebook, you will learn about:\n",
        "* Short Tandem Repeats in Human Genomes\n",
        "* Forensic Analysis using DNA matching\n",
        "* While, For, and Nested Loops in Python\n",
        "* Counting STR in DNA sequences\n",
        "* Identifying DNA matches between sample and database\n",
        "\n",
        "\n",
        "## Table of Contents\n",
        "1. [Short Tandem Repeats (STRs)](#1.-Short-Tandem-Repeats-(STRs))\n",
        "1. [Python Review](#2.-Python-Review)\n",
        "1. [Your Turn: Identifying DNA Matches](#3.-Your-Turn:-Identifying-DNA-Matches)\n",
        "1. [Conclusion](#4.-Conclusion)\n",
        "***"
      ]
    },
    {
      "cell_type": "markdown",
      "source": [
        "### Helpful Data Science Resources\n",
        "Here are some resources you can check out while doing this notebook!\n",
        "\n",
        "- [Reference Sheet for the datascience Module](http://data8.org/sp22/python-reference.html)<br>(This is extremely helpful whenever you need a cheatsheet!)\n",
        "- [Documentation for the datascience Module](http://data8.org/datascience/index.html)\n",
        "\n",
        "### Peer Consulting\n",
        "\n",
        "If you find yourself having trouble with any content in this notebook, Data Peer Consultants are an excellent resource! Click [here](https://dlab.berkeley.edu/training/frontdesk-info) to locate live help.\n",
        "\n",
        "Peer Consultants are there to answer all data-related questions, whether it be about the content of this notebook, applications of data science in the world, or other data science courses offered at Berkeley.\n",
        "\n",
        "---"
      ],
      "metadata": {
        "id": "J6M0PjuJJQKR"
      }
    },
    {
      "cell_type": "markdown",
      "source": [
        "To prepare our notebook environment, run the following cell which imports the necessary packages. It will print `All necessary packages have been imported.` below the cell when it's completed importing."
      ],
      "metadata": {
        "id": "RWJqMu1HJdAy"
      }
    },
    {
      "cell_type": "code",
      "execution_count": null,
      "metadata": {
        "id": "Fd9kjpX9gktr",
        "colab": {
          "base_uri": "https://localhost:8080/",
          "height": 232
        },
        "outputId": "e4d55cb5-044d-4284-f21c-9052ee8cb3c3"
      },
      "outputs": [
        {
          "output_type": "error",
          "ename": "TypeError",
          "evalue": "ignored",
          "traceback": [
            "\u001b[0;31m---------------------------------------------------------------------------\u001b[0m",
            "\u001b[0;31mTypeError\u001b[0m                                 Traceback (most recent call last)",
            "\u001b[0;32m<ipython-input-1-e06272e0d6ce>\u001b[0m in \u001b[0;36m<cell line: 2>\u001b[0;34m()\u001b[0m\n\u001b[1;32m      1\u001b[0m \u001b[0;32mfrom\u001b[0m \u001b[0mdatascience\u001b[0m \u001b[0;32mimport\u001b[0m \u001b[0mTable\u001b[0m\u001b[0;34m\u001b[0m\u001b[0;34m\u001b[0m\u001b[0m\n\u001b[0;32m----> 2\u001b[0;31m \u001b[0ma\u001b[0m\u001b[0;34m,\u001b[0m \u001b[0mb\u001b[0m\u001b[0;34m,\u001b[0m \u001b[0mc\u001b[0m \u001b[0;34m=\u001b[0m \u001b[0;34m...\u001b[0m \u001b[0;31m# answer key\u001b[0m\u001b[0;34m\u001b[0m\u001b[0;34m\u001b[0m\u001b[0m\n\u001b[0m\u001b[1;32m      3\u001b[0m \u001b[0;34m\u001b[0m\u001b[0m\n\u001b[1;32m      4\u001b[0m \u001b[0mprint\u001b[0m\u001b[0;34m(\u001b[0m\u001b[0;34m\"All necessary packages have been imported.\"\u001b[0m\u001b[0;34m)\u001b[0m\u001b[0;34m\u001b[0m\u001b[0;34m\u001b[0m\u001b[0m\n",
            "\u001b[0;31mTypeError\u001b[0m: cannot unpack non-iterable ellipsis object"
          ]
        }
      ],
      "source": [
        "from datascience import Table\n",
        "a, b, c = ... # answer key\n",
        "\n",
        "print(\"All necessary packages have been imported.\")"
      ]
    },
    {
      "cell_type": "markdown",
      "metadata": {
        "id": "iBuDTjUCgkts"
      },
      "source": [
        "##1.  Short Tandem Repeats (STRs)"
      ]
    },
    {
      "cell_type": "markdown",
      "metadata": {
        "id": "w5Sn8B09gktt"
      },
      "source": [
        "***\n",
        "###1.1 Definition\n",
        "Short tandem repeats (STRs) are **short sequences of DNA that repeat *consecutively* at specific locations on the human genome**. Within the human population, the numbers of times specific STRs repeat vary greatly, which leads to ways of differentiating people given their STR counts. Different people have each type of STR repeated different numbers of times within their genomes.\n",
        "\n",
        "For example, in the sequence below, the STR with the sequence \"agat\" repeats 6 times:\n",
        "\n",
        "dna = aatgtc<mark>**agat**agat**agat**agat**agat**agat</mark>ccgttga"
      ]
    },
    {
      "cell_type": "markdown",
      "metadata": {
        "id": "eSx2xfvMgktt"
      },
      "source": [
        "***\n",
        "###1.2 STR Analysis in Forensics\n",
        "Everyone has a fixed number of STRs at different locations on their chromosomes, with varying numbers for each individual within the population. Law enforcement, including the FBI, **uses STR analysis to perform computational forensics analyses and fingerprinting**. The FBI uses 20 different CODIS (Combined DNA Index System) core loci to perform forensics analyses. In this lab, we will take a simplified approach and explore only a few STR sequences in an unknown individual's DNA sequence.\n",
        "\n",
        "\n",
        "See this [link](https://www.fbi.gov/services/laboratory/biometric-analysis/codis/codis-and-ndis-fact-sheet) to learn more about how STRs are used in forensic analyses by FBI."
      ]
    },
    {
      "cell_type": "markdown",
      "metadata": {
        "id": "vRgFno_Mgktu"
      },
      "source": [
        "***\n",
        "##2. Python Review"
      ]
    },
    {
      "cell_type": "markdown",
      "metadata": {
        "id": "B3s85wmTgktv"
      },
      "source": [
        "***\n",
        "###2.1 While Loops\n",
        "#####**Syntax:** *while [condition]*\n",
        "            \n",
        "While loops will continue to run the lines of code under it *while* the condition is true. Once the condition turns false, the code under the while loop will not run anymore.\n",
        "\n",
        "**Example:**<br>\n",
        "To count how many T nucleotides are present in just the *first 30 nucleotides-long section of a DNA sequence*, we can use a while loop and specify 30. See the code cell."
      ]
    },
    {
      "cell_type": "code",
      "execution_count": null,
      "metadata": {
        "id": "CfXpSkYKgktw"
      },
      "outputs": [],
      "source": [
        "dna = \"gtagctagctacattatagctgagcggccgtcgattgctagtgctagcatgcgttagctagcatc\"\n",
        "\n",
        "index = 0\n",
        "t_count = 0\n",
        "dna_len = 30 # we want it to iterate through the first 30 letters\n",
        "while index < dna_len:\n",
        "    if dna[index] == \"t\":\n",
        "        t_count += 1 # everytime we see a t, we increase our count by 1\n",
        "    index += 1 # we have to increase our index by 1 everytime, or the while loop will run forever\n",
        "\n",
        "print(\"Number of t nucleotides in the first 30 nucleotides (found by While Loop): \", t_count)\n"
      ]
    },
    {
      "cell_type": "markdown",
      "metadata": {
        "id": "XPhnWvAxgktz"
      },
      "source": [
        "***\n",
        "###2.2 For Loops\n",
        "##### **Syntax:** *for [index] in [iterable]*\n",
        "\n",
        "For loops will iterate through each element of an iterable object (could also be a string) in order. For example, the for loop can be used to iterate through each nucleotide in a DNA sequence and count how many **t** nucleotides are present in the whole sequence.\n",
        "\n",
        "*We made a variable called **t_count** that is an integer value, initially equal to zero, that increases by 1 each iteration of the for loop.* See the example below:"
      ]
    },
    {
      "cell_type": "code",
      "execution_count": null,
      "metadata": {
        "id": "aCJazuXxgkt1"
      },
      "outputs": [],
      "source": [
        "dna = \"gtagctagctacattatagctgagcggccgtcgattgctagtgctagcatgcgttagctagcatc\"\n",
        "\n",
        "t_count = 0\n",
        "for nuc in dna: # everytime the for loop runs, nuc takes on the next character in the dna string\n",
        "    if nuc == \"t\":\n",
        "        t_count += 1\n",
        "print(\"Number of t nucleotides in full sequence (found by For Loop): \", t_count)\n"
      ]
    },
    {
      "cell_type": "markdown",
      "metadata": {
        "id": "vYsdFgYygkt2"
      },
      "source": [
        "**Example:**<br>\n",
        "Similarly to the previous example, we can use **for loops** to count the number of t nucleotides present only in the first 30-nucleotides long section of the DNA. Now we need to specify that we'd like to run the for loop for a certain number of times (30 times). We use `range(30)` so that `index` takes on these values at each iteration: `index = 0, index = 1, ..., index = 28, index = 29`. See the code below:"
      ]
    },
    {
      "cell_type": "code",
      "execution_count": null,
      "metadata": {
        "id": "1LssFjORgkt3"
      },
      "outputs": [],
      "source": [
        "dna = \"gtagctagctacattatagctgagcggccgtcgattgctagtgctagcatgcgttagctagcatc\"\n",
        "\n",
        "t_count = 0\n",
        "for index in range(30): #range(x) creates a list of integers from 0 to x-1\n",
        "    if dna[index] == \"t\":\n",
        "        t_count += 1\n",
        "print(\"Number of t nucleotides in the first 30 nucleotides (found by For Loop): \", t_count)"
      ]
    },
    {
      "cell_type": "markdown",
      "metadata": {
        "id": "HgqEwnKCgkt3"
      },
      "source": [
        "Another way you can accomplish this by using **break**. Once the program encounters `break` in a loop, it leaves that loop immediately. Generally, we recommend the above methods over this one, because break can be a bit more complicated and is a somewhat 'hard-coding' solution.\n",
        "\n",
        "In the code below, you can see that we have an if statement that checks if we're at the 30th index. If it is, then we break out of the loop."
      ]
    },
    {
      "cell_type": "code",
      "execution_count": null,
      "metadata": {
        "id": "TSqw6qRxgkt3"
      },
      "outputs": [],
      "source": [
        "dna = \"gtagctagctacattatagctgagcggccgtcgattgctagtgctagcatgcgttagctagcatc\"\n",
        "\n",
        "t_count = 0\n",
        "index = 0\n",
        "for nuc in dna:\n",
        "    if index == 30:\n",
        "        break # break exits the loop it is called in\n",
        "    if nuc == \"t\":\n",
        "        t_count += 1\n",
        "    index += 1 # we need to increment it to keep track of how many times the for loop ran\n",
        "\n",
        "print(\"Number of t nucleotides in the first 30 nucleotides (found by For Loop with Break): \", t_count)"
      ]
    },
    {
      "cell_type": "markdown",
      "metadata": {
        "id": "kBzHmpFqgkt4"
      },
      "source": [
        "Lastly, the most efficient and concise way to tackle the same problem would be using a **for loop** with the iterable specified being the actual variable name, `dna`. `dna[0:30]` ensures that the loop iterates through the first 30 of the variable and adds to `t_count` in the same way as before."
      ]
    },
    {
      "cell_type": "code",
      "execution_count": null,
      "metadata": {
        "id": "7yH9BR3Ggkt5"
      },
      "outputs": [],
      "source": [
        "t_count = 0\n",
        "for nuc in dna[0:30]: # everytime the for loop runs, nuc takes on the next character in the dna string\n",
        "    if nuc == \"t\":\n",
        "        t_count += 1\n",
        "\n",
        "print(\"Number of t nucleotides in the first 30 nucleotides (found by For Loop): \", t_count)"
      ]
    },
    {
      "cell_type": "markdown",
      "metadata": {
        "id": "wx-Wvs8egkt5"
      },
      "source": [
        "***\n",
        "###2.3 Nested Loops\n",
        "\n",
        "**Nested loops** are where we combine multiple loops together to **parse through non-linear structures**.\n",
        "\n",
        "In nested loops, one loop is inside another one, so at each iteration of the outer loop, the inner loop runs to completion. For example, to iterate through each cell of a 4x4 matrix, we would need to use a nested loop, as shown below:"
      ]
    },
    {
      "cell_type": "code",
      "source": [
        "matrix = [[0, 1, 2, 3], [4, 5, 6, 7], [8, 9, 10, 11], [12, 13, 14, 15]]\n",
        "matrix # This is a 4x4 matrix.\n",
        "# You can imagine each inner list as a column. The first row would be the first\n",
        "##  elements of each inner list: [0, 4, 8, 12]\n",
        "# [0, 4, 8, 12 ]\n",
        "# [1, 5, 9, 13 ]\n",
        "# [2, 6, 10, 14]\n",
        "# [3, 7, 11, 15]"
      ],
      "metadata": {
        "id": "qPaP93FXQSUj"
      },
      "execution_count": null,
      "outputs": []
    },
    {
      "cell_type": "code",
      "execution_count": null,
      "metadata": {
        "id": "L1B0IFCsgkt5"
      },
      "outputs": [],
      "source": [
        "## Nested for loop\n",
        "for i in range(len(matrix)): #iterates through the # of column\n",
        "    for j in range(len(matrix[i])): #iterates through the # of row\n",
        "        print(matrix[i][j]) #prints each column completely in order\n",
        "    print(\"\\n\")\n"
      ]
    },
    {
      "cell_type": "markdown",
      "metadata": {
        "id": "06Y4vYNhgkt6"
      },
      "source": [
        "We could also set up the nested for loop to iterate through `matrix` itself, rather than ranges of the length of the matrix rows/columns. This does the same thing!"
      ]
    },
    {
      "cell_type": "code",
      "execution_count": null,
      "metadata": {
        "scrolled": true,
        "id": "YvTpf7uggkt6"
      },
      "outputs": [],
      "source": [
        "# [0, 4, 8, 12 ]\n",
        "# [1, 5, 9, 13 ]\n",
        "# [2, 6, 10, 14]\n",
        "# [3, 7, 11, 15]\n",
        "\n",
        "for i in range(len(matrix)): #iterates through the # of column\n",
        "    for j in matrix[i]: #iterates trough the column, j stands for each element of a particular column (matrix[i])\n",
        "        print(j) #prints each column completely in order\n",
        "    print(\"\\n\")"
      ]
    },
    {
      "cell_type": "markdown",
      "metadata": {
        "id": "Ad__EJQTgkt7"
      },
      "source": [
        "***\n",
        "###2.4 Practice with Loops\n",
        "<font color = #d14d0f>**QUESTION 1**:</font>\n",
        "**In the above examples, we were able to print each column separately, but we lost the columns. Print out the matrix from the above examples (`matrix`) in the shape of a matrix (4x4), retaining the columns and rows:** Use the code cell below."
      ]
    },
    {
      "cell_type": "code",
      "execution_count": null,
      "metadata": {
        "id": "1I9okEb-gkt7"
      },
      "outputs": [],
      "source": [
        "# Exercise\n",
        "\n",
        "# Your output should exactly look like this matrix:\n",
        "# [0, 4, 8, 12 ]\n",
        "# [1, 5, 9, 13 ]\n",
        "# [2, 6, 10, 14]\n",
        "# [3, 7, 11, 15]\n"
      ]
    },
    {
      "cell_type": "markdown",
      "metadata": {
        "id": "I0RhqjTZgkt7"
      },
      "source": [
        "\n",
        "Now, let's look through a harder example with nested loops for better understanding. Let's say we want to calculate the **longest length of a DNA sequence** where there is **no** Thymine nucleotide present.\n",
        "\n",
        ">One way to do this is to start at position 0 in the string, and successively look at each nucleotide of the DNA sequence `seq` one at a time, and count the number of nucleotides until we encounter the first “t”. Then we could do the same thing starting at position 1. Then, at position 2. Then at position 3, ... through the last position.\n",
        "\n",
        "So, we calculate the longest sections of DNA, starting at each position, without Thymine. Then\n",
        "we can take the *highest value*, which would be equivalent to the **length** of the longest section of\n",
        "the DNA sequence without a Thymine.<br> *Read through the code cell below to understand this process.*"
      ]
    },
    {
      "cell_type": "code",
      "execution_count": null,
      "metadata": {
        "id": "QrIPRlLtgkt8",
        "outputId": "0d54e777-6caa-4b64-e002-6890371985c5",
        "colab": {
          "base_uri": "https://localhost:8080/"
        }
      },
      "outputs": [
        {
          "output_type": "stream",
          "name": "stdout",
          "text": [
            "The longest section of the DNA sequence without a Thymine is 51 nucleotides long.\n"
          ]
        }
      ],
      "source": [
        "seq = \"atatatagagcacgagcagcatcgacatcagcagcgacgacagcacgacagaggagcagcacccggcgcgcgagcagcattagcagcatc\"\n",
        "\n",
        "max = 0 # our maximum length without a Thymine, we start at 0 and will update it throughout\n",
        "for index in range(len(seq)): # index iterates through the sequence, takes on the position of each nucleotide\n",
        "    cur_max = 0 # this is to count the longuest run of the sequence without a Thymine starting from the index positioned nucleotide\n",
        "    for nuc in seq[index:]: # seq[index:] gets rid of the nucleotides of the sequence with positions smaller than index (for simplicity)\n",
        "        if nuc == \"t\":\n",
        "            if (cur_max > max): # once we see a Thymine, compare the overall maximum count with our current count and update max if needed\n",
        "                max = cur_max\n",
        "            break # leaves the inner loop\n",
        "        else:\n",
        "            cur_max += 1 # increases the count as long as we don't see a Thymine\n",
        "max\n",
        "print(\"The longest section of the DNA sequence without a Thymine is\", max, \"nucleotides long.\")"
      ]
    },
    {
      "cell_type": "markdown",
      "metadata": {
        "id": "PLIp-oZygkt9"
      },
      "source": [
        "***\n",
        "##3. Your Turn: Identifying DNA Matches\n",
        "Let's say you are a forensics analyst at the FBI. One day, your coworkers bring you a DNA sample from a nearby crime scene. <br>**Your task is to try to find if this DNA sample has any matches in your DNA databases!**"
      ]
    },
    {
      "cell_type": "markdown",
      "metadata": {
        "id": "t64a-QNOgkt9"
      },
      "source": [
        "We have acquired the following DNA sequence `sample_dna` from the crime scene:"
      ]
    },
    {
      "cell_type": "code",
      "execution_count": null,
      "metadata": {
        "id": "3zii_XsLgkuA",
        "colab": {
          "base_uri": "https://localhost:8080/",
          "height": 178
        },
        "outputId": "158e8221-996c-432b-afe0-1703ff4ae9aa"
      },
      "outputs": [
        {
          "output_type": "execute_result",
          "data": {
            "text/plain": [
              "'GGGGGACGGTTTGTCTCACGCCTGTTGGTACCCTGAGTCCCCCACAATACCACAACCGTCGATCTTGAACGGTACCCTCATAGCGATAGAGACCCTTGCGGCTGAATTGCAATTACTCCAGTCACTTCCTGCCGGTGACCTGTCATGTATGAACAGGAGTCTCCTACTGGAGTAGTCACTTTTTGTAGACACAACTCGTGACTCACGGCGGGCGTGACTCCGCCTTATCACTTGGTTTGTATAGGGCCACTGGAGCCTGCGCTTGAGTCTTCGCTTGTAGCAGTAACGTTCCGGGAACACCCGTTGGCTATTCGGCGCCCGCGAGGTGCAGCGTAGCATTTTCGCGCCTCCAACGTCATATTAACATCCGAAAGGACCTATCTGGAACCAGACATCTTCGTTGCGTTCTATATATCCGCCCCACGTGGATGGATGTCGGGCTCGTTGCCAATAGAGCCTTATTAGCGTTTTCTGGACAATCGCAAGCAGGTCTGAGATGACTGCACCTATTTTCATGGGCACGAGTCTCTTGTCGGCACCTACGACTTATGAACCCGAACATGCATTGTTCCCGAGCACAGCGGACACGCAGTCGCCTTCCCTTACGCCATAGTCTGGGCCCCCACGGACTATCCCTCTAAGCACCTCGTCCGCTGACTATATTTCGAGTGAGTAACCGCTCCACGTGATGCCCCGGTTTGACAACATTACGCAGAGTCTCACAGCCATTGCTTCCGCCATGACATTCCGCTGGCTTCAACATAAATACACCCTACACAGAGACGGTTCTTCGGTCCGAAGTTCGGAGCTGCTTAGGTTGCAAGCAAAACCCTTAGGTCGCCAACCGTGTAGTTAGTCTCTGGGGGCGGGATGGGTCCTAGCCAGAATGATGATTGAAGAACCGTTCAGCAATTTTTGTTAGCGACTTTCCAGACGCGGTACCATGCGGTAGTACCGAAGGAGTACCCAAAGGTGGGCTCCGTTTTAAAAAAGGTAGCTGGGGCACCGGGAGCATCACGAGTTGGGTCGACTGTGAGAGTTTAGCACCAGACTTAGCGCTGTACCTACGACCTGGCTGTTGCACACGTAATACCGAAGTATAAATCACCTGTTAAACACGATGGACTAGTGACTTGTAGCGGTCTCCGCGAAAGAAAGAAAGAAAGAAAGAAAGAAAGAAAGAAAGAAAGAAAGAAAGAAAGAAAGAAAGAAAGAAAGAAAGAAAGAAAGAAAGAAAGAAAGAAAGAAAGAAAGAAAGAAAGAAAGAAAGAAACCGTAAGAAGATAACTAACACCCCTGATTGTACTATGATAAGGTGATATCTAACCATCAATCAATTGGAAACATTATAAATATAAGTCTTTGTGGTCGCTATCCTTGACTCGCAATGATCAAGGACACGGCTGCCTGATGTGGTCCGCCCTTATTTTTAACTCGAGGGACGGCCAAGGGGGTATATGCGACAGCCACCAAACCATCCTGACTCGCAAATCCCAACCATTAATGATGCTTAATTTGTTGGACGATAGGTAAATATATCTATCTATCTATCTATCTATCTATCTATCTATCTATCTATCTATCTATCTATCTATCTATCTATCTATCTATCTATCTATCTATCTATCTATCTATCTATCTATCTATCTATCTATCTATCTATCTATCTATCTATCTATCTATCTATCTATCTATCTATCTATCTATCTATCTATCTATCTATCGACTGGAAGTCCTTCAGCACGACCCGAGATCATGGCCAGATATCTCCCGGCTACGACCAATGAATGAATGAATGAATGAATGAATGAATGAATGAATGAATGAATGAATGAATGAATGAATGAATGAATGCGAGCGTGATTATAGACGACCATCCACTTCACTTGTGTTTCTGTAGGTCATCAGATCACGTCATCACCGAGGAATAGCTGTGACAATCCGTTAAACTATGGACGCGAAGGGCGAGATGTTATCAGAACCTTACCGTTGCCGCGAGCAGGAGCGTACTACAGGCGGGGGCGCACGTGCCTCTAGTCCGGCTGTGAAAAAGTTGGTCCAGCACTACGTTCTGCCGCCCACAAGTGGAGTACGCCAGTGGGGGTGATGCTGCATTCTGCGCTCCAATGGTTACGTCGGTCCAGTTTTTTCTTTTTTTCTTTTTTTCTTTTTTTCTTTTTTTCTTTTTTTCTTTTTTTCTTTTTTTCTTTTTTTCTTTTTTTCTTTTTTTCTTTTTTTCTTTTTTTCTTTTTTTCTTTTTTTCTTTTTTTCTTTTTTTCTTTTTTTCTTTTTTTCTTTTTTTCTTTTTTTCTTTTTTTCTTTTTTTCTTTTTTTCTTTTTTTCTTTTTTTCTTTTTTTCTTTTTTTCTTTTTTTCTTTTTTTCTTTTTTTCTGACCACTATATCAAGGTGTCTTTCGGTCCAGGCTAGGAGGAACTTACCTCGCGGGAATAAGATCCCCAGTCCTTTTTAGCTCGACATTCGTGTTTTCTTGGGGACAGTAACTCATCATCCAAGGTGTAAAAGTATTCTAAGGTGCTCTCTTCTATGATCACACACTGCATCCGCTACTCAACATAGCTCGCGGGCCAACAACGTAGCGAAAGGTCGATTCTCCATACAAAAATATCATACTAGCCGGTTAACTAAACGGATTACCTCTTCCGCCGGAACATCTGAATCCATTACTACCGTGTGGTGCATGTTCACATCTTCGCGGTACATGCAGGAACAGTATGTAATGCTCTCGCGAGCCCTATGTGGCCAGGCTAAATGGGTTTACTGCTCAGCTAGTCCCGCCGAAATGACCATCAAATTGCCCGCTCACCCTTATCGCAGACTTCTACGAGAACGAGGTCCCGTTGGGATCAGAGGGAACCCCCAATTGTCAACGCTCCGTGGGTAGGAAAGATCACACCATGTTATCGAAAACATGGGTCCTCTGTATGTCGTAAAGGACCCAGCGAAAAAATTTATTAACGTGGATGGTTACCAGCTTGTTTTAAGAGCACGTCGACCGACACCAAGTCAATCTATTCCCCTCCATATCACGTTGCGAAGAGGTGCAGAGGTCTGTCTGTCTGTCTGTCTGTCTGTCTGTCTGTCTGTCTGTCTGTCTGTCTGTCTGTCTGTCTGTCTGTCTGTCTGTCTGTCTGTCTGTCTGTCTGTCTGTCTGTCTGTCTGTCTGTCTGTCTGTCTGTCTGTCTGTCTGTCTGAGGGCATCACACGGCGGTATACGCATTCAGACCTACACGATGTAAACGCCCAGTTAGGCGCAGATTATCACTGTACACCGACGTTCACCGCTGATAGGGTACTACCTCTCTAGAAGATAGATAGATAGATAGATAGATAGATAGATAGATAGATAGATAGATAGATAGATAGATAGATAGATAGATAGATAGATAGATAGATAGATAGATAGATAGATAAGATCAGATCAGATCAGATCAGATCAGATCAGATCAGATCAGATCAGATCAGATCAGATCAGATCAGATCAGATCAGATCAGATCAGATCAGATCAGATCAGATCAGATCAGATCAGATCAGATCAGATCAGATCAGATCAGATCAGATCAGATCAGATCAGATCAGATCAGATCAGATCAGATCAGATCAGATCAGATCAGATCAGATCAGATCGTTCCTAGTTGCTACCCAACTTGCCTCAATCGGTAGCACCTGAGCACTACGTGTAAACCTAGTAATGTTATGTACCGTGTGGCCGGAGTCTCAGCGACCAGAGAGTGCGAATTGCTCGAATATAGCCTCCGCCAAGTGATATCATAGTCCGGGTAACCAAGTAGTCTCTGTCCGACTAGGCCGCAAGCTTAGTCTAATCTAGTCTAGTCTAGTCTAGTCTAGTCTAGTCTAGTCTAGTCTAGTCTAGTCTAGTCTAGTCTAGTCTAGTCTAGTCTAGTCTAGTCTAGTCTAGTCTAGTCTAGTCTAGTCTAGTCTAGTCTAGACCAACCTAAGTCCTTCGCGTGGGCTTTGACGGTCGGAAAAGGCAGGCCTGCCTTTCTCAATGTTGGATACAGTACCACACATCACTCCGCCGTGTTAGAGCGTAGGGAGACGTTGAGAACCGAACTACCGTGTCGCACATCATGATTTGCTTAATCAATTATTCGGTTACGGTATTCACGCGGACTCCGACGTATAGAATATAAGGTTTACACATGCGAAGAGCCCTGTGTATAGTTGCCCGCATCGAGGGTAACTATGTAAGCTATTGTGTGTGAGTAGTTAGCTACTAACGTGAGCCACCTTAAAACGCTTTGCAGTGAGTTAGGACCTTCGGGGTCCGTGCCACCTTACGTTCGGCACTTCTCTACTTCCTGGCCACCAGCGTTCAGTCGACGCAGGGTAACCGTTCGCGCCACCAAGATAGAAAAGCGGGTCAGGGAGATAATGTACTATTTACTCTATACTACATCACAGGATAATGGTAGAAGCGTCTGAAATCCACCATCGCTCTCCAAATGGGTGGTCGTTAGTGCATTGAGGACTGATCATGCGGCCGCTTTGACGAGCAGGGAGATCTTATGCTGTATCAGGATATGTCGGAGCTTATCCAGCGGCCACGCCGAAGGGTCACCCCATCAACCAGTCGGCCATGTATGTATCCCACCGAACCTGTGATAGTCACTGATTCCGGACTAAGACAGCCGAGTATACAACAGTTTCGCCACATGACGCAGGGGACTATGTCGACCGATACGACTTCCAGTATCTTCTGTACCTACAGATTCCACTGCATAACTGTTAATAGCAGAAGAGAGTCTGCATACGATGGCTAATTAACGGGTCTACCGAACTGCGTCCCTGGCAGATCTTGCTAGCACTCCGCTGCAAGCACACTGAGGCTTAAGCTATTATACCATCTTGCTCTGGTTGCAGACAGGTATGATTCACTCTGTACCTCCGGATCTTTAGCCTTGCATTTACGTCCGGCCGTAACGCAGAAAATTATCTACATGTCTGTCAGTCTCGCGGCCTGCACCGAGTGCTCGTCGACGCTCTGGCCAGGGCGAAGATCAGATTCCGTTTGACTTAAGGGTAGTTAGTAGGCGGCCAACGTCTGGTGAAAGGGCTGTTAGACTTGTAGACTTCCGTCATTGGGTCTAATACTGCTATTGATCTATGCCTGCCAATAACACGATGATTAGCTGTATAGTGGGTAATCAGGGAACGTTTACGTTCCTCAAGAAAGAACTCAAAGCCCCAGATAGAAAATACAGACTACCCAACTTGCGGGTTCCACTATATGTTCACCCGTTACTTGCTGCAAACCGAGATCACCCAGCATTTCGACCACGAGCCTTAGATCCAAATGCCACACACCAGTTTAGCGATGAATGTGTATAACGGGTTCTTACAGAGAACTACCAATCCGTAGCCTACGACACCACGGACTCTAATCACCAGGAAGATACAGAACTTGTGGCTGTCTACTGACCGTACGGGTTTGGCCAAAATGAAGCCGCCTAATGGTGTCACCGAGACAGTGTCTCGCTTACCAAGTCCGAGGCCCCATCACGAAGCGTCTGTAGATAAGGATCCGTTCCGGCGCCTGGGACCCGATCGAGAGTTCAGCTGCTGAAAGGGGTGGCGTCGTATGCATCCTTACCTACATCAGTTACGTGCCTCCACCGTTCACAGGGTGGGAGCCTTGACTCTTGCGGAGGGCGGACTGCTTTTAGCGCCTACAGGTCGTACTGATTTAACAAAGCAGAAGCGCTGCCGGGGTCTCATATGGACTATATAAGCGACACACCTTGGACCGCAACTCGAAGACTTCTGGCCGCTAGTGCCCAGGATGTAAACCGAACTACGCCAAGTTGGGAAGAGAAAATCCATCTGACTGCACGGTTCTGTGGAAGATAATGGCCCTAACTTTGCTCTATTAATAAACTATTGACGCCCAAAAAGAACATGTACGGACTGACTGGTACTTCAATTAGCCACTGGTAGTAGTCCTCGATTCAAGGAATCTGTGACAGTCGTACCGCTATATTAATAAATCGCTAAGTGCCAAAGGTCCGACCGTACTGACTGCTGATGTACTTGATTCACGGGATGTTAATAGGAGCTTTGCAATGTGTGCTTAAGTCCAGTCATCTACGCGCTTGCGGCTTGATCCCAGAGTATAACACATAAATCAGACTGTAGCG'"
            ],
            "application/vnd.google.colaboratory.intrinsic+json": {
              "type": "string"
            }
          },
          "metadata": {},
          "execution_count": 4
        }
      ],
      "source": [
        "sample_dna = 'GGGGGACGGTTTGTCTCACGCCTGTTGGTACCCTGAGTCCCCCACAATACCACAACCGTCGATCTTGAACGGTACCCTCATAGCGATAGAGACCCTTGCGGCTGAATTGCAATTACTCCAGTCACTTCCTGCCGGTGACCTGTCATGTATGAACAGGAGTCTCCTACTGGAGTAGTCACTTTTTGTAGACACAACTCGTGACTCACGGCGGGCGTGACTCCGCCTTATCACTTGGTTTGTATAGGGCCACTGGAGCCTGCGCTTGAGTCTTCGCTTGTAGCAGTAACGTTCCGGGAACACCCGTTGGCTATTCGGCGCCCGCGAGGTGCAGCGTAGCATTTTCGCGCCTCCAACGTCATATTAACATCCGAAAGGACCTATCTGGAACCAGACATCTTCGTTGCGTTCTATATATCCGCCCCACGTGGATGGATGTCGGGCTCGTTGCCAATAGAGCCTTATTAGCGTTTTCTGGACAATCGCAAGCAGGTCTGAGATGACTGCACCTATTTTCATGGGCACGAGTCTCTTGTCGGCACCTACGACTTATGAACCCGAACATGCATTGTTCCCGAGCACAGCGGACACGCAGTCGCCTTCCCTTACGCCATAGTCTGGGCCCCCACGGACTATCCCTCTAAGCACCTCGTCCGCTGACTATATTTCGAGTGAGTAACCGCTCCACGTGATGCCCCGGTTTGACAACATTACGCAGAGTCTCACAGCCATTGCTTCCGCCATGACATTCCGCTGGCTTCAACATAAATACACCCTACACAGAGACGGTTCTTCGGTCCGAAGTTCGGAGCTGCTTAGGTTGCAAGCAAAACCCTTAGGTCGCCAACCGTGTAGTTAGTCTCTGGGGGCGGGATGGGTCCTAGCCAGAATGATGATTGAAGAACCGTTCAGCAATTTTTGTTAGCGACTTTCCAGACGCGGTACCATGCGGTAGTACCGAAGGAGTACCCAAAGGTGGGCTCCGTTTTAAAAAAGGTAGCTGGGGCACCGGGAGCATCACGAGTTGGGTCGACTGTGAGAGTTTAGCACCAGACTTAGCGCTGTACCTACGACCTGGCTGTTGCACACGTAATACCGAAGTATAAATCACCTGTTAAACACGATGGACTAGTGACTTGTAGCGGTCTCCGCGAAAGAAAGAAAGAAAGAAAGAAAGAAAGAAAGAAAGAAAGAAAGAAAGAAAGAAAGAAAGAAAGAAAGAAAGAAAGAAAGAAAGAAAGAAAGAAAGAAAGAAAGAAAGAAAGAAAGAAAGAAACCGTAAGAAGATAACTAACACCCCTGATTGTACTATGATAAGGTGATATCTAACCATCAATCAATTGGAAACATTATAAATATAAGTCTTTGTGGTCGCTATCCTTGACTCGCAATGATCAAGGACACGGCTGCCTGATGTGGTCCGCCCTTATTTTTAACTCGAGGGACGGCCAAGGGGGTATATGCGACAGCCACCAAACCATCCTGACTCGCAAATCCCAACCATTAATGATGCTTAATTTGTTGGACGATAGGTAAATATATCTATCTATCTATCTATCTATCTATCTATCTATCTATCTATCTATCTATCTATCTATCTATCTATCTATCTATCTATCTATCTATCTATCTATCTATCTATCTATCTATCTATCTATCTATCTATCTATCTATCTATCTATCTATCTATCTATCTATCTATCTATCTATCTATCTATCTATCTATCGACTGGAAGTCCTTCAGCACGACCCGAGATCATGGCCAGATATCTCCCGGCTACGACCAATGAATGAATGAATGAATGAATGAATGAATGAATGAATGAATGAATGAATGAATGAATGAATGAATGAATGCGAGCGTGATTATAGACGACCATCCACTTCACTTGTGTTTCTGTAGGTCATCAGATCACGTCATCACCGAGGAATAGCTGTGACAATCCGTTAAACTATGGACGCGAAGGGCGAGATGTTATCAGAACCTTACCGTTGCCGCGAGCAGGAGCGTACTACAGGCGGGGGCGCACGTGCCTCTAGTCCGGCTGTGAAAAAGTTGGTCCAGCACTACGTTCTGCCGCCCACAAGTGGAGTACGCCAGTGGGGGTGATGCTGCATTCTGCGCTCCAATGGTTACGTCGGTCCAGTTTTTTCTTTTTTTCTTTTTTTCTTTTTTTCTTTTTTTCTTTTTTTCTTTTTTTCTTTTTTTCTTTTTTTCTTTTTTTCTTTTTTTCTTTTTTTCTTTTTTTCTTTTTTTCTTTTTTTCTTTTTTTCTTTTTTTCTTTTTTTCTTTTTTTCTTTTTTTCTTTTTTTCTTTTTTTCTTTTTTTCTTTTTTTCTTTTTTTCTTTTTTTCTTTTTTTCTTTTTTTCTTTTTTTCTTTTTTTCTTTTTTTCTGACCACTATATCAAGGTGTCTTTCGGTCCAGGCTAGGAGGAACTTACCTCGCGGGAATAAGATCCCCAGTCCTTTTTAGCTCGACATTCGTGTTTTCTTGGGGACAGTAACTCATCATCCAAGGTGTAAAAGTATTCTAAGGTGCTCTCTTCTATGATCACACACTGCATCCGCTACTCAACATAGCTCGCGGGCCAACAACGTAGCGAAAGGTCGATTCTCCATACAAAAATATCATACTAGCCGGTTAACTAAACGGATTACCTCTTCCGCCGGAACATCTGAATCCATTACTACCGTGTGGTGCATGTTCACATCTTCGCGGTACATGCAGGAACAGTATGTAATGCTCTCGCGAGCCCTATGTGGCCAGGCTAAATGGGTTTACTGCTCAGCTAGTCCCGCCGAAATGACCATCAAATTGCCCGCTCACCCTTATCGCAGACTTCTACGAGAACGAGGTCCCGTTGGGATCAGAGGGAACCCCCAATTGTCAACGCTCCGTGGGTAGGAAAGATCACACCATGTTATCGAAAACATGGGTCCTCTGTATGTCGTAAAGGACCCAGCGAAAAAATTTATTAACGTGGATGGTTACCAGCTTGTTTTAAGAGCACGTCGACCGACACCAAGTCAATCTATTCCCCTCCATATCACGTTGCGAAGAGGTGCAGAGGTCTGTCTGTCTGTCTGTCTGTCTGTCTGTCTGTCTGTCTGTCTGTCTGTCTGTCTGTCTGTCTGTCTGTCTGTCTGTCTGTCTGTCTGTCTGTCTGTCTGTCTGTCTGTCTGTCTGTCTGTCTGTCTGTCTGTCTGTCTGTCTGAGGGCATCACACGGCGGTATACGCATTCAGACCTACACGATGTAAACGCCCAGTTAGGCGCAGATTATCACTGTACACCGACGTTCACCGCTGATAGGGTACTACCTCTCTAGAAGATAGATAGATAGATAGATAGATAGATAGATAGATAGATAGATAGATAGATAGATAGATAGATAGATAGATAGATAGATAGATAGATAGATAGATAGATAGATAAGATCAGATCAGATCAGATCAGATCAGATCAGATCAGATCAGATCAGATCAGATCAGATCAGATCAGATCAGATCAGATCAGATCAGATCAGATCAGATCAGATCAGATCAGATCAGATCAGATCAGATCAGATCAGATCAGATCAGATCAGATCAGATCAGATCAGATCAGATCAGATCAGATCAGATCAGATCAGATCAGATCAGATCAGATCGTTCCTAGTTGCTACCCAACTTGCCTCAATCGGTAGCACCTGAGCACTACGTGTAAACCTAGTAATGTTATGTACCGTGTGGCCGGAGTCTCAGCGACCAGAGAGTGCGAATTGCTCGAATATAGCCTCCGCCAAGTGATATCATAGTCCGGGTAACCAAGTAGTCTCTGTCCGACTAGGCCGCAAGCTTAGTCTAATCTAGTCTAGTCTAGTCTAGTCTAGTCTAGTCTAGTCTAGTCTAGTCTAGTCTAGTCTAGTCTAGTCTAGTCTAGTCTAGTCTAGTCTAGTCTAGTCTAGTCTAGTCTAGTCTAGTCTAGTCTAGACCAACCTAAGTCCTTCGCGTGGGCTTTGACGGTCGGAAAAGGCAGGCCTGCCTTTCTCAATGTTGGATACAGTACCACACATCACTCCGCCGTGTTAGAGCGTAGGGAGACGTTGAGAACCGAACTACCGTGTCGCACATCATGATTTGCTTAATCAATTATTCGGTTACGGTATTCACGCGGACTCCGACGTATAGAATATAAGGTTTACACATGCGAAGAGCCCTGTGTATAGTTGCCCGCATCGAGGGTAACTATGTAAGCTATTGTGTGTGAGTAGTTAGCTACTAACGTGAGCCACCTTAAAACGCTTTGCAGTGAGTTAGGACCTTCGGGGTCCGTGCCACCTTACGTTCGGCACTTCTCTACTTCCTGGCCACCAGCGTTCAGTCGACGCAGGGTAACCGTTCGCGCCACCAAGATAGAAAAGCGGGTCAGGGAGATAATGTACTATTTACTCTATACTACATCACAGGATAATGGTAGAAGCGTCTGAAATCCACCATCGCTCTCCAAATGGGTGGTCGTTAGTGCATTGAGGACTGATCATGCGGCCGCTTTGACGAGCAGGGAGATCTTATGCTGTATCAGGATATGTCGGAGCTTATCCAGCGGCCACGCCGAAGGGTCACCCCATCAACCAGTCGGCCATGTATGTATCCCACCGAACCTGTGATAGTCACTGATTCCGGACTAAGACAGCCGAGTATACAACAGTTTCGCCACATGACGCAGGGGACTATGTCGACCGATACGACTTCCAGTATCTTCTGTACCTACAGATTCCACTGCATAACTGTTAATAGCAGAAGAGAGTCTGCATACGATGGCTAATTAACGGGTCTACCGAACTGCGTCCCTGGCAGATCTTGCTAGCACTCCGCTGCAAGCACACTGAGGCTTAAGCTATTATACCATCTTGCTCTGGTTGCAGACAGGTATGATTCACTCTGTACCTCCGGATCTTTAGCCTTGCATTTACGTCCGGCCGTAACGCAGAAAATTATCTACATGTCTGTCAGTCTCGCGGCCTGCACCGAGTGCTCGTCGACGCTCTGGCCAGGGCGAAGATCAGATTCCGTTTGACTTAAGGGTAGTTAGTAGGCGGCCAACGTCTGGTGAAAGGGCTGTTAGACTTGTAGACTTCCGTCATTGGGTCTAATACTGCTATTGATCTATGCCTGCCAATAACACGATGATTAGCTGTATAGTGGGTAATCAGGGAACGTTTACGTTCCTCAAGAAAGAACTCAAAGCCCCAGATAGAAAATACAGACTACCCAACTTGCGGGTTCCACTATATGTTCACCCGTTACTTGCTGCAAACCGAGATCACCCAGCATTTCGACCACGAGCCTTAGATCCAAATGCCACACACCAGTTTAGCGATGAATGTGTATAACGGGTTCTTACAGAGAACTACCAATCCGTAGCCTACGACACCACGGACTCTAATCACCAGGAAGATACAGAACTTGTGGCTGTCTACTGACCGTACGGGTTTGGCCAAAATGAAGCCGCCTAATGGTGTCACCGAGACAGTGTCTCGCTTACCAAGTCCGAGGCCCCATCACGAAGCGTCTGTAGATAAGGATCCGTTCCGGCGCCTGGGACCCGATCGAGAGTTCAGCTGCTGAAAGGGGTGGCGTCGTATGCATCCTTACCTACATCAGTTACGTGCCTCCACCGTTCACAGGGTGGGAGCCTTGACTCTTGCGGAGGGCGGACTGCTTTTAGCGCCTACAGGTCGTACTGATTTAACAAAGCAGAAGCGCTGCCGGGGTCTCATATGGACTATATAAGCGACACACCTTGGACCGCAACTCGAAGACTTCTGGCCGCTAGTGCCCAGGATGTAAACCGAACTACGCCAAGTTGGGAAGAGAAAATCCATCTGACTGCACGGTTCTGTGGAAGATAATGGCCCTAACTTTGCTCTATTAATAAACTATTGACGCCCAAAAAGAACATGTACGGACTGACTGGTACTTCAATTAGCCACTGGTAGTAGTCCTCGATTCAAGGAATCTGTGACAGTCGTACCGCTATATTAATAAATCGCTAAGTGCCAAAGGTCCGACCGTACTGACTGCTGATGTACTTGATTCACGGGATGTTAATAGGAGCTTTGCAATGTGTGCTTAAGTCCAGTCATCTACGCGCTTGCGGCTTGATCCCAGAGTATAACACATAAATCAGACTGTAGCG'\n",
        "sample_dna"
      ]
    },
    {
      "cell_type": "markdown",
      "metadata": {
        "id": "bep07McIgkuB"
      },
      "source": [
        "***\n",
        "###3.1 Import the Data\n",
        "You have a database containing information about possible suspects and information about their genomes, specifically their STR counts. The file is called `large.csv` and is stored in the `data` folder. Use `Table.read_table(\"<file_path>\")` to import the data and save it to the variable `database`."
      ]
    },
    {
      "cell_type": "code",
      "execution_count": null,
      "metadata": {
        "id": "k8XDYscLgkuB"
      },
      "outputs": [],
      "source": [
        "database = ...\n",
        "database"
      ]
    },
    {
      "cell_type": "markdown",
      "metadata": {
        "id": "RyrwjvlmgkuB"
      },
      "source": [
        "The table above shows each individual's STR types and the longest run of consecutive repeats of the STR in their DNA sequence. Each row in the table corresponds to an individual and each column corresponds to a specific STR and its counts in corresponding individuals' genomes. Every row after the first one corresponds to a person."
      ]
    },
    {
      "cell_type": "markdown",
      "metadata": {
        "id": "10cVzUB1gkuB"
      },
      "source": [
        "***\n",
        "###3.2 Obtaining STR Counts from  Sample DNA\n",
        "To be able to match the sample DNA to an individual in the database, we first need to calculate the STR counts (or the longest run consecutive repeats of each STR) sequence in the sample sequence. We will **build the algorithm** step by step.\n",
        "\n",
        "We recommend you [watch this walkthrough video](https://www.youtube.com/watch?v=j84b_EgntcQ) to get an idea of what the overall goal of our algorithm is. Please ignore minutes 4:03-5:15 because we will be transforming the database in CSV form into a table as in the datascience package.\n",
        "\n",
        "**Note:** *The questions in this lab build up on each other, eventually leading you to the final solution. The final solution is quite long, that's why the questions try to tackle the problem step by step.*\n"
      ]
    },
    {
      "cell_type": "markdown",
      "metadata": {
        "id": "0iaN9jp6gkuB"
      },
      "source": [
        "<font color = #d14d0f>**QUESTION 2**:</font>\n",
        "**To be able to find the longest run of consecutive STRs, we need to look at each nucleotide of the sequence at a time and compare with a specific STR sequence to see if that nucleotide is the start of consecutive STR sequences. For this, first design a loop that parses through the `sample_dna` sequence:** Use the code cell below."
      ]
    },
    {
      "cell_type": "code",
      "execution_count": null,
      "metadata": {
        "id": "GDYQnzgxgkuB"
      },
      "outputs": [],
      "source": [
        "# Question 2\n",
        "# YOUR CODE HERE"
      ]
    },
    {
      "cell_type": "markdown",
      "metadata": {
        "id": "KU_uUKtNgkuC"
      },
      "source": [
        "<font color = #d14d0f>**QUESTION 3**:</font>\n",
        "**Next, let's gather all of the possible STR types together. Create a list called `str_list`, which contains all of the STR types (as strings) in it.**\n",
        ">***Hints:*** <br>\n",
        "*   *The first row of the database can be used for which STRs (short DNA sequences) to look for in the given DNA. You can use the first row of the database provided and add each STR name into a list. You can also use the `<list_name>.append(<new_item(s)>)` to add items to the list.*\n",
        "*   *Do not hardcode `str_list`. Use the database provided!*\n",
        "\n",
        "\n"
      ]
    },
    {
      "cell_type": "code",
      "execution_count": null,
      "metadata": {
        "id": "Jiho21gpgkuC"
      },
      "outputs": [],
      "source": [
        "# Question 3\n",
        "# YOUR CODE HERE -- save your final answer in the provided str_list variable\n",
        "\n",
        "str_list = []"
      ]
    },
    {
      "cell_type": "code",
      "source": [
        "type(str_list)"
      ],
      "metadata": {
        "colab": {
          "base_uri": "https://localhost:8080/"
        },
        "id": "s2W1jfBLWUXU",
        "outputId": "4471edcb-4fe3-4bc7-f99a-ec2da0c03c29"
      },
      "execution_count": null,
      "outputs": [
        {
          "output_type": "execute_result",
          "data": {
            "text/plain": [
              "list"
            ]
          },
          "metadata": {},
          "execution_count": 18
        }
      ]
    },
    {
      "cell_type": "code",
      "source": [
        "# DO NOT MODIFY THIS CELL\n",
        "# This cell checks that your str_list variable is a list and is not empty\n",
        "def checkq3format(answer):\n",
        "  if len(str_list) >0 and type(str_list) == list:\n",
        "    return\n",
        "  else:\n",
        "    print(\"Incorrect str_list: empty or not a list\")\n",
        "checkq3format(str_list)"
      ],
      "metadata": {
        "colab": {
          "base_uri": "https://localhost:8080/"
        },
        "id": "QPw4-itKWLJk",
        "outputId": "eb3f1d25-7b2f-4f04-d13f-5a9d74071104"
      },
      "execution_count": null,
      "outputs": [
        {
          "output_type": "stream",
          "name": "stdout",
          "text": [
            "Incorrect str_list: empty or not a list\n"
          ]
        }
      ]
    },
    {
      "cell_type": "markdown",
      "metadata": {
        "id": "Qz1TJVx2gkuC"
      },
      "source": [
        "<font color = #d14d0f>**QUESTION 4**:</font>\n",
        "**Write a function called `str_match(i, str, dna)` that takes a start position integer <mark> i</mark>, a string type <mark>str</mark>, and a DNA sequence string <mark> dna</mark> as inputs. This function will prove to be useful later on and will help us simplify our code. The function should *check whether the DNA's ith position and onward matches the chosen str.* It should return True if it matches and False otherwise.**\n",
        ">***Hints:*** <br>\n",
        "*   *Use dna[i : j] to take a substring and compare with str.*\n",
        "*   *Use len() to take the length of the str sequence and determine the jth position to take a substring*\n",
        "\n"
      ]
    },
    {
      "cell_type": "code",
      "execution_count": null,
      "metadata": {
        "id": "5vgS7qNKgkuC"
      },
      "outputs": [],
      "source": [
        "# Question 4, fill in the ellipses\n",
        "\n",
        "# Output: True or False boolean\n",
        "def str_match(i, str, dna):\n",
        "  # Your Code Here\n",
        "  ...\n",
        "  return ...\n",
        "\n"
      ]
    },
    {
      "cell_type": "code",
      "source": [
        "# Test Case for Question 3\n",
        "# DO NOT MODIFY THIS CELL\n",
        "\n",
        "def test_q4():\n",
        "  output1 = str_match(3, 'aagt', 'gtcaagt')\n",
        "  output2 = str_match(2, 'cgta', 'cgtac')\n",
        "  if (output1 == True) & (output2 == False):\n",
        "    print('Test Case Passed!')\n",
        "  else:\n",
        "    print('Test Case Failed')\n",
        "\n",
        "test_q4()"
      ],
      "metadata": {
        "colab": {
          "base_uri": "https://localhost:8080/"
        },
        "id": "zL2imXPM57LK",
        "outputId": "a7625e7a-2742-4798-a138-b5c83cbcdb30"
      },
      "execution_count": null,
      "outputs": [
        {
          "output_type": "stream",
          "name": "stdout",
          "text": [
            "Test Case Failed\n"
          ]
        }
      ]
    },
    {
      "cell_type": "markdown",
      "metadata": {
        "id": "eOEzTQnQgkuD"
      },
      "source": [
        "<font color = #d14d0f>**QUESTION 5**:</font>\n",
        "**Now, incorporate the `str_match()` function with the loop from Question 2. If str_match matches an str at a particular nucleotide on the DNA sequence, it should continue to check whether the following pieces of DNA at the same length as the str also match the str sequence until finally it does not match. The `matches` variable should be a ___ representing ___.**\n",
        ">***Hint:***\n",
        "*   *You will need to use a nested loop.*\n"
      ]
    },
    {
      "cell_type": "code",
      "execution_count": null,
      "metadata": {
        "id": "TK77yf8LgkuD",
        "colab": {
          "base_uri": "https://localhost:8080/",
          "height": 250
        },
        "outputId": "7ca14642-dc48-400c-b6eb-798059d58cec"
      },
      "outputs": [
        {
          "output_type": "error",
          "ename": "TypeError",
          "evalue": "ignored",
          "traceback": [
            "\u001b[0;31m---------------------------------------------------------------------------\u001b[0m",
            "\u001b[0;31mTypeError\u001b[0m                                 Traceback (most recent call last)",
            "\u001b[0;32m<ipython-input-27-80758eeb52dd>\u001b[0m in \u001b[0;36m<cell line: 5>\u001b[0;34m()\u001b[0m\n\u001b[1;32m      3\u001b[0m \u001b[0;31m# str = str_list[0] #Uncomment this line of code once you have built str_list\u001b[0m\u001b[0;34m\u001b[0m\u001b[0;34m\u001b[0m\u001b[0m\n\u001b[1;32m      4\u001b[0m \u001b[0;34m\u001b[0m\u001b[0m\n\u001b[0;32m----> 5\u001b[0;31m \u001b[0;32mfor\u001b[0m \u001b[0mi\u001b[0m \u001b[0;32min\u001b[0m \u001b[0;34m...\u001b[0m \u001b[0;34m:\u001b[0m\u001b[0;34m\u001b[0m\u001b[0;34m\u001b[0m\u001b[0m\n\u001b[0m\u001b[1;32m      6\u001b[0m   \u001b[0;32mfor\u001b[0m \u001b[0mj\u001b[0m \u001b[0;32min\u001b[0m \u001b[0;34m...\u001b[0m \u001b[0;34m:\u001b[0m\u001b[0;34m\u001b[0m\u001b[0;34m\u001b[0m\u001b[0m\n\u001b[1;32m      7\u001b[0m     \u001b[0;34m...\u001b[0m\u001b[0;34m\u001b[0m\u001b[0;34m\u001b[0m\u001b[0m\n",
            "\u001b[0;31mTypeError\u001b[0m: 'ellipsis' object is not iterable"
          ]
        }
      ],
      "source": [
        "# Question 5\n",
        "# For now, only check for the first str from the str_list for simplicity as provided below.\n",
        "# str = str_list[0] #Uncomment this line of code once you have built str_list\n",
        "\n",
        "for i in ... :\n",
        "  for j in ... :\n",
        "    ...\n",
        "\n",
        "# Assign your answer to this variable\n",
        "matches = ..."
      ]
    },
    {
      "cell_type": "code",
      "source": [
        "# DO NOT MODIFY THE CONTENTS OF THIS CELL\n",
        "assert matches == a"
      ],
      "metadata": {
        "id": "DImXIq21Vr5c"
      },
      "execution_count": null,
      "outputs": []
    },
    {
      "cell_type": "markdown",
      "metadata": {
        "id": "AUdabWGNgkuJ"
      },
      "source": [
        "\n",
        "<font color = #d14d0f>**QUESTION 6**:</font>\n",
        "**Next, introduce a way to *count the maximum number of consecutive STRs matched*. Again, only do it on one type of str for simplicity. Your code should look at each nucleotide in `sample_dna`, calculate the longest run of the str starting from that nucleotide, and after having checked each nucleotide, *return the maximum number of consecutive STRs and assign it to `max_consec_str`.***\n"
      ]
    },
    {
      "cell_type": "code",
      "execution_count": null,
      "metadata": {
        "id": "4FNzG9RygkuJ"
      },
      "outputs": [],
      "source": [
        "# Question 6\n",
        "# YOUR CODE HERE\n",
        "\n",
        "\n",
        "\n",
        "# Assign your answer to this variable\n",
        "max_consec_str = ..."
      ]
    },
    {
      "cell_type": "code",
      "source": [
        "# DO NOT MODIFY THE CONTENTS OF THIS CELL\n",
        "assert max_consec_str == b"
      ],
      "metadata": {
        "id": "BD4bE4yyV-lP"
      },
      "execution_count": null,
      "outputs": []
    },
    {
      "cell_type": "markdown",
      "metadata": {
        "id": "QJgXPbmqgkuK"
      },
      "source": [
        "\n",
        "<font color = #d14d0f>**QUESTION 7**:</font>\n",
        "**Make what you have in Question 6 into a function called `strCounting(dna, str_list)`. The inputs are the DNA sequence and the str_list that you built previously. The function should print the STR counts for each of the STRs. When printing, print the STR sequence and the STR count together. The only difference of this function and the loop from Question 6 is that the function should calculate the maximum number of consecutive STRs for *each* STR in the str_list.***\n",
        ">***Hint:***\n",
        "*   *Use a for loop to parse through str_list and apply your code from Question 5 to each different str.*\n"
      ]
    },
    {
      "cell_type": "code",
      "execution_count": null,
      "metadata": {
        "id": "1kuiD-bbgkuK"
      },
      "outputs": [],
      "source": [
        "# Question 7, fill in the ellipsis\n",
        "\n",
        "# Output: Print the STR counts for each of the STRs\n",
        "def strCounting(dna, str_list):\n",
        "  # Your code here\n",
        "\n",
        "  for str in ... :  # Calculate the max number of consecutive STRs for each STR\n",
        "    ...\n",
        "    print(...)"
      ]
    },
    {
      "cell_type": "code",
      "source": [
        "# DO NOT MODIFY THE CONTENTS OF THIS CELL\n",
        "assert strCounting() == c"
      ],
      "metadata": {
        "id": "8kT62iEK4Wr_",
        "colab": {
          "base_uri": "https://localhost:8080/",
          "height": 197
        },
        "outputId": "aa28168d-6d56-4309-8e41-57e09b804724"
      },
      "execution_count": null,
      "outputs": [
        {
          "output_type": "error",
          "ename": "TypeError",
          "evalue": "ignored",
          "traceback": [
            "\u001b[0;31m---------------------------------------------------------------------------\u001b[0m",
            "\u001b[0;31mTypeError\u001b[0m                                 Traceback (most recent call last)",
            "\u001b[0;32m<ipython-input-30-8de1337fe025>\u001b[0m in \u001b[0;36m<cell line: 2>\u001b[0;34m()\u001b[0m\n\u001b[1;32m      1\u001b[0m \u001b[0;31m# DO NOT MODIFY THE CONTENTS OF THIS CELL\u001b[0m\u001b[0;34m\u001b[0m\u001b[0;34m\u001b[0m\u001b[0m\n\u001b[0;32m----> 2\u001b[0;31m \u001b[0;32massert\u001b[0m \u001b[0mstrCounting\u001b[0m\u001b[0;34m(\u001b[0m\u001b[0;34m)\u001b[0m \u001b[0;34m==\u001b[0m \u001b[0mc\u001b[0m\u001b[0;34m\u001b[0m\u001b[0;34m\u001b[0m\u001b[0m\n\u001b[0m",
            "\u001b[0;31mTypeError\u001b[0m: strCounting() missing 2 required positional arguments: 'dna' and 'str_list'"
          ]
        }
      ]
    },
    {
      "cell_type": "markdown",
      "metadata": {
        "id": "1XTwLASZgkuK"
      },
      "source": [
        "***\n",
        "###3.3 Building a STR Table for Sample DNA\n",
        "\n",
        "\n",
        "<font color = #d14d0f>**QUESTION 8**:</font>\n",
        "**Now that we know the STR counts in the DNA sequence, change the function you created in Question 7 so that it adds every STR count and the STR sequence into a table called `sample_dna_strs` (it should *not* print the STR counts anymore). The table should be in the same structure as `database` provided in the beginning. It should have 2 rows only (one of them being all of the STR titles and the other the STR counts for each of the STR titles).**\n",
        "\n"
      ]
    },
    {
      "cell_type": "code",
      "execution_count": null,
      "metadata": {
        "id": "6ODeH1ragkuK"
      },
      "outputs": [],
      "source": [
        "# Question 8, fill in the ellipsis\n",
        "\n",
        "sample_dna_strs = Table()     # Create a table that will store STR counts\n",
        "\n",
        "# Output: A table containing 2 rows, one containing the STR titles and one containing STR counts\n",
        "# Provided scaffolding within the function is intended to guide you, but\n",
        "#  feel free to use different technique -- don't modify inputs or output!\n",
        "def strCounting_table(dna, str_list):\n",
        "  # Your code here\n",
        "  sample_dna_strs.append(...)   # append the STR titles\n",
        "\n",
        "  for str in ... :\n",
        "    ...\n",
        "    sample_dna_strs.append(...)     # add the max STR counts into the table\n",
        "\n",
        "  return sample_dna_strs     # Return the table\n"
      ]
    },
    {
      "cell_type": "code",
      "source": [
        "# DO NOT MODIFY THE CONTENTS OF THIS CELL\n",
        "sample_dna_strs.head()"
      ],
      "metadata": {
        "id": "JUC_50m64G6B",
        "colab": {
          "base_uri": "https://localhost:8080/",
          "height": 197
        },
        "outputId": "7249557b-c04e-4e07-a145-e4a27716f035"
      },
      "execution_count": null,
      "outputs": [
        {
          "output_type": "error",
          "ename": "AttributeError",
          "evalue": "ignored",
          "traceback": [
            "\u001b[0;31m---------------------------------------------------------------------------\u001b[0m",
            "\u001b[0;31mAttributeError\u001b[0m                            Traceback (most recent call last)",
            "\u001b[0;32m<ipython-input-32-76ffd63de1ae>\u001b[0m in \u001b[0;36m<cell line: 2>\u001b[0;34m()\u001b[0m\n\u001b[1;32m      1\u001b[0m \u001b[0;31m# DO NOT MODIFY THE CONTENTS OF THIS CELL\u001b[0m\u001b[0;34m\u001b[0m\u001b[0;34m\u001b[0m\u001b[0m\n\u001b[0;32m----> 2\u001b[0;31m \u001b[0msample_dna_strs\u001b[0m\u001b[0;34m.\u001b[0m\u001b[0mhead\u001b[0m\u001b[0;34m(\u001b[0m\u001b[0;34m)\u001b[0m\u001b[0;34m\u001b[0m\u001b[0;34m\u001b[0m\u001b[0m\n\u001b[0m",
            "\u001b[0;31mAttributeError\u001b[0m: 'Table' object has no attribute 'head'"
          ]
        }
      ]
    },
    {
      "cell_type": "markdown",
      "metadata": {
        "id": "RRJLnXpBgkuL"
      },
      "source": [
        "***\n",
        "###3.4 Who is the Match?\n",
        "<font color = #d14d0f>**QUESTION 9**:</font>\n",
        "**Having found all of the STR counts in the sample DNA sequence, now let's find who it matches to! Write a function called `match(sample_dna_data, database)`, which takes two tables and prints out the name from the database that matches the sample DNA's STR counts. If no match is found, the function should print \"No match found!\"**\n",
        ">***Hint:***\n",
        "*   *The `match()`function should take `sample_dna_strs` and `database` as inputs.*\n",
        "\n"
      ]
    },
    {
      "cell_type": "code",
      "execution_count": null,
      "metadata": {
        "id": "aCz8uQThgkuL"
      },
      "outputs": [],
      "source": [
        "# Question 9\n",
        "def match(sample_dna_strs, database):\n",
        "    print(\"\")"
      ]
    },
    {
      "cell_type": "markdown",
      "metadata": {
        "id": "G1iKrYsjgkuL"
      },
      "source": [
        "<font color = #d14d0f>**QUESTION 10**:</font>\n",
        "**Finally, use the match() function you have just created to find out who is the match!**"
      ]
    },
    {
      "cell_type": "code",
      "execution_count": null,
      "metadata": {
        "id": "tdQYSEMQgkuL",
        "colab": {
          "base_uri": "https://localhost:8080/"
        },
        "outputId": "a8a8c8a9-ee65-4815-dcfe-a71de8d71309"
      },
      "outputs": [
        {
          "output_type": "stream",
          "name": "stdout",
          "text": [
            "The suspect that the DNA matches with is Ellipsis\n"
          ]
        }
      ],
      "source": [
        "# Question 10\n",
        "# YOUR CODE HERE\n",
        "\n",
        "match_name = ...\n",
        "print('The suspect that the DNA matches with is', match_name)"
      ]
    },
    {
      "cell_type": "markdown",
      "source": [
        "***\n",
        "## 4. Conclusion\n",
        "Over the course of this notebook, you:\n",
        "* Learned about Short Tandem Repeats (STRs)\n",
        "* Wrote while loops\n",
        "* Wrote for loops\n",
        "* Visualized matrices in Python lists\n",
        "* Wrote functions to identify DNA matches\n"
      ],
      "metadata": {
        "id": "CDzlxHN_fF8x"
      }
    },
    {
      "cell_type": "markdown",
      "metadata": {
        "id": "Obsebb31gkuM"
      },
      "source": [
        "***\n",
        "### Congratulations! You have finished LAB 2!\n",
        "***"
      ]
    }
  ],
  "metadata": {
    "kernelspec": {
      "display_name": "Python 3",
      "language": "python",
      "name": "python3"
    },
    "language_info": {
      "codemirror_mode": {
        "name": "ipython",
        "version": 3
      },
      "file_extension": ".py",
      "mimetype": "text/x-python",
      "name": "python",
      "nbconvert_exporter": "python",
      "pygments_lexer": "ipython3",
      "version": "3.8.5"
    },
    "colab": {
      "provenance": [],
      "include_colab_link": true
    }
  },
  "nbformat": 4,
  "nbformat_minor": 0
}