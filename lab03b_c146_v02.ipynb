{
  "cells": [
    {
      "cell_type": "markdown",
      "metadata": {
        "id": "view-in-github",
        "colab_type": "text"
      },
      "source": [
        "<a href=\"https://colab.research.google.com/github/daisysong76/bioinformatics-research/blob/main/lab03b_c146_v02.ipynb\" target=\"_parent\"><img src=\"https://colab.research.google.com/assets/colab-badge.svg\" alt=\"Open In Colab\"/></a>"
      ]
    },
    {
      "cell_type": "markdown",
      "metadata": {
        "id": "bxhI2LUAnsQQ"
      },
      "source": [
        "## Data Science for Biology\n",
        "#### UC Berkeley PMB/MCB/BioE c146, Fall 2022\n",
        "# Lab 3b: Continued STR Analysis - Part B v02\n",
        "##### lab03b-c146-v02.ipynb"
      ]
    },
    {
      "cell_type": "markdown",
      "metadata": {
        "id": "GEZ8AmUHnsQR"
      },
      "source": [
        "For this assignment, we will primarily be using the 'datascience' library.  It is documented here: http://data8.org/datascience/index.html\n",
        "\n",
        "You are welcome to use other libraries (such as numpy, pandas, etc.) if you prefer"
      ]
    },
    {
      "cell_type": "code",
      "execution_count": null,
      "metadata": {
        "id": "gae_KzR_nsQS"
      },
      "outputs": [],
      "source": [
        "from datascience import *\n",
        "%matplotlib inline\n",
        "import matplotlib.pyplot as plots\n",
        "import numpy as np\n",
        "plots.style.use('fivethirtyeight')"
      ]
    },
    {
      "cell_type": "markdown",
      "metadata": {
        "id": "hwC4sucpnsQT"
      },
      "source": [
        "### Calculating the Real Match Probabilities\n",
        "On Tuesday, we started som some exploratory analysis and visualizations of DNA fingerprints. We also did some calculations. These were done ignoring the diploidy of the data. Now that we have a better handle on this dataset, we're going to do the same calculations properly.\n",
        "\n",
        "#### Background\n",
        "FBI uses a system called CODIS (Combined DNA Index System) to help support and solve criminal cases. The DNA Profile of a suspect is compared against large DNA databases to look for a match. These DNA databases contain information about people's DNA profiles, which is determined by DNA STR Analysis and consists of one or two alleles at the 20 specific CODIS Core Loci.\n",
        "\n",
        "The the FBIn FAQ about these is here: https://www.fbi.gov/resources/dna-fingerprint-act-of-2005-expungement-policy/codis-and-ndis-fact-sheet\n",
        "A description of how these are used is here: https://www.nature.com/scitable/topicpage/forensics-dna-fingerprinting-and-codis-736\n",
        "\n",
        "The 20 CODIS Core Loci currently being used are:\n",
        "\n",
        "CSF1PO, FGA, THO1, TPOX, VWA, D3S1358, D5S818, D7S820, D8S1179, D13S317, D16S539, D18S51, D21S11, D1S1656, D2S441, D2S1338, D10S1248, D12S391, D19S433, D22S1045\n",
        "\n",
        "The 13 Original CODIS Core Loci, which were used before December 31, 2016, were:\n",
        "\n",
        "CSF1PO, FGA, THO1, TPOX, VWA, D3S1358, D5S818, D7S820, D8S1179, D13S317, D16S539, D18S51, D21S11\n",
        "\n",
        "Let's import the same dataset as lab03a:"
      ]
    },
    {
      "cell_type": "code",
      "execution_count": null,
      "metadata": {
        "id": "bCEyo_tWnsQT",
        "outputId": "9f2bb8c7-1ab8-4936-a5c5-359885d05d95",
        "colab": {
          "base_uri": "https://localhost:8080/",
          "height": 447
        }
      },
      "outputs": [
        {
          "output_type": "execute_result",
          "data": {
            "text/plain": [
              "Group | SampleCode | AMEL | AMEL.1 | CSF1PO | CSF1PO.1 | D10S1248 | D10S1248.1 | D12S391 | D12S391.1 | D13S317 | D13S317.1 | D16S539 | D16S539.1 | D18S51 | D18S51.1 | D19S433 | D19S433.1 | D1S1656 | D1S1656.1 | D21S11 | D21S11.1 | D22S1045 | D22S1045.1 | D2S1338 | D2S1338.1 | D2S441 | D2S441.1 | D3S1358 | D3S1358.1 | D5S818 | D5S818.1 | D6S1043 | D6S1043.1 | D7S820 | D7S820.1 | D8S1179 | D8S1179.1 | F13A01 | F13A01.1 | F13B | F13B.1 | FESFPS | FESFPS.1 | FGA  | FGA.1 | LPL  | LPL.1 | SE33 | SE33.1 | TH01 | TH01.1 | TPOX | TPOX.1 | vWA  | vWA.1 | DYS19 | DYS389I | DYS389II | DYS390 | DYS391 | DYS392 | DYS393 | DYS437 | DYS438 | DYS439 | DYS448 | DYS456 | DYS458 | DYS481 | DYS533 | DYS549 | DYS570 | DYS576 | DYS635 | DYS643 | Y-GATA-H4\n",
              "Cauc  | BC11352    | X    | Y      | 11     | 13       | 13       | 15         | 17      | 18        | 13      | 13        | 8       | 12        | 13     | 15       | 13      | 13        | 14      | 16.3      | 28     | 30       | 14       | 16         | 17      | 20        | 14     | 15       | 14      | 17        | 10     | 11       | 12      | 18        | 10     | 12       | 13      | 14        | 5      | 14       | 6    | 9      | 10     | 11       | 24   | 24    | 10   | 12    | 13   | 14     | 6    | 9.3    | 8    | 8      | 17   | 17    | 15    | 14      | 30       | 22     | 10     | 11     | 12     | 14     | 9      | 11     | 19     | 15     | 18     | 23     | 12     | 13     | 16     | 19     | 20     | 9      | 12\n",
              "Hisp  | GA05070    | X    | Y      | 10     | 12       | 12       | 14         | 17.3    | 23        | 10      | 11        | 10      | 10        | 16     | 18       | 14.2    | 15        | 14      | 16        | 30     | 33.2     | 14       | 15         | 19      | 23        | 11     | 15       | 16      | 18        | 11     | 12       | 13      | 13        | 10     | 13       | 10      | 13        | 6      | 7        | 10   | 10     | 11     | 13       | 25   | 26    | 12   | 14    | 13   | 22     | 7    | 9      | 8    | 12     | 14   | 19    | 13    | 14      | 30       | 24     | 10     | 15     | 13     | 14     | 11     | 12     | 20     | 17     | 15     | 25     | 11     | 12     | 16     | 17     | 22     | 11     | 12\n",
              "Hisp  | GA05071    | X    | Y      | 11     | 15       | 14       | 16         | 19      | 20        | 11      | 12        | 12      | 12        | 17     | 17       | 13      | 13        | 16      | 16        | 30.2   | 32.2     | 15       | 16         | 17      | 17        | 10     | 10       | 14      | 17        | 11     | 12       | 11      | 13        | 7      | 10       | 13      | 14        | 3.2    | 3.2      | 8    | 10     | 11     | 12       | 23   | 25    | 9    | 10    | 18   | 26.2   | 7    | 9.3    | 8    | 11     | 16   | 17    | 14    | 13      | 30       | 24     | 10     | 13     | 13     | 15     | 12     | 13     | 19     | 15     | 16     | 22     | 12     | 13     | 18     | 18     | 23     | 10     | 12\n",
              "Cauc  | GC03394    | X    | Y      | 10     | 12       | 15       | 16         | 19      | 19        | 11      | 11        | 12      | 13        | 15     | 17       | 14      | 15        | 12      | 15        | 30     | 31       | 15       | 16         | 17      | 20        | 11     | 12       | 15      | 18        | 11     | 12       | 13      | 19        | 11     | 12       | 12      | 12        | 5      | 6        | 6    | 9      | 11     | 11       | 21   | 21    | 9    | 10    | 19   | 22.2   | 6    | 7      | 8    | 8      | 17   | 18    | 15    | 12      | 28       | 24     | 10     | 11     | 12     | 15     | 9      | 12     | 19     | 13     | 16     | 22     | 12     | 13     | 18     | 16     | 21     | 9      | 11\n",
              "Cauc  | GT36864    | X    | Y      | 10     | 12       | 15       | 17         | 17.3    | 20        | 11      | 11        | 11      | 12        | 14     | 19       | 13      | 14        | 16      | 17.3      | 31.2   | 32.2     | 11       | 16         | 19      | 25        | 10     | 14       | 15      | 16        | 9      | 12       | 11      | 19        | 8      | 12       | 13      | 13        | 5      | 7        | 6    | 9      | 12     | 12       | 19   | 21    | 10   | 11    | 22.2 | 28.2   | 7    | 9.3    | 9    | 11     | 16   | 18    | 14    | 12      | 28       | 23     | 10     | 11     | 13     | 16     | 10     | 11     | 20     | 14     | 15     | 24     | 11     | 13     | 20     | 16     | 21     | 12     | 11\n",
              "Cauc  | GT36866    | X    | Y      | 11     | 11       | 13       | 16         | 18      | 20        | 11      | 12        | 11      | 13        | 13     | 15       | 12      | 14        | 11      | 14        | 31.2   | 32.2     | 16       | 17         | 18      | 20        | 11     | 14       | 16      | 17        | 11     | 13       | 10      | 18        | 10     | 10       | 10      | 10        | 6      | 6        | 6    | 10     | 11     | 11       | 21   | 21    | 11   | 11    | 25.2 | 30.2   | 6    | 9.3    | 8    | 8      | 16   | 17    | 14    | 13      | 29       | 23     | 10     | 11     | 12     | 15     | 9      | 11     | 21     | 15     | 14     | 23     | 12     | 13     | 16     | 17     | 23     | 11     | 11\n",
              "Cauc  | GT36875    | X    | Y      | 11     | 11       | 13       | 14         | 18      | 19        | 11      | 12        | 11      | 13        | 14     | 17       | 12      | 14        | 11      | 18.3      | 28     | 28       | 15       | 16         | 24      | 25        | 11.3   | 14       | 14      | 16        | 12     | 13       | 11      | 12        | 10     | 11       | 12      | 13        | 5      | 6        | 9    | 10     | 10     | 12       | 20   | 24    | 10   | 11    | 14   | 16     | 8    | 9.3    | 8    | 8      | 16   | 19    | 14    | 13      | 29       | 23     | 10     | 13     | 13     | 15     | 12     | 11     | 19     | 16     | 17     | 22     | 12     | 12     | 17     | 20     | 23     | 10     | 12\n",
              "Cauc  | GT36877    | X    | Y      | 11     | 11       | 14       | 15         | 17      | 20        | 11      | 11        | 9       | 11        | 16     | 18       | 13      | 16.2      | 12      | 15.3      | 28     | 30       | 11       | 16         | 18      | 22        | 11     | 12       | 15      | 18        | 11     | 13       | 12      | 14        | 9      | 9        | 12      | 15        | 6      | 7        | 8    | 10     | 10     | 11       | 20   | 26    | 10   | 11    | 15   | 19     | 6    | 8      | 8    | 11     | 15   | 17    | 15    | 12      | 30       | 21     | 10     | 11     | 14     | 16     | 10     | 12     | 22     | 17     | 16     | 22     | 10     | 12     | 17     | 15     | 21     | 13     | 11\n",
              "Cauc  | GT36878    | X    | Y      | 10     | 12       | 13       | 14         | 18      | 18        | 11      | 13        | 8       | 11        | 13     | 17       | 13      | 15        | 15      | 17.3      | 30     | 32.2     | 14       | 15         | 17      | 18        | 11     | 14       | 15      | 18        | 9      | 11       | 11      | 17        | 9      | 12       | 11      | 13        | 6      | 6        | 8    | 8      | 10     | 11       | 19   | 23    | 12   | 12    | 19   | 28.2   | 9.3  | 9.3    | 8    | 11     | 16   | 19    | 14    | 13      | 29       | 24     | 11     | 13     | 13     | 15     | 12     | 12     | 19     | 16     | 18     | 22     | 13     | 15     | 17     | 18     | 23     | 10     | 11\n",
              "Cauc  | GT36884    | X    | Y      | 10     | 11       | 13       | 13         | 17      | 18        | 11      | 11        | 8       | 12        | 14     | 15       | 12      | 15        | 12      | 13        | 28     | 30       | 16       | 16         | 17      | 24        | 13     | 14       | 14      | 16        | 11     | 12       | 12      | 13        | 8      | 10       | 11      | 11        | 5      | 7        | 6    | 8      | 11     | 11       | 23   | 24    | 12   | 13    | 17   | 19     | 7    | 9.3    | 8    | 11     | 17   | 18    | 14    | 13      | 29       | 24     | 11     | 13     | 13     | 15     | 12     | 12     | 19     | 16     | 16     | 22     | 14     | 11     | 17     | 20     | 24     | 10     | 12\n",
              "... (1026 rows omitted)"
            ],
            "text/html": [
              "<table border=\"1\" class=\"dataframe\">\n",
              "    <thead>\n",
              "        <tr>\n",
              "            <th>Group</th> <th>SampleCode</th> <th>AMEL</th> <th>AMEL.1</th> <th>CSF1PO</th> <th>CSF1PO.1</th> <th>D10S1248</th> <th>D10S1248.1</th> <th>D12S391</th> <th>D12S391.1</th> <th>D13S317</th> <th>D13S317.1</th> <th>D16S539</th> <th>D16S539.1</th> <th>D18S51</th> <th>D18S51.1</th> <th>D19S433</th> <th>D19S433.1</th> <th>D1S1656</th> <th>D1S1656.1</th> <th>D21S11</th> <th>D21S11.1</th> <th>D22S1045</th> <th>D22S1045.1</th> <th>D2S1338</th> <th>D2S1338.1</th> <th>D2S441</th> <th>D2S441.1</th> <th>D3S1358</th> <th>D3S1358.1</th> <th>D5S818</th> <th>D5S818.1</th> <th>D6S1043</th> <th>D6S1043.1</th> <th>D7S820</th> <th>D7S820.1</th> <th>D8S1179</th> <th>D8S1179.1</th> <th>F13A01</th> <th>F13A01.1</th> <th>F13B</th> <th>F13B.1</th> <th>FESFPS</th> <th>FESFPS.1</th> <th>FGA</th> <th>FGA.1</th> <th>LPL</th> <th>LPL.1</th> <th>SE33</th> <th>SE33.1</th> <th>TH01</th> <th>TH01.1</th> <th>TPOX</th> <th>TPOX.1</th> <th>vWA</th> <th>vWA.1</th> <th>DYS19</th> <th>DYS389I</th> <th>DYS389II</th> <th>DYS390</th> <th>DYS391</th> <th>DYS392</th> <th>DYS393</th> <th>DYS437</th> <th>DYS438</th> <th>DYS439</th> <th>DYS448</th> <th>DYS456</th> <th>DYS458</th> <th>DYS481</th> <th>DYS533</th> <th>DYS549</th> <th>DYS570</th> <th>DYS576</th> <th>DYS635</th> <th>DYS643</th> <th>Y-GATA-H4</th>\n",
              "        </tr>\n",
              "    </thead>\n",
              "    <tbody>\n",
              "        <tr>\n",
              "            <td>Cauc </td> <td>BC11352   </td> <td>X   </td> <td>Y     </td> <td>11    </td> <td>13      </td> <td>13      </td> <td>15        </td> <td>17     </td> <td>18       </td> <td>13     </td> <td>13       </td> <td>8      </td> <td>12       </td> <td>13    </td> <td>15      </td> <td>13     </td> <td>13       </td> <td>14     </td> <td>16.3     </td> <td>28    </td> <td>30      </td> <td>14      </td> <td>16        </td> <td>17     </td> <td>20       </td> <td>14    </td> <td>15      </td> <td>14     </td> <td>17       </td> <td>10    </td> <td>11      </td> <td>12     </td> <td>18       </td> <td>10    </td> <td>12      </td> <td>13     </td> <td>14       </td> <td>5     </td> <td>14      </td> <td>6   </td> <td>9     </td> <td>10    </td> <td>11      </td> <td>24  </td> <td>24   </td> <td>10  </td> <td>12   </td> <td>13  </td> <td>14    </td> <td>6   </td> <td>9.3   </td> <td>8   </td> <td>8     </td> <td>17  </td> <td>17   </td> <td>15   </td> <td>14     </td> <td>30      </td> <td>22    </td> <td>10    </td> <td>11    </td> <td>12    </td> <td>14    </td> <td>9     </td> <td>11    </td> <td>19    </td> <td>15    </td> <td>18    </td> <td>23    </td> <td>12    </td> <td>13    </td> <td>16    </td> <td>19    </td> <td>20    </td> <td>9     </td> <td>12       </td>\n",
              "        </tr>\n",
              "        <tr>\n",
              "            <td>Hisp </td> <td>GA05070   </td> <td>X   </td> <td>Y     </td> <td>10    </td> <td>12      </td> <td>12      </td> <td>14        </td> <td>17.3   </td> <td>23       </td> <td>10     </td> <td>11       </td> <td>10     </td> <td>10       </td> <td>16    </td> <td>18      </td> <td>14.2   </td> <td>15       </td> <td>14     </td> <td>16       </td> <td>30    </td> <td>33.2    </td> <td>14      </td> <td>15        </td> <td>19     </td> <td>23       </td> <td>11    </td> <td>15      </td> <td>16     </td> <td>18       </td> <td>11    </td> <td>12      </td> <td>13     </td> <td>13       </td> <td>10    </td> <td>13      </td> <td>10     </td> <td>13       </td> <td>6     </td> <td>7       </td> <td>10  </td> <td>10    </td> <td>11    </td> <td>13      </td> <td>25  </td> <td>26   </td> <td>12  </td> <td>14   </td> <td>13  </td> <td>22    </td> <td>7   </td> <td>9     </td> <td>8   </td> <td>12    </td> <td>14  </td> <td>19   </td> <td>13   </td> <td>14     </td> <td>30      </td> <td>24    </td> <td>10    </td> <td>15    </td> <td>13    </td> <td>14    </td> <td>11    </td> <td>12    </td> <td>20    </td> <td>17    </td> <td>15    </td> <td>25    </td> <td>11    </td> <td>12    </td> <td>16    </td> <td>17    </td> <td>22    </td> <td>11    </td> <td>12       </td>\n",
              "        </tr>\n",
              "        <tr>\n",
              "            <td>Hisp </td> <td>GA05071   </td> <td>X   </td> <td>Y     </td> <td>11    </td> <td>15      </td> <td>14      </td> <td>16        </td> <td>19     </td> <td>20       </td> <td>11     </td> <td>12       </td> <td>12     </td> <td>12       </td> <td>17    </td> <td>17      </td> <td>13     </td> <td>13       </td> <td>16     </td> <td>16       </td> <td>30.2  </td> <td>32.2    </td> <td>15      </td> <td>16        </td> <td>17     </td> <td>17       </td> <td>10    </td> <td>10      </td> <td>14     </td> <td>17       </td> <td>11    </td> <td>12      </td> <td>11     </td> <td>13       </td> <td>7     </td> <td>10      </td> <td>13     </td> <td>14       </td> <td>3.2   </td> <td>3.2     </td> <td>8   </td> <td>10    </td> <td>11    </td> <td>12      </td> <td>23  </td> <td>25   </td> <td>9   </td> <td>10   </td> <td>18  </td> <td>26.2  </td> <td>7   </td> <td>9.3   </td> <td>8   </td> <td>11    </td> <td>16  </td> <td>17   </td> <td>14   </td> <td>13     </td> <td>30      </td> <td>24    </td> <td>10    </td> <td>13    </td> <td>13    </td> <td>15    </td> <td>12    </td> <td>13    </td> <td>19    </td> <td>15    </td> <td>16    </td> <td>22    </td> <td>12    </td> <td>13    </td> <td>18    </td> <td>18    </td> <td>23    </td> <td>10    </td> <td>12       </td>\n",
              "        </tr>\n",
              "        <tr>\n",
              "            <td>Cauc </td> <td>GC03394   </td> <td>X   </td> <td>Y     </td> <td>10    </td> <td>12      </td> <td>15      </td> <td>16        </td> <td>19     </td> <td>19       </td> <td>11     </td> <td>11       </td> <td>12     </td> <td>13       </td> <td>15    </td> <td>17      </td> <td>14     </td> <td>15       </td> <td>12     </td> <td>15       </td> <td>30    </td> <td>31      </td> <td>15      </td> <td>16        </td> <td>17     </td> <td>20       </td> <td>11    </td> <td>12      </td> <td>15     </td> <td>18       </td> <td>11    </td> <td>12      </td> <td>13     </td> <td>19       </td> <td>11    </td> <td>12      </td> <td>12     </td> <td>12       </td> <td>5     </td> <td>6       </td> <td>6   </td> <td>9     </td> <td>11    </td> <td>11      </td> <td>21  </td> <td>21   </td> <td>9   </td> <td>10   </td> <td>19  </td> <td>22.2  </td> <td>6   </td> <td>7     </td> <td>8   </td> <td>8     </td> <td>17  </td> <td>18   </td> <td>15   </td> <td>12     </td> <td>28      </td> <td>24    </td> <td>10    </td> <td>11    </td> <td>12    </td> <td>15    </td> <td>9     </td> <td>12    </td> <td>19    </td> <td>13    </td> <td>16    </td> <td>22    </td> <td>12    </td> <td>13    </td> <td>18    </td> <td>16    </td> <td>21    </td> <td>9     </td> <td>11       </td>\n",
              "        </tr>\n",
              "        <tr>\n",
              "            <td>Cauc </td> <td>GT36864   </td> <td>X   </td> <td>Y     </td> <td>10    </td> <td>12      </td> <td>15      </td> <td>17        </td> <td>17.3   </td> <td>20       </td> <td>11     </td> <td>11       </td> <td>11     </td> <td>12       </td> <td>14    </td> <td>19      </td> <td>13     </td> <td>14       </td> <td>16     </td> <td>17.3     </td> <td>31.2  </td> <td>32.2    </td> <td>11      </td> <td>16        </td> <td>19     </td> <td>25       </td> <td>10    </td> <td>14      </td> <td>15     </td> <td>16       </td> <td>9     </td> <td>12      </td> <td>11     </td> <td>19       </td> <td>8     </td> <td>12      </td> <td>13     </td> <td>13       </td> <td>5     </td> <td>7       </td> <td>6   </td> <td>9     </td> <td>12    </td> <td>12      </td> <td>19  </td> <td>21   </td> <td>10  </td> <td>11   </td> <td>22.2</td> <td>28.2  </td> <td>7   </td> <td>9.3   </td> <td>9   </td> <td>11    </td> <td>16  </td> <td>18   </td> <td>14   </td> <td>12     </td> <td>28      </td> <td>23    </td> <td>10    </td> <td>11    </td> <td>13    </td> <td>16    </td> <td>10    </td> <td>11    </td> <td>20    </td> <td>14    </td> <td>15    </td> <td>24    </td> <td>11    </td> <td>13    </td> <td>20    </td> <td>16    </td> <td>21    </td> <td>12    </td> <td>11       </td>\n",
              "        </tr>\n",
              "        <tr>\n",
              "            <td>Cauc </td> <td>GT36866   </td> <td>X   </td> <td>Y     </td> <td>11    </td> <td>11      </td> <td>13      </td> <td>16        </td> <td>18     </td> <td>20       </td> <td>11     </td> <td>12       </td> <td>11     </td> <td>13       </td> <td>13    </td> <td>15      </td> <td>12     </td> <td>14       </td> <td>11     </td> <td>14       </td> <td>31.2  </td> <td>32.2    </td> <td>16      </td> <td>17        </td> <td>18     </td> <td>20       </td> <td>11    </td> <td>14      </td> <td>16     </td> <td>17       </td> <td>11    </td> <td>13      </td> <td>10     </td> <td>18       </td> <td>10    </td> <td>10      </td> <td>10     </td> <td>10       </td> <td>6     </td> <td>6       </td> <td>6   </td> <td>10    </td> <td>11    </td> <td>11      </td> <td>21  </td> <td>21   </td> <td>11  </td> <td>11   </td> <td>25.2</td> <td>30.2  </td> <td>6   </td> <td>9.3   </td> <td>8   </td> <td>8     </td> <td>16  </td> <td>17   </td> <td>14   </td> <td>13     </td> <td>29      </td> <td>23    </td> <td>10    </td> <td>11    </td> <td>12    </td> <td>15    </td> <td>9     </td> <td>11    </td> <td>21    </td> <td>15    </td> <td>14    </td> <td>23    </td> <td>12    </td> <td>13    </td> <td>16    </td> <td>17    </td> <td>23    </td> <td>11    </td> <td>11       </td>\n",
              "        </tr>\n",
              "        <tr>\n",
              "            <td>Cauc </td> <td>GT36875   </td> <td>X   </td> <td>Y     </td> <td>11    </td> <td>11      </td> <td>13      </td> <td>14        </td> <td>18     </td> <td>19       </td> <td>11     </td> <td>12       </td> <td>11     </td> <td>13       </td> <td>14    </td> <td>17      </td> <td>12     </td> <td>14       </td> <td>11     </td> <td>18.3     </td> <td>28    </td> <td>28      </td> <td>15      </td> <td>16        </td> <td>24     </td> <td>25       </td> <td>11.3  </td> <td>14      </td> <td>14     </td> <td>16       </td> <td>12    </td> <td>13      </td> <td>11     </td> <td>12       </td> <td>10    </td> <td>11      </td> <td>12     </td> <td>13       </td> <td>5     </td> <td>6       </td> <td>9   </td> <td>10    </td> <td>10    </td> <td>12      </td> <td>20  </td> <td>24   </td> <td>10  </td> <td>11   </td> <td>14  </td> <td>16    </td> <td>8   </td> <td>9.3   </td> <td>8   </td> <td>8     </td> <td>16  </td> <td>19   </td> <td>14   </td> <td>13     </td> <td>29      </td> <td>23    </td> <td>10    </td> <td>13    </td> <td>13    </td> <td>15    </td> <td>12    </td> <td>11    </td> <td>19    </td> <td>16    </td> <td>17    </td> <td>22    </td> <td>12    </td> <td>12    </td> <td>17    </td> <td>20    </td> <td>23    </td> <td>10    </td> <td>12       </td>\n",
              "        </tr>\n",
              "        <tr>\n",
              "            <td>Cauc </td> <td>GT36877   </td> <td>X   </td> <td>Y     </td> <td>11    </td> <td>11      </td> <td>14      </td> <td>15        </td> <td>17     </td> <td>20       </td> <td>11     </td> <td>11       </td> <td>9      </td> <td>11       </td> <td>16    </td> <td>18      </td> <td>13     </td> <td>16.2     </td> <td>12     </td> <td>15.3     </td> <td>28    </td> <td>30      </td> <td>11      </td> <td>16        </td> <td>18     </td> <td>22       </td> <td>11    </td> <td>12      </td> <td>15     </td> <td>18       </td> <td>11    </td> <td>13      </td> <td>12     </td> <td>14       </td> <td>9     </td> <td>9       </td> <td>12     </td> <td>15       </td> <td>6     </td> <td>7       </td> <td>8   </td> <td>10    </td> <td>10    </td> <td>11      </td> <td>20  </td> <td>26   </td> <td>10  </td> <td>11   </td> <td>15  </td> <td>19    </td> <td>6   </td> <td>8     </td> <td>8   </td> <td>11    </td> <td>15  </td> <td>17   </td> <td>15   </td> <td>12     </td> <td>30      </td> <td>21    </td> <td>10    </td> <td>11    </td> <td>14    </td> <td>16    </td> <td>10    </td> <td>12    </td> <td>22    </td> <td>17    </td> <td>16    </td> <td>22    </td> <td>10    </td> <td>12    </td> <td>17    </td> <td>15    </td> <td>21    </td> <td>13    </td> <td>11       </td>\n",
              "        </tr>\n",
              "        <tr>\n",
              "            <td>Cauc </td> <td>GT36878   </td> <td>X   </td> <td>Y     </td> <td>10    </td> <td>12      </td> <td>13      </td> <td>14        </td> <td>18     </td> <td>18       </td> <td>11     </td> <td>13       </td> <td>8      </td> <td>11       </td> <td>13    </td> <td>17      </td> <td>13     </td> <td>15       </td> <td>15     </td> <td>17.3     </td> <td>30    </td> <td>32.2    </td> <td>14      </td> <td>15        </td> <td>17     </td> <td>18       </td> <td>11    </td> <td>14      </td> <td>15     </td> <td>18       </td> <td>9     </td> <td>11      </td> <td>11     </td> <td>17       </td> <td>9     </td> <td>12      </td> <td>11     </td> <td>13       </td> <td>6     </td> <td>6       </td> <td>8   </td> <td>8     </td> <td>10    </td> <td>11      </td> <td>19  </td> <td>23   </td> <td>12  </td> <td>12   </td> <td>19  </td> <td>28.2  </td> <td>9.3 </td> <td>9.3   </td> <td>8   </td> <td>11    </td> <td>16  </td> <td>19   </td> <td>14   </td> <td>13     </td> <td>29      </td> <td>24    </td> <td>11    </td> <td>13    </td> <td>13    </td> <td>15    </td> <td>12    </td> <td>12    </td> <td>19    </td> <td>16    </td> <td>18    </td> <td>22    </td> <td>13    </td> <td>15    </td> <td>17    </td> <td>18    </td> <td>23    </td> <td>10    </td> <td>11       </td>\n",
              "        </tr>\n",
              "        <tr>\n",
              "            <td>Cauc </td> <td>GT36884   </td> <td>X   </td> <td>Y     </td> <td>10    </td> <td>11      </td> <td>13      </td> <td>13        </td> <td>17     </td> <td>18       </td> <td>11     </td> <td>11       </td> <td>8      </td> <td>12       </td> <td>14    </td> <td>15      </td> <td>12     </td> <td>15       </td> <td>12     </td> <td>13       </td> <td>28    </td> <td>30      </td> <td>16      </td> <td>16        </td> <td>17     </td> <td>24       </td> <td>13    </td> <td>14      </td> <td>14     </td> <td>16       </td> <td>11    </td> <td>12      </td> <td>12     </td> <td>13       </td> <td>8     </td> <td>10      </td> <td>11     </td> <td>11       </td> <td>5     </td> <td>7       </td> <td>6   </td> <td>8     </td> <td>11    </td> <td>11      </td> <td>23  </td> <td>24   </td> <td>12  </td> <td>13   </td> <td>17  </td> <td>19    </td> <td>7   </td> <td>9.3   </td> <td>8   </td> <td>11    </td> <td>17  </td> <td>18   </td> <td>14   </td> <td>13     </td> <td>29      </td> <td>24    </td> <td>11    </td> <td>13    </td> <td>13    </td> <td>15    </td> <td>12    </td> <td>12    </td> <td>19    </td> <td>16    </td> <td>16    </td> <td>22    </td> <td>14    </td> <td>11    </td> <td>17    </td> <td>20    </td> <td>24    </td> <td>10    </td> <td>12       </td>\n",
              "        </tr>\n",
              "    </tbody>\n",
              "</table>\n",
              "<p>... (1026 rows omitted)</p>"
            ]
          },
          "metadata": {},
          "execution_count": 17
        }
      ],
      "source": [
        "raw_profiles = Table.read_table(\"data/CODIS_profiles.csv\")\n",
        "\n",
        "raw_profiles"
      ]
    },
    {
      "cell_type": "markdown",
      "metadata": {
        "id": "vJ_QMUppnsQU"
      },
      "source": [
        "##### Question 1\n",
        "Look at this table more closely. Is there anything you notice about the XXXX versus XXXX.1 columns that suggest a problem with ignoring the latter, which has the second allele?  To help understand this, write code to compare histograms of the two columns associated with a few of the STR loci)."
      ]
    },
    {
      "cell_type": "code",
      "execution_count": null,
      "metadata": {
        "id": "Ad901oUPnsQU"
      },
      "outputs": [],
      "source": [
        "# Question 1 - code"
      ]
    },
    {
      "cell_type": "markdown",
      "metadata": {
        "id": "6YGif3BjnsQU"
      },
      "source": [
        "##### Question 1 - text\n",
        "\n",
        "What's wrong with ignoring the \".1\" allele?  \n",
        "\n",
        "*Give your textual answer here*\n",
        "\n"
      ]
    },
    {
      "cell_type": "markdown",
      "metadata": {
        "id": "rSQYhP5TnsQV"
      },
      "source": [
        "### Restricting to original CODIS core loci but keeping information in both columns\n",
        "Just like last time, we will restrict to the original CODIS loci.   We'll also keep 'Group' because it might be useful for further analysis later.\n",
        "\n",
        "However, unlike last time, we'll include the information from both XXXX and XXXX.1 columns. There is more than one way to do this, so feel free to do it your way.\n",
        "\n",
        "##### Question 2\n",
        "Create a new table, CODIS_profiles_new, with the CODIS loci and *'Group'*, but this time combine the allele values from both allele columns in the original. For example the 'TPOX' column in CODIC_profiles_new will contain the values in both 'TPOX' and 'TPOX.1' in the old CODIS_profiles.\n",
        "\n",
        "There are many ways to do it.  Please code this yourself if you can, but otherwise, you can use the code below... except you need to replace the '???' in the antepenultimate line.\n"
      ]
    },
    {
      "cell_type": "code",
      "execution_count": null,
      "metadata": {
        "id": "45GFb3honsQV",
        "outputId": "2ebddd36-f92e-4d2e-d2a6-fc2d14a625da",
        "colab": {
          "base_uri": "https://localhost:8080/",
          "height": 500
        }
      },
      "outputs": [
        {
          "output_type": "error",
          "ename": "ValueError",
          "evalue": "ignored",
          "traceback": [
            "\u001b[0;31m---------------------------------------------------------------------------\u001b[0m",
            "\u001b[0;31mValueError\u001b[0m                                Traceback (most recent call last)",
            "\u001b[0;32m<ipython-input-18-8c5a59816226>\u001b[0m in \u001b[0;36m<cell line: 19>\u001b[0;34m()\u001b[0m\n\u001b[1;32m     19\u001b[0m \u001b[0;32mfor\u001b[0m \u001b[0ml\u001b[0m \u001b[0;32min\u001b[0m \u001b[0mCODIS_loci\u001b[0m\u001b[0;34m:\u001b[0m\u001b[0;34m\u001b[0m\u001b[0;34m\u001b[0m\u001b[0m\n\u001b[1;32m     20\u001b[0m     \u001b[0mcol1\u001b[0m\u001b[0;34m=\u001b[0m\u001b[0mraw_profiles\u001b[0m\u001b[0;34m.\u001b[0m\u001b[0mcolumn\u001b[0m\u001b[0;34m(\u001b[0m\u001b[0ml\u001b[0m\u001b[0;34m)\u001b[0m\u001b[0;34m\u001b[0m\u001b[0;34m\u001b[0m\u001b[0m\n\u001b[0;32m---> 21\u001b[0;31m     \u001b[0mcol2\u001b[0m\u001b[0;34m=\u001b[0m\u001b[0mraw_profiles\u001b[0m\u001b[0;34m.\u001b[0m\u001b[0mcolumn\u001b[0m\u001b[0;34m(\u001b[0m\u001b[0ml\u001b[0m\u001b[0;34m+\u001b[0m\u001b[0;34m'???'\u001b[0m\u001b[0;34m)\u001b[0m \u001b[0;31m# concatenate strings to get name of second column\u001b[0m\u001b[0;34m\u001b[0m\u001b[0;34m\u001b[0m\u001b[0m\n\u001b[0m\u001b[1;32m     22\u001b[0m     \u001b[0mnew_col\u001b[0m\u001b[0;34m=\u001b[0m\u001b[0mnp\u001b[0m\u001b[0;34m.\u001b[0m\u001b[0marray\u001b[0m\u001b[0;34m(\u001b[0m\u001b[0mlist\u001b[0m\u001b[0;34m(\u001b[0m\u001b[0mcol1\u001b[0m\u001b[0;34m)\u001b[0m\u001b[0;34m+\u001b[0m\u001b[0mlist\u001b[0m\u001b[0;34m(\u001b[0m\u001b[0mcol2\u001b[0m\u001b[0;34m)\u001b[0m\u001b[0;34m)\u001b[0m \u001b[0;31m# concatenate lists, make into array\u001b[0m\u001b[0;34m\u001b[0m\u001b[0;34m\u001b[0m\u001b[0m\n\u001b[1;32m     23\u001b[0m     \u001b[0mCODIS_profiles_new\u001b[0m\u001b[0;34m.\u001b[0m\u001b[0mappend_column\u001b[0m\u001b[0;34m(\u001b[0m\u001b[0ml\u001b[0m\u001b[0;34m,\u001b[0m \u001b[0mnew_col\u001b[0m\u001b[0;34m)\u001b[0m\u001b[0;34m\u001b[0m\u001b[0;34m\u001b[0m\u001b[0m\n",
            "\u001b[0;32m/usr/local/lib/python3.10/dist-packages/datascience/tables.py\u001b[0m in \u001b[0;36mcolumn\u001b[0;34m(self, index_or_label)\u001b[0m\n\u001b[1;32m    406\u001b[0m         if (isinstance(index_or_label, str)\n\u001b[1;32m    407\u001b[0m                 and index_or_label not in self.labels):\n\u001b[0;32m--> 408\u001b[0;31m             raise ValueError(\n\u001b[0m\u001b[1;32m    409\u001b[0m                 \u001b[0;34m'The column \"{}\" is not in the table. The table contains '\u001b[0m\u001b[0;34m\u001b[0m\u001b[0;34m\u001b[0m\u001b[0m\n\u001b[1;32m    410\u001b[0m                 \u001b[0;34m'these columns: {}'\u001b[0m\u001b[0;34m\u001b[0m\u001b[0;34m\u001b[0m\u001b[0m\n",
            "\u001b[0;31mValueError\u001b[0m: The column \"TPOX???\" is not in the table. The table contains these columns: Group, SampleCode, AMEL, AMEL.1, CSF1PO, CSF1PO.1, D10S1248, D10S1248.1, D12S391, D12S391.1, D13S317, D13S317.1, D16S539, D16S539.1, D18S51, D18S51.1, D19S433, D19S433.1, D1S1656, D1S1656.1, D21S11, D21S11.1, D22S1045, D22S1045.1, D2S1338, D2S1338.1, D2S441, D2S441.1, D3S1358, D3S1358.1, D5S818, D5S818.1, D6S1043, D6S1043.1, D7S820, D7S820.1, D8S1179, D8S1179.1, F13A01, F13A01.1, F13B, F13B.1, FESFPS, FESFPS.1, FGA, FGA.1, LPL, LPL.1, SE33, SE33.1, TH01, TH01.1, TPOX, TPOX.1, vWA, vWA.1, DYS19, DYS389I, DYS389II, DYS390, DYS391, DYS392, DYS393, DYS437, DYS438, DYS439, DYS448, DYS456, DYS458, DYS481, DYS533, DYS549, DYS570, DYS576, DYS635, DYS643, Y-GATA-H4"
          ]
        }
      ],
      "source": [
        "# Question 2\n",
        "# Append a copy of the 'Group' column\n",
        "# to the original column\n",
        "group=raw_profiles.column('Group')\n",
        "new_group=np.array(list(group)*2)\n",
        "# when you multiply a list by k, it concatenates\n",
        "# itself with itself k-1 times\n",
        "\n",
        "# initialize a new table with the column new_group\n",
        "CODIS_profiles_new=Table()\n",
        "CODIS_profiles_new.append_column('Ethnicity', new_group)\n",
        "\n",
        "# for the other columns, loop through the loci, concatenate\n",
        "# XXXX and XXXX.1 columns, and append to table\n",
        "CODIS_loci=['TPOX', 'D3S1358', 'FGA', 'D5S818',\n",
        "            'CSF1PO', 'D7S820', 'D8S1179', 'TH01', 'vWA',\n",
        "            'D13S317', 'D16S539', 'D18S51', 'D21S11']\n",
        "\n",
        "for l in CODIS_loci:\n",
        "    col1=raw_profiles.column(l)\n",
        "    col2=raw_profiles.column(l+'???') # concatenate strings to get name of second column\n",
        "    new_col=np.array(list(col1)+list(col2)) # concatenate lists, make into array\n",
        "    CODIS_profiles_new.append_column(l, new_col)\n",
        "\n",
        "CODIS_profiles_new"
      ]
    },
    {
      "cell_type": "markdown",
      "metadata": {
        "id": "VVV09DDGnsQV"
      },
      "source": [
        "##### Question 3\n",
        "Check that the distributions of alleles you get from CODIS_profiles_new do reflect the data from the second columns for each STR locus, by plotting a histogram of the new columns.\n",
        "\n"
      ]
    },
    {
      "cell_type": "code",
      "execution_count": null,
      "metadata": {
        "id": "qalF138QnsQV"
      },
      "outputs": [],
      "source": [
        "# Question 3"
      ]
    },
    {
      "cell_type": "markdown",
      "metadata": {
        "id": "vkw_emG2nsQW"
      },
      "source": [
        "### Let's Calculate Match Probabilities"
      ]
    },
    {
      "cell_type": "code",
      "execution_count": null,
      "metadata": {
        "id": "Om1-sft7nsQW",
        "colab": {
          "base_uri": "https://localhost:8080/",
          "height": 328
        },
        "outputId": "564a364e-6e10-4773-a120-e059b34429ad"
      },
      "outputs": [
        {
          "output_type": "error",
          "ename": "ValueError",
          "evalue": "ignored",
          "traceback": [
            "\u001b[0;31m---------------------------------------------------------------------------\u001b[0m",
            "\u001b[0;31mValueError\u001b[0m                                Traceback (most recent call last)",
            "\u001b[0;32m<ipython-input-12-519b6eb5a3db>\u001b[0m in \u001b[0;36m<cell line: 1>\u001b[0;34m()\u001b[0m\n\u001b[0;32m----> 1\u001b[0;31m \u001b[0mCODIS_profiles_new\u001b[0m\u001b[0;34m.\u001b[0m\u001b[0mgroup\u001b[0m\u001b[0;34m(\u001b[0m\u001b[0;34m'TPOX'\u001b[0m\u001b[0;34m)\u001b[0m\u001b[0;34m\u001b[0m\u001b[0;34m\u001b[0m\u001b[0m\n\u001b[0m",
            "\u001b[0;32m/usr/local/lib/python3.10/dist-packages/datascience/tables.py\u001b[0m in \u001b[0;36mgroup\u001b[0;34m(self, column_or_label, collect)\u001b[0m\n\u001b[1;32m   1557\u001b[0m \u001b[0;34m\u001b[0m\u001b[0m\n\u001b[1;32m   1558\u001b[0m         \u001b[0;31m# Remove column used for grouping\u001b[0m\u001b[0;34m\u001b[0m\u001b[0;34m\u001b[0m\u001b[0m\n\u001b[0;32m-> 1559\u001b[0;31m         \u001b[0mcolumn\u001b[0m \u001b[0;34m=\u001b[0m \u001b[0mself\u001b[0m\u001b[0;34m.\u001b[0m\u001b[0m_get_column\u001b[0m\u001b[0;34m(\u001b[0m\u001b[0mcolumn_or_label\u001b[0m\u001b[0;34m)\u001b[0m\u001b[0;34m\u001b[0m\u001b[0;34m\u001b[0m\u001b[0m\n\u001b[0m\u001b[1;32m   1560\u001b[0m         \u001b[0;32mif\u001b[0m \u001b[0misinstance\u001b[0m\u001b[0;34m(\u001b[0m\u001b[0mcolumn_or_label\u001b[0m\u001b[0;34m,\u001b[0m \u001b[0mstr\u001b[0m\u001b[0;34m)\u001b[0m \u001b[0;32mor\u001b[0m \u001b[0misinstance\u001b[0m\u001b[0;34m(\u001b[0m\u001b[0mcolumn_or_label\u001b[0m\u001b[0;34m,\u001b[0m \u001b[0mnumbers\u001b[0m\u001b[0;34m.\u001b[0m\u001b[0mIntegral\u001b[0m\u001b[0;34m)\u001b[0m\u001b[0;34m:\u001b[0m\u001b[0;34m\u001b[0m\u001b[0;34m\u001b[0m\u001b[0m\n\u001b[1;32m   1561\u001b[0m             \u001b[0mcolumn_label\u001b[0m \u001b[0;34m=\u001b[0m \u001b[0mself\u001b[0m\u001b[0;34m.\u001b[0m\u001b[0m_as_label\u001b[0m\u001b[0;34m(\u001b[0m\u001b[0mcolumn_or_label\u001b[0m\u001b[0;34m)\u001b[0m\u001b[0;34m\u001b[0m\u001b[0;34m\u001b[0m\u001b[0m\n",
            "\u001b[0;32m/usr/local/lib/python3.10/dist-packages/datascience/tables.py\u001b[0m in \u001b[0;36m_get_column\u001b[0;34m(self, column_or_label)\u001b[0m\n\u001b[1;32m   2207\u001b[0m             \u001b[0;32mreturn\u001b[0m \u001b[0mself\u001b[0m\u001b[0;34m[\u001b[0m\u001b[0mc\u001b[0m\u001b[0;34m]\u001b[0m\u001b[0;34m\u001b[0m\u001b[0;34m\u001b[0m\u001b[0m\n\u001b[1;32m   2208\u001b[0m         \u001b[0;32melif\u001b[0m \u001b[0misinstance\u001b[0m\u001b[0;34m(\u001b[0m\u001b[0mc\u001b[0m\u001b[0;34m,\u001b[0m \u001b[0mstr\u001b[0m\u001b[0;34m)\u001b[0m\u001b[0;34m:\u001b[0m\u001b[0;34m\u001b[0m\u001b[0;34m\u001b[0m\u001b[0m\n\u001b[0;32m-> 2209\u001b[0;31m             \u001b[0;32mraise\u001b[0m \u001b[0mValueError\u001b[0m\u001b[0;34m(\u001b[0m\u001b[0;34m'label \"{}\" not in labels {}'\u001b[0m\u001b[0;34m.\u001b[0m\u001b[0mformat\u001b[0m\u001b[0;34m(\u001b[0m\u001b[0mc\u001b[0m\u001b[0;34m,\u001b[0m \u001b[0mself\u001b[0m\u001b[0;34m.\u001b[0m\u001b[0mlabels\u001b[0m\u001b[0;34m)\u001b[0m\u001b[0;34m)\u001b[0m\u001b[0;34m\u001b[0m\u001b[0;34m\u001b[0m\u001b[0m\n\u001b[0m\u001b[1;32m   2210\u001b[0m         \u001b[0;32melse\u001b[0m\u001b[0;34m:\u001b[0m\u001b[0;34m\u001b[0m\u001b[0;34m\u001b[0m\u001b[0m\n\u001b[1;32m   2211\u001b[0m             \u001b[0;32massert\u001b[0m \u001b[0mlen\u001b[0m\u001b[0;34m(\u001b[0m\u001b[0mc\u001b[0m\u001b[0;34m)\u001b[0m \u001b[0;34m==\u001b[0m \u001b[0mself\u001b[0m\u001b[0;34m.\u001b[0m\u001b[0mnum_rows\u001b[0m\u001b[0;34m,\u001b[0m \u001b[0;34m'column length mismatch'\u001b[0m\u001b[0;34m\u001b[0m\u001b[0;34m\u001b[0m\u001b[0m\n",
            "\u001b[0;31mValueError\u001b[0m: label \"TPOX\" not in labels ('Ethnicity',)"
          ]
        }
      ],
      "source": [
        "CODIS_profiles_new.group('TPOX')"
      ]
    },
    {
      "cell_type": "markdown",
      "metadata": {
        "id": "Qt3dIw3HnsQW"
      },
      "source": [
        "Allele 8 is the most common allele for TPOX. Last time, to calculate an upper bound on the match probability, we assumed that an individual's DNA fingerprint consists of one allele per STR locus. i.e., their TPOX allele was 8.  But few human cells are haploid.\n",
        "\n",
        "##### Question 4\n",
        "This time, have each DNA fingerprint take account of two alleles for each STR locus, and assume that each allele is the most common one for each locus, e.g., the TPOX allele would be (8,8).\n",
        "\n",
        "Calculate the probability that an individual has the most common alleles (on both chromosomes) for each of the 13 STR loci?"
      ]
    },
    {
      "cell_type": "code",
      "execution_count": null,
      "metadata": {
        "id": "3Ia2UZ2ZnsQW"
      },
      "outputs": [],
      "source": [
        "#Question 4"
      ]
    },
    {
      "cell_type": "markdown",
      "metadata": {
        "id": "FUa4XxuBnsQW"
      },
      "source": [
        "##### Question 5\n",
        "Generate two diploid DNA fingerprints arbitrarily. Do this any way you want, so long as alleles in the fingerprint are present within CODIS_profiles_new."
      ]
    },
    {
      "cell_type": "code",
      "execution_count": null,
      "metadata": {
        "id": "ZV4UHu0jnsQW"
      },
      "outputs": [],
      "source": [
        "# Question 5"
      ]
    },
    {
      "cell_type": "markdown",
      "metadata": {
        "id": "lbX0hZ1_nsQW"
      },
      "source": [
        "##### Question 6\n",
        "Probably those two fingerprints are not identical.  Calculate the probability that these two would have been identical at each diploid locus -- and then across all 13 diploid loci"
      ]
    },
    {
      "cell_type": "code",
      "execution_count": null,
      "metadata": {
        "id": "CJsflJEynsQX"
      },
      "outputs": [],
      "source": []
    },
    {
      "cell_type": "markdown",
      "metadata": {
        "id": "-XAP5zkcnsQX"
      },
      "source": [
        "##### Question 7\n",
        "\n",
        "In the extra section, we'll see how the Ethnicity can impact matches.\n",
        "\n",
        "Mention a few ways in which people of different backgrounds might be unequally likely to identified and found guilty using matches to CODIS data"
      ]
    },
    {
      "cell_type": "markdown",
      "metadata": {
        "id": "Xk_qvXQhnsQX"
      },
      "source": [
        "##### Answer Question 7 Here"
      ]
    },
    {
      "cell_type": "markdown",
      "metadata": {
        "id": "WhqOky98nsQX"
      },
      "source": [
        "### Extra (optional):\n",
        "\n",
        "##### Question 8\n",
        "Use Bayes Rule and the size of the US population to etsimate the probability of innocence given a match between to profiles."
      ]
    },
    {
      "cell_type": "code",
      "execution_count": null,
      "metadata": {
        "id": "xlI2MJKdnsQX"
      },
      "outputs": [],
      "source": [
        "# Question 8"
      ]
    },
    {
      "cell_type": "markdown",
      "metadata": {
        "id": "YPORIVZ7nsQX"
      },
      "source": [
        "\n",
        "##### Question 9\n",
        "Suppose we also know the ethnicity of an individual. What is the probability that their DNA fingerprint is the most common for their ethnic group? For this, you'll need to use the 'Ethnicity' (originally labeled 'Group') column and pivot, pivot_hist, functions.\n"
      ]
    },
    {
      "cell_type": "code",
      "execution_count": null,
      "metadata": {
        "id": "x8WvBxsgnsQX"
      },
      "outputs": [],
      "source": [
        "# Question 9"
      ]
    },
    {
      "cell_type": "markdown",
      "metadata": {
        "id": "UMHSjcyPnsQY"
      },
      "source": [
        "Congrats on finishing Lab 3b!\n",
        "\n",
        "Adapted from Shishi Luo by Sarp Dora Kurtoglu and Steven E. Brenner for UC Berkeley PMB/MCB/BioE c146. September 2022."
      ]
    }
  ],
  "metadata": {
    "kernelspec": {
      "display_name": "Python 3 (ipykernel)",
      "language": "python",
      "name": "python3"
    },
    "language_info": {
      "codemirror_mode": {
        "name": "ipython",
        "version": 3
      },
      "file_extension": ".py",
      "mimetype": "text/x-python",
      "name": "python",
      "nbconvert_exporter": "python",
      "pygments_lexer": "ipython3",
      "version": "3.9.13"
    },
    "colab": {
      "provenance": [],
      "include_colab_link": true
    }
  },
  "nbformat": 4,
  "nbformat_minor": 0
}