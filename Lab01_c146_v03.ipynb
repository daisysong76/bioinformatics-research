{
  "cells": [
    {
      "cell_type": "markdown",
      "metadata": {
        "id": "view-in-github",
        "colab_type": "text"
      },
      "source": [
        "<a href=\"https://colab.research.google.com/github/daisysong76/bioinformatics-research/blob/main/Lab01_c146_v03.ipynb\" target=\"_parent\"><img src=\"https://colab.research.google.com/assets/colab-badge.svg\" alt=\"Open In Colab\"/></a>"
      ]
    },
    {
      "cell_type": "markdown",
      "metadata": {
        "id": "LjiXZb2eo-v0"
      },
      "source": [
        "# [DS4Bio] Lab 1: Python Coding of Genetic Coding\n",
        "### Data Science for Biology\n",
        "**Notebook developed by:** *Sarp Dora Kurtoglu*<br>\n",
        "**Notebook updated by:** *Skye Pickett, Zcjanin Ollesca, Xiaomei Song, Diego Sotomayor, Evie Currington*\n",
        "\n",
        "### Learning Outcomes\n",
        "\n",
        "In this notebook, you will learn about:\n",
        "* Central Dogma\n",
        "* Manipulating genetic sequences represented as strings\n",
        "* Transcribing strands into mRNA\n",
        "* Translating mRNA into amino acid sequences\n",
        "* *Optional:* Alternative codon tables\n",
        "\n",
        "\n",
        "## Table of Contents\n",
        "1. [Central Dogma](#1.-Central-Dogma)\n",
        "1. [Transcription](#2.-Transcription)\n",
        "1. [Translation](#3.-Translation)\n",
        "1. [EXTRA/OPTIONAL: Alternative Codon Tables](#4.-EXTRA/OPTIONAL:-Alternative-Codon-Tables)\n",
        "1. [Conclusion](#5.-Conclusion)\n",
        "***"
      ]
    },
    {
      "cell_type": "markdown",
      "source": [
        "### Helpful Data Science Resources\n",
        "Here are some resources you can check out while doing this notebook!\n",
        "\n",
        "- [Reference Sheet for the datascience Module](http://data8.org/sp22/python-reference.html)<br>(This is extremely helpful whenever you need a cheatsheet!)\n",
        "- [Documentation for the datascience Module](http://data8.org/datascience/index.html)\n",
        "\n",
        "### Peer Consulting\n",
        "\n",
        "If you find yourself having trouble with any content in this notebook, Data Peer Consultants are an excellent resource! Click [here](https://dlab.berkeley.edu/training/frontdesk-info) to locate live help.\n",
        "\n",
        "Peer Consultants are there to answer all data-related questions, whether it be about the content of this notebook, applications of data science in the world, or other data science courses offered at Berkeley.\n",
        "\n",
        "---"
      ],
      "metadata": {
        "id": "Zc5oMGifOWfI"
      }
    },
    {
      "cell_type": "markdown",
      "source": [
        "To prepare our notebook environment, run the following cell which imports the necessary packages. It will print `All necessary packages have been imported.` below the cell when it's completed importing."
      ],
      "metadata": {
        "id": "v2n9ftEiOkl2"
      }
    },
    {
      "cell_type": "code",
      "source": [
        "# Run this cell\n",
        "from datascience import *\n",
        "%matplotlib inline\n",
        "import matplotlib.pyplot as plt\n",
        "import numpy as np\n",
        "import scipy.stats as sp\n",
        "plt.style.use('fivethirtyeight')\n",
        "from IPython.display import Image\n",
        "print(\"All necessary packages have been imported.\")\n"
      ],
      "metadata": {
        "id": "Ve2IaKygZL2Z"
      },
      "execution_count": null,
      "outputs": []
    },
    {
      "cell_type": "markdown",
      "metadata": {
        "id": "bVCQIm_8o-v6"
      },
      "source": [
        "## 1. Central Dogma"
      ]
    },
    {
      "cell_type": "markdown",
      "metadata": {
        "id": "2VsDmDsgo-v6"
      },
      "source": [
        "The **central dogma of molecular biology** is a ***theory*** stating that genetic information flows in one direction, from DNA --> RNA --> protein, or RNA directly to protein. The conversion from DNA to RNA is called **transcription** and the conversion from RNA to protein is called **translation**.\n",
        "***\n",
        "### 1.1 Coding Strand of GFP DNA\n",
        "\n",
        "In this lab, we will look at the GFP protein's DNA sequence. GFP is a fluorescent protein that helps biological researchers visualize structures in laboratory settings.\n",
        "\n",
        "The coding strand of GFP DNA (5' -> 3') is provided below ([source](https://www.ncbi.nlm.nih.gov/nuccore/L29345.1)). In the code cell, we assign the string containing the coding strand of GFP DNA to the variable `coding_strand`."
      ]
    },
    {
      "cell_type": "code",
      "execution_count": null,
      "metadata": {
        "id": "JfdY_QJdo-v7"
      },
      "outputs": [],
      "source": [
        "coding_strand = \"tacacacgaataaaagataacaaagatgagtaaaggagaagaacttttcactggagttgtcccaattcttgttgaattagatggcgatgttaatgggcaaaaattctctgtcagtggagagggtgaaggtgatgcaacatacggaaaacttacccttaaatttatttgcactactgggaagctacctgttccatggccaacacttgtcactactttctcttatggtgttcaatgcttttcaagatacccagatcatatgaaacagcatgactttttcaagagtgccatgcccgaaggttatgtacaggaaagaactatattttacaaagatgacgggaactacaagacacgtgctgaagtcaagtttgaaggtgatacccttgttaatagaatcgagttaaaaggtattgattttaaagaagatggaaacattcttggacacaaaatggaatacaactataactcacataatgtatacatcatggcagacaaaccaaagaatggaatcaaagttaacttcaaaattagacacaacattaaagatggaagcgttcaattagcagaccattatcaacaaaatactccaattggcgatggccctgtccttttaccagacaaccattacctgtccacacaatctgccctttccaaagatcccaacgaaaagagagatcacatgatccttcttgagtttgtaacagctgctgggattacacatggcatggatgaactatacaaataaatgtccagacttccaattgacactaaagtgtccgaacaattactaaattctcagggttcctggttaaattcaggctgagactttatttatatatttatagattcattaaaattttatgaataatttattgatgttattaataggggctattttcttattaaataggctactggagtgtat\"\n",
        "coding_strand"
      ]
    },
    {
      "cell_type": "markdown",
      "metadata": {
        "id": "Zm_RSqwLo-v9"
      },
      "source": [
        "Conventionally, the coding strand is usually provided instead of the template strand because it is closer to what the mRNA will look like.\n",
        "\n",
        "It is much easier to look only at the coding strand and predict the amino acid sequence that it will code for. However, obtaining the mRNA from the coding strand is not very challenging in terms of coding: **all we need to do is change all of the thymines to uracils.**\n",
        "***\n",
        "### 1.2 Template Strand of GFP DNA\n",
        "\n",
        "So, we will instead start with the **template strand (3' -> 5')** assigned to the variable `template_strand`."
      ]
    },
    {
      "cell_type": "code",
      "execution_count": null,
      "metadata": {
        "id": "FzsgMj6Co-v9"
      },
      "outputs": [],
      "source": [
        "template_strand = \"atgtgtgcttattttctattgtttctactcatttcctcttcttgaaaagtgacctcaacagggttaagaacaacttaatctaccgctacaattacccgtttttaagagacagtcacctctcccacttccactacgttgtatgccttttgaatgggaatttaaataaacgtgatgacccttcgatggacaaggtaccggttgtgaacagtgatgaaagagaataccacaagttacgaaaagttctatgggtctagtatactttgtcgtactgaaaaagttctcacggtacgggcttccaatacatgtcctttcttgatataaaatgtttctactgcccttgatgttctgtgcacgacttcagttcaaacttccactatgggaacaattatcttagctcaattttccataactaaaatttcttctacctttgtaagaacctgtgttttaccttatgttgatattgagtgtattacatatgtagtaccgtctgtttggtttcttaccttagtttcaattgaagttttaatctgtgttgtaatttctaccttcgcaagttaatcgtctggtaatagttgttttatgaggttaaccgctaccgggacaggaaaatggtctgttggtaatggacaggtgtgttagacgggaaaggtttctagggttgcttttctctctagtgtactaggaagaactcaaacattgtcgacgaccctaatgtgtaccgtacctacttgatatgtttatttacaggtctgaaggttaactgtgatttcacaggcttgttaatgatttaagagtcccaaggaccaatttaagtccgactctgaaataaatatataaatatctaagtaattttaaaatacttattaaataactacaataattatccccgataaaagaataatttatccgatgacctcacata\"\n",
        "template_strand"
      ]
    },
    {
      "cell_type": "markdown",
      "metadata": {
        "id": "0otoHvRxo-v-"
      },
      "source": [
        "<font color = #d14d0f>**QUESTION 1**:</font> **How many nucleotides long is the GFP template strand?**\n",
        ">*Hint:<br>- The built-in function `len(__)` could be useful.*\n",
        "<br> - Use the code cell below."
      ]
    },
    {
      "cell_type": "code",
      "execution_count": null,
      "metadata": {
        "id": "JTjzHvT9o-v-"
      },
      "outputs": [],
      "source": [
        "# Question 1 -- YOUR CODE HERE\n",
        "len(template_strand)\n"
      ]
    },
    {
      "cell_type": "markdown",
      "metadata": {
        "id": "XmJhFgz4o-v_"
      },
      "source": [
        "<font color = #d14d0f>**QUESTION 2**:</font> **What is the percentage of adenosine (a) nucleotides in the *double stranded* GFP DNA? How about guanine? Thymine? Cytosine? Show your work and code below:**\n",
        ">*Hint:<br>- Think about iteration and how we can use it throught the specific variable we want.<br>*"
      ]
    },
    {
      "cell_type": "code",
      "execution_count": null,
      "metadata": {
        "id": "C8EOjiJDo-v_"
      },
      "outputs": [],
      "source": [
        "# Question 2 -- YOUR CODE HERE\n",
        "\n",
        "#Let's create variables that will be the number of the specific element we will look for\n",
        "adenosine = 0\n",
        "thymine = 0\n",
        "guanine = 0\n",
        "cytosine = 0\n",
        "\n",
        "#Let's iterate through the string using a for loop and conditionals\n",
        "for character in coding_strand:\n",
        "  if character == 'a':\n",
        "    adenosine += 1\n",
        "  elif character == 't':\n",
        "    thymine += 1\n",
        "  elif character == 'g':\n",
        "    guanine += 1\n",
        "  elif character == 'c':\n",
        "    cytosine += 1\n",
        "\n",
        "#Let's get the length of the string to calculate the percent\n",
        "length = len(coding_strand)\n",
        "\n",
        "#Let's calculate the percentage of our integers\n",
        "percentage_adenosine = adenosine / length * 100\n",
        "percentage_thymine = thymine / length * 100\n",
        "percentage_guanine = guanine / length * 100\n",
        "percentage_cytosine = cytosine / length * 100\n",
        "\n",
        "percentage_adenosine, percentage_thymine, percentage_guanine, percentage_cytosine\n",
        "\n",
        "\n",
        "#Hint: The percetanges for adenosine and thymine, and percetages for guanine and cytosine should be equal due to base pairing trends."
      ]
    },
    {
      "cell_type": "markdown",
      "metadata": {
        "id": "0nkCIayEo-wA"
      },
      "source": [
        "***\n",
        "## 2. Transcription"
      ]
    },
    {
      "cell_type": "markdown",
      "metadata": {
        "id": "HK104Ubko-wA"
      },
      "source": [
        "<font color = #d14d0f>**QUESTION 3**:</font> **Now, we would like to transcribe the GFP template strand into mRNA. First, let's create a dictionary called `base_pairs` to pair the 4 base pairs for transcription purposes. This will be useful when transcibing our gene's DNA sequence into an mRNA. Be aware that RNAs contain the uracil (U) nucleotide instead of thymine (T).**\n",
        ">*Hint:<br>- Use the dictionary in the cell below, which includes the first two entries for you.<br> - Use the image below to reference for conceptual understanding.*"
      ]
    },
    {
      "cell_type": "markdown",
      "source": [
        "<img src=\"images/base_pairs.jpg\" alt=\"Base Pairs mRNA\"/>"
      ],
      "metadata": {
        "id": "J_ozlubooZcF"
      }
    },
    {
      "cell_type": "code",
      "execution_count": null,
      "metadata": {
        "id": "yweIos9Io-wA"
      },
      "outputs": [],
      "source": [
        "# Question 3 -- YOUR CODE HERE\n",
        "#The first two entries are provided for you.\n",
        "base_pairs = {\n",
        "    \"a\":\"u\",\n",
        "    \"t\":\"a\",\n",
        "    \"g\":\"c\",\n",
        "    \"c\":\"g\"\n",
        "}"
      ]
    },
    {
      "cell_type": "markdown",
      "metadata": {
        "id": "7ol0qhkco-wB"
      },
      "source": [
        "<font color = #d14d0f>**QUESTION 4**:</font> **Now, write a function `transcribe()` that takes a string seq (5'->3') as input and outputs the mRNA (5'->3') that the DNA inputted codes for. Be aware that transcription occurs by taking the DNA provided as template. So, the mRNA outputted by transcribe() should be reverse complement of the DNA:**\n",
        ">*Hint:<br>- The dictionary we created in Question 3 can be useful specially if we use the method `get()`.\n",
        "<br>- The function is named `transcribe` and has only one argument, `seq`.*\n"
      ]
    },
    {
      "cell_type": "code",
      "execution_count": null,
      "metadata": {
        "id": "AByvxUKWo-wB"
      },
      "outputs": [],
      "source": [
        "# Question 4 -- YOUR CODE HERE\n",
        "def transcribe(seq):\n",
        "  translation = \"\"\n",
        "  for element in seq:\n",
        "    new_letter = base_pairs.get(element)\n",
        "    translation += new_letter\n",
        "  return translation\n"
      ]
    },
    {
      "cell_type": "markdown",
      "metadata": {
        "id": "aTkP0_yjo-wB"
      },
      "source": [
        "<font color = #d14d0f>**QUESTION 5**:</font> **Now let's put to use the `transcribe` function we just defined in Question 4. We want to obtain the mRNA sequence for the GFP DNA. Make sure it is in the 5'->3' direction. Save the final mRNA sequence in a string called `mrna`.**"
      ]
    },
    {
      "cell_type": "code",
      "execution_count": null,
      "metadata": {
        "id": "GhIWR31Yo-wB"
      },
      "outputs": [],
      "source": [
        "# Question 5 -- YOUR CODE HERE\n",
        "mrna = transcribe(coding_strand)\n",
        "mrna"
      ]
    },
    {
      "cell_type": "markdown",
      "metadata": {
        "id": "4y-zWQlIo-wB"
      },
      "source": [
        "<font color = #d14d0f>**QUESTION 6**:</font> **Looking at `mrna` from Question 5, where is the first start codon, and where does the open reading\n",
        "frame (ORF) starting with it end? Print the reading frame portion of the mRNA (including the start and stop codons). Save the final mRNA reading frame as a string under the variable `mrna_frame`. Show your work and code below.**\n",
        ">*Hint:<br>- Remember that a string needs to be in quotes (ie, `\"dna\"` and `'dna'` are strings but `dna` is not).*\n",
        "\n"
      ]
    },
    {
      "cell_type": "code",
      "execution_count": null,
      "metadata": {
        "id": "D063ZeQro-wC"
      },
      "outputs": [],
      "source": [
        "# Question 6 -- YOUR CODE HERE\n",
        "mrna_frame = ...\n",
        "mrna_frame"
      ]
    },
    {
      "cell_type": "markdown",
      "metadata": {
        "id": "H9loU7vVo-wC"
      },
      "source": [
        "***\n",
        "## 3. Translation"
      ]
    },
    {
      "cell_type": "markdown",
      "metadata": {
        "id": "8dd2STAGo-wC"
      },
      "source": [
        "**Finally, for the last part of the central dogma, we will translate our mRNA into an amino acid sequence!**\n",
        "\n",
        "You are provided the standard codon conversion table below. The keys of this dictionary are the 3-nucleotides long codons and corresponding values are the amino acids they code for.\n",
        ">*Hint:<br>-Reminder that dictionary keys are the values in front of the colons and the values are the values after the colon. A dictionary is a list of pairs, each with one key and one value.<br> ie) `dict = {'<key_1>': \"<value_1>\", \"<key_2>\": \"<value_2\">}`* is a dictionary with 2 pairs.\n",
        "\n",
        "Be sure to **run the cell below** so the `codon_table` variable gets defined."
      ]
    },
    {
      "cell_type": "code",
      "execution_count": null,
      "metadata": {
        "id": "49YZiw7ro-wC"
      },
      "outputs": [],
      "source": [
        "codon_table = {\n",
        "    'AUA':'I', 'AUC':'I', 'AUU':'I', 'AUG':'M',\n",
        "    'ACA':'T', 'ACC':'T', 'ACG':'T', 'ACU':'T',\n",
        "    'AAC':'N', 'AAU':'N', 'AAA':'K', 'AAG':'K',\n",
        "    'AGC':'S', 'AGU':'S', 'AGA':'R', 'AGG':'R',\n",
        "    'CUA':'L', 'CUC':'L', 'CUG':'L', 'CUU':'L',\n",
        "    'CCA':'P', 'CCC':'P', 'CCG':'P', 'CCU':'P',\n",
        "    'CAC':'H', 'CAU':'H', 'CAA':'Q', 'CAG':'Q',\n",
        "    'CGA':'R', 'CGC':'R', 'CGG':'R', 'CGU':'R',\n",
        "    'GUA':'V', 'GUC':'V', 'GUG':'V', 'GUU':'V',\n",
        "    'GCA':'A', 'GCC':'A', 'GCG':'A', 'GCU':'A',\n",
        "    'GAC':'D', 'GAU':'D', 'GAA':'E', 'GAG':'E',\n",
        "    'GGA':'G', 'GGC':'G', 'GGG':'G', 'GGU':'G',\n",
        "    'UCA':'S', 'UCC':'S', 'UCG':'S', 'UCU':'S',\n",
        "    'UUC':'F', 'UUU':'F', 'UUA':'L', 'UUG':'L',\n",
        "    'UAC':'Y', 'UAU':'Y', 'UAA':'_', 'UAG':'_',\n",
        "    'UGC':'C', 'UGU':'C', 'UGA':'_', 'UGG':'W'}"
      ]
    },
    {
      "cell_type": "markdown",
      "metadata": {
        "id": "Htf7d7P3o-wD"
      },
      "source": [
        "\n",
        "<font color = #d14d0f>**QUESTION 7**:</font> **Using the variable, `mrna_frame`, from Question 6, create a list called `codons` which contains every codon in the reading frame *in order*. Finally, print `codons`.**<br> **Important: The mrna nucleotides were all lower case but the codons in the codon_table are all upper case. You will need to capitalize all of the nucleotides before using codon_table.**\n",
        ">*Hint:<br>- You can use `string.upper()` to convert each character of the string to upper case.*\n"
      ]
    },
    {
      "cell_type": "code",
      "execution_count": null,
      "metadata": {
        "id": "4z5lfNOVo-wD"
      },
      "outputs": [],
      "source": [
        "# Question 7 -- YOUR CODE HERE\n",
        "codons = [...]\n",
        "\n",
        "print(codons)\n",
        "\n"
      ]
    },
    {
      "cell_type": "markdown",
      "metadata": {
        "id": "uoJTy94Ro-wD"
      },
      "source": [
        "<font color = #d14d0f>**QUESTION 8**:</font> **Using the `codon_table` dictionary defined for you above Question 7, write a function `translate()` that takes in a (5'->3') string, `mrna`, and a codon `table` as inputs, and outputs the corresponding sequence of amino acids after translation in string form. Your final string should *only* contain the amino acids (and possibly not any `_` (underscore) signs when encountering stop codons).**"
      ]
    },
    {
      "cell_type": "code",
      "execution_count": null,
      "metadata": {
        "id": "HDWERWl4o-wD"
      },
      "outputs": [],
      "source": [
        "# Question 8 -- YOUR CODE HERE\n",
        "def translate(mrna, table):\n",
        "  ...\n",
        "  return ..."
      ]
    },
    {
      "cell_type": "markdown",
      "metadata": {
        "id": "nQhGRKFho-wD"
      },
      "source": [
        "\n",
        "<font color = #d14d0f>**QUESTION 9**:</font> **Obtain the amino acid sequence from the GFP mRNA. Save the final amino acid sequence as a string to the variable `aa_seq`.**\n",
        "\n"
      ]
    },
    {
      "cell_type": "code",
      "execution_count": null,
      "metadata": {
        "id": "0l1q1wRLo-wD"
      },
      "outputs": [],
      "source": [
        "# Question 9 -- YOUR CODE HERE\n",
        "aa_seq = ...\n",
        "aa_seq\n"
      ]
    },
    {
      "cell_type": "markdown",
      "metadata": {
        "id": "smP_Kujxo-wE"
      },
      "source": [
        "***\n",
        "## 4. EXTRA/OPTIONAL: Alternative Codon Tables"
      ]
    },
    {
      "cell_type": "markdown",
      "metadata": {
        "id": "vTP2hn8lo-wE"
      },
      "source": [
        "In contrast to what you are taught in most biology courses, the codon conversion table is not universal. Today, we know that the genetic code evolves with time, which leads to differences in the codon conversion tables for different species. So, we need to pay attention to where our genetic code comes from and pick the correct codon table. For example, in ciliated protozoa, the universal stop codons UAA and UAG code for glutamine.\n",
        "\n"
      ]
    },
    {
      "cell_type": "markdown",
      "metadata": {
        "id": "taJaEFLeo-wE"
      },
      "source": [
        "\n",
        "<font color = #d14d0f>**QUESTION 10**:</font> **Let's imagine that the GFP DNA we have actually came from yeast mitochondrial code. Below, the differences between the standard codon table and the mitchondrial yeast codon table are provided. Read the rest of the question in the cell below the code cell.**\n"
      ]
    },
    {
      "cell_type": "code",
      "execution_count": null,
      "metadata": {
        "id": "gfHFJ5R5o-wE"
      },
      "outputs": [],
      "source": [
        " #Codon      Mit.Yeast       Standard\n",
        "\n",
        " # AUA        Met  M         Ile  I\n",
        " # CUU        Thr  T         Leu  L\n",
        " # CUC        Thr  T         Leu  L\n",
        " # CUA        Thr  T         Leu  L\n",
        " # CUG        Thr  T         Leu  L\n",
        " # UGA        Trp  W         Ter  _\n",
        "\n",
        "#Ter stands for termination\n",
        "#This information is adapted from https://www.ncbi.nlm.nih.gov/Taxonomy/Utils/wprintgc.cgi?chapter=tgencodes#SG3"
      ]
    },
    {
      "cell_type": "markdown",
      "metadata": {
        "id": "iroEBNwCo-wE"
      },
      "source": [
        "**Directly alter our previous codon table called `codon_table` to reflect the differences in the alternative codon table and save it as a dictionary under the variable `alt_table`. Use the cell below to create `alt_table`.**"
      ]
    },
    {
      "cell_type": "code",
      "execution_count": null,
      "metadata": {
        "id": "KbnBd4smo-wE"
      },
      "outputs": [],
      "source": [
        "# Question 10 -- YOUR CODE HERE\n",
        "alt_table = ...\n",
        "\n"
      ]
    },
    {
      "cell_type": "markdown",
      "metadata": {
        "id": "ny6B8BKCo-wE"
      },
      "source": [
        "\n",
        "<font color = #d14d0f>**QUESTION 11**:</font> **Using the new alternative codon conversion table you have just created for Question 10, obtain the amino acid sequence from the GFP mRNA reading frame that you had chosen.**\n"
      ]
    },
    {
      "cell_type": "code",
      "execution_count": null,
      "metadata": {
        "id": "PV_DUgaNo-wE"
      },
      "outputs": [],
      "source": [
        "# Question 11 -- YOUR CODE HERE\n",
        "\n"
      ]
    },
    {
      "cell_type": "markdown",
      "source": [
        "\n",
        "<font color = #d14d0f>**QUESTION 12**:</font> **Find the first start codon.**\n",
        ">*Hint:<br>- To find the location of the first start codon in the mRNA sequence, you can use the find() function. This function will return the index of the first occurrence of a given substring.*\n"
      ],
      "metadata": {
        "id": "I8KIn05kDVFN"
      }
    },
    {
      "cell_type": "code",
      "source": [
        "# Question 12 -- YOUR CODE HERE\n",
        "\n",
        "# Use the find() function to locate the first occurrence of the start codon in the mRNA sequence.\n",
        "\n",
        "# Print the index of the first start codon. Remember that the index is usually zero-based, so the first base is at index 0."
      ],
      "metadata": {
        "id": "-EetHAsDypQz"
      },
      "execution_count": null,
      "outputs": []
    },
    {
      "cell_type": "markdown",
      "source": [
        "\n",
        "\n",
        "<font color = #d14d0f>**QUESTION 13**:</font> **Find the frequency of pairs of codeons (dinucleotides) in the GFP mRNA sequence (`mrna` variable). **\n",
        ">*Hint:<br>- You can create a dictionary to count the occurrences of each codon pair. Then, you can iterate through the sequence and update the counts accordingly.*\n"
      ],
      "metadata": {
        "id": "2RDlNtueynTa"
      }
    },
    {
      "cell_type": "code",
      "source": [
        "# QUESTION 13 -- YOUR CODE HERE\n",
        "\n",
        "#\tConvert the GFP mRNA sequence (mrna) into a list of codon pairs (dinucleotides).\n",
        "\n",
        "# Create a dictionary to store the count of each codon pair.\n",
        "\n",
        "# Calculate the frequency (count/total codon pair count) of each codon pair.\n",
        "\n",
        "# Identify the codon pair with the highest frequency and print it.\n"
      ],
      "metadata": {
        "id": "S306DFdqyqZT"
      },
      "execution_count": null,
      "outputs": []
    },
    {
      "cell_type": "markdown",
      "metadata": {
        "id": "bpT1TPZ9o-wF"
      },
      "source": [
        "***\n",
        "### Congratulations! You have finished LAB 1!"
      ]
    },
    {
      "cell_type": "markdown",
      "source": [
        "***\n",
        "## 5. Conclusion\n",
        "Over the course of this notebook, you:\n",
        "* Learned about coding and template DNA strands\n",
        "* Identified nucleotides in GFP DNA\n",
        "* Coded using if statements and/or for loops to create percentages\n",
        "* Created dictionaries for pair matching\n",
        "* Created functions to transcribe and translate DNA sequences\n"
      ],
      "metadata": {
        "id": "W9DDIqYwa9x3"
      }
    },
    {
      "cell_type": "markdown",
      "source": [
        "### Congratulations! You have finished Lab 1!\n",
        "***"
      ],
      "metadata": {
        "id": "T9AbleZ5fsQV"
      }
    }
  ],
  "metadata": {
    "kernelspec": {
      "display_name": "Python 3",
      "language": "python",
      "name": "python3"
    },
    "language_info": {
      "codemirror_mode": {
        "name": "ipython",
        "version": 3
      },
      "file_extension": ".py",
      "mimetype": "text/x-python",
      "name": "python",
      "nbconvert_exporter": "python",
      "pygments_lexer": "ipython3",
      "version": "3.8.5"
    },
    "colab": {
      "provenance": [],
      "include_colab_link": true
    }
  },
  "nbformat": 4,
  "nbformat_minor": 0
}