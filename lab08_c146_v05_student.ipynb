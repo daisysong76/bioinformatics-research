{
  "cells": [
    {
      "cell_type": "markdown",
      "metadata": {
        "id": "view-in-github",
        "colab_type": "text"
      },
      "source": [
        "<a href=\"https://colab.research.google.com/github/daisysong76/bioinformatics-research/blob/main/lab08_c146_v05_student.ipynb\" target=\"_parent\"><img src=\"https://colab.research.google.com/assets/colab-badge.svg\" alt=\"Open In Colab\"/></a>"
      ]
    },
    {
      "cell_type": "markdown",
      "metadata": {
        "cell_id": "94c93aedf4124f55b7ae44fb207658c3",
        "deepnote_cell_type": "markdown",
        "tags": [],
        "id": "XLU2LpMko5fj"
      },
      "source": [
        "#### Data Science for Biology\n",
        "\n",
        "#### UC Berkeley PMB/MCB/BioE c146, Fall 2022\n",
        "\n",
        "### Lab 8a: Efficient Algorithms\n",
        "\n",
        "##### Professor Steven E. Brenner\n",
        "\n",
        "##### **Developed by**: Xiaomei Song, Nei (Alex) Fang, Amisha Gupta, Ukiah Heasley, Salvador Ramirez Jr"
      ]
    },
    {
      "cell_type": "markdown",
      "metadata": {
        "cell_id": "644dcd3fd3b54cdb83b0548337984c74",
        "deepnote_cell_type": "markdown",
        "tags": [],
        "id": "b1-_qBHKo5fl"
      },
      "source": [
        "### Table of Contents\n",
        "\n",
        "1. [Sequences - Part 2](#0) <br>\n",
        "2. [Dynamic Programming](#1) <br>\n",
        "3. [Longest Common Substring](#2) <br>\n",
        "    a. [Brute Force](#3) <br>\n",
        "    b. [Dot Plot](#4) <br>\n",
        "    c. [Dynamic Programming](#5) <br>\n",
        "4. [Summary and Discussion](#6) <br>"
      ]
    },
    {
      "cell_type": "code",
      "execution_count": null,
      "metadata": {
        "cell_id": "97adfda38b6c4f54bece476967e024b7",
        "deepnote_cell_type": "code",
        "deepnote_to_be_reexecuted": false,
        "execution_millis": 2117,
        "execution_start": 1666574239143,
        "source_hash": "fc69ba8f",
        "tags": [],
        "id": "YCzspyMGo5fm"
      },
      "outputs": [],
      "source": [
        "import numpy as np\n",
        "import timeit\n",
        "import pandas as pd\n",
        "from matplotlib import pyplot as plt\n",
        "import random"
      ]
    },
    {
      "cell_type": "markdown",
      "metadata": {
        "id": "Jb2AbThTo5fn"
      },
      "source": [
        "# 1. Sequences - Part 2<a id='0'></a>"
      ]
    },
    {
      "cell_type": "markdown",
      "metadata": {
        "id": "ao3t6QNUo5fn"
      },
      "source": [
        "Recall the **_score_alignment**_ function you implemented in the previous lab. In this implementation, the parameters have default values\n",
        "\n",
        "**_match_**: +1 point<br>\n",
        "**_mismatch_**: -1 point<br>\n",
        "**_gap_**: -1 point<br>\n",
        "**_endgap_**: 0 points<br>"
      ]
    },
    {
      "cell_type": "markdown",
      "metadata": {
        "id": "LXZO6Lluo5fn"
      },
      "source": [
        "In Lab 7, you completed function **_score_alignment_**. Copy your function in the cell below. Make sure not to change the values of **match**, **mismatch**, and **gap**.\n",
        "\n",
        "We have provided the same starter code from Lab 7 as a placeholder. If you are unable to implement the function, we will provide you with our score_alignment function at a later date.\n",
        "\n",
        "As always, you are not bound to the starter code."
      ]
    },
    {
      "cell_type": "code",
      "execution_count": null,
      "metadata": {
        "id": "_O6dQ6wno5fo"
      },
      "outputs": [],
      "source": [
        "def score_alignment(string1, string2, match = 1, mismatch = -1, gap = -3, endgap = 0):\n",
        "    total_score = 0\n",
        "\n",
        "    # The next two lines calculate the total number of letters in the sequence.\n",
        "    # Optional: To better understand the code, lookup list comprehension.\n",
        "    str1_total = len([i for i in string1 if i != '-'])\n",
        "    str2_total = len([i for i in string2 if i != '-'])\n",
        "\n",
        "    # These variables keep track of how many letters of the sequence we have checked\n",
        "    str1_checked = 0\n",
        "    str2_checked = 0\n",
        "\n",
        "    for i in range(len(string1)):\n",
        "        if (string1[i] == string2[i]) and (string1[i] != '-' and string2[i] != '-'):\n",
        "            total_score += ...\n",
        "            str1_checked += 1\n",
        "            str2_checked += 1\n",
        "        elif (...) and (string1[i] != '-' and string2[i] != '-'):\n",
        "            ...\n",
        "        # Why are we checking if str1_checked is 0?\n",
        "        elif (string1[i] != string2[i]) and (str1_checked == 0 or str2_checked == 0) and (...):\n",
        "            ...\n",
        "            if string1[i] != '-':\n",
        "                ...\n",
        "            if string2[i] != '-':\n",
        "                ...\n",
        "        else:\n",
        "            ...\n",
        "\n",
        "    return total_score"
      ]
    },
    {
      "cell_type": "markdown",
      "metadata": {
        "id": "9ftuJPVUo5fo"
      },
      "source": [
        "As a reminder, two dashes (--) signify a single gap. Let's score:\n",
        "\n",
        "-- A C G -- -- T\n",
        "\n",
        "G A C -- -- -- T"
      ]
    },
    {
      "cell_type": "code",
      "execution_count": null,
      "metadata": {
        "id": "J7r37e4eo5fp"
      },
      "outputs": [],
      "source": [
        "score_alignment('-ACG--T', 'GAC---T')"
      ]
    },
    {
      "cell_type": "markdown",
      "metadata": {
        "id": "cnGtEQDQo5fp"
      },
      "source": [
        "### Gaps Revisited"
      ]
    },
    {
      "cell_type": "markdown",
      "metadata": {
        "id": "PPJ8fkOUo5fp"
      },
      "source": [
        "Let's think a little bit more about gaps, which we previously penalized equally. Now, we will penalize each gap using the following equation:\n",
        "\n",
        "**_total_gap_penalty_** = **a** + **_l * b_**\n",
        "\n",
        "where\n",
        "\n",
        "**_a_** = penalty for creating the gap<br>\n",
        "**_l_** = length of the gap<br>\n",
        "**_b_** = individual gap penalty\n",
        "\n",
        "For our purposes, we will use the following default values:\n",
        "\n",
        "_**match**_ = 1, _**mismatch**_ = -1, _**gap_existance**_ = -5, _**individual_gap**_ = -2"
      ]
    },
    {
      "cell_type": "markdown",
      "source": [],
      "metadata": {
        "id": "bA14ROVnOj2S"
      }
    },
    {
      "cell_type": "markdown",
      "metadata": {
        "id": "SazECVWro5fq"
      },
      "source": [
        "## Question 1"
      ]
    },
    {
      "cell_type": "markdown",
      "metadata": {
        "id": "qkxAFMNto5fq"
      },
      "source": [
        "###1a.1 Score the following alignment manually using our new gap penalties.\n",
        "\n",
        "-- A C G -- -- T\n",
        "\n",
        "G A C -- -- -- T"
      ]
    },
    {
      "cell_type": "markdown",
      "metadata": {
        "id": "23pddMJ1o5fq"
      },
      "source": [
        "**_Replace text with your answer_**"
      ]
    },
    {
      "cell_type": "markdown",
      "metadata": {
        "id": "UxKNf19Po5fq"
      },
      "source": [
        "###1a.2 Score the following alignment manually using our new gap penalties.\n",
        "\n",
        "A C G T C A T\n",
        "\n",
        "-- C T A -- A T"
      ]
    },
    {
      "cell_type": "markdown",
      "metadata": {
        "id": "ndcGb_URo5fr"
      },
      "source": [
        "**_Replace text with your answer_**"
      ]
    },
    {
      "cell_type": "markdown",
      "metadata": {
        "id": "6ixzrq7Eo5fr"
      },
      "source": [
        "###1a.3 Score the following alignment manually using our new gap penalties.\n",
        "\n",
        "A C G T C A T\n",
        "\n",
        "-- -- C T A A T"
      ]
    },
    {
      "cell_type": "markdown",
      "metadata": {
        "id": "vsYXe7TAo5fu"
      },
      "source": [
        "**_Replace text with your answer_**"
      ]
    },
    {
      "cell_type": "markdown",
      "metadata": {
        "id": "O7vi-r53o5fw"
      },
      "source": [
        "### 1.b Implement the function _alignment_score_affine_gap_. Your function should account for the _total_gap_penalty_ we just introduced.\n",
        "\n",
        "The function is simply a modification of your previous function already developed in Lab 7. Simply fill in ... with your code. You are not bound to the starter code."
      ]
    },
    {
      "cell_type": "code",
      "execution_count": null,
      "metadata": {
        "id": "-1nCS8gso5fx"
      },
      "outputs": [],
      "source": [
        "def alignment_score_affine_gap(string1, string2, match=1, mismatch=-1, gap_existance=-5, individual_gap=-2, endgap=0):\n",
        "    total_score = 0\n",
        "\n",
        "    # The next two lines calculate the total number of letters in the sequence.\n",
        "    # Optional: To better understand the code, lookup list comprehension.\n",
        "    str1_total = len([i for i in string1 if i != '-'])\n",
        "    str2_total = len([i for i in string2 if i != '-'])\n",
        "\n",
        "    # These variables keep track of how many letters of the sequence we have checked\n",
        "    str1_checked = 0\n",
        "    str2_checked = 0\n",
        "\n",
        "    # TODO: YOUR CODE HERE\n",
        "    # Hint: Have we created a gap yet?\n",
        "    gap_created = ...\n",
        "\n",
        "    for i in range(len(string1)):\n",
        "        if (string1[i] == string2[i]) and (string1[i] != '-' and string2[i] != '-'):\n",
        "            # TODO: YOUR CODE HERE\n",
        "            # Hint: Lines 13 - 15\n",
        "            if gap_created:\n",
        "                gap_created = ... #  Reset gap flag\n",
        "            total_score += ...\n",
        "            str1_checked += 1\n",
        "            str2_checked += 1\n",
        "        elif (...) and (string1[i] != '-' and string2[i] != '-'):\n",
        "            # TODO: YOUR CODE HERE\n",
        "            # Hint: Lines 13 - 15\n",
        "            if gap_created:\n",
        "                gap_created = ...\n",
        "            ...\n",
        "        # Why are we checking if str1_checked is 0?\n",
        "        elif (string1[i] != string2[i]) and (str1_checked == 0 or str2_checked == 0) and (...):\n",
        "            ...\n",
        "            if string1[i] != '-':\n",
        "                ...\n",
        "            if string2[i] != '-':\n",
        "                ...\n",
        "        else:\n",
        "            # TODO: YOUR CODE HERE\n",
        "            # Hint: What should we set gap_created to?\n",
        "            if gap_created == ...:\n",
        "                gap_created = ...\n",
        "                total_score += ...\n",
        "            ...\n",
        "\n",
        "    return total_score"
      ]
    },
    {
      "cell_type": "markdown",
      "metadata": {
        "id": "WJVLKpWuo5f9"
      },
      "source": [
        "### 1.c Use your new function to score the alignments and verify the output matches your answers in part 1.1.1.  "
      ]
    },
    {
      "cell_type": "code",
      "execution_count": null,
      "metadata": {
        "id": "QPQMTQgVo5f-"
      },
      "outputs": [],
      "source": [
        "#TEST YOUR CODE\n",
        "score1 = alignment_score_affine_gap('-ACG--T', 'GAC---T')"
      ]
    },
    {
      "cell_type": "code",
      "execution_count": null,
      "metadata": {
        "id": "Fxvp0XbIo5f-"
      },
      "outputs": [],
      "source": [
        "score2 = alignment_score_affine_gap('ACGTCAT', '-CTA-AT')"
      ]
    },
    {
      "cell_type": "code",
      "execution_count": null,
      "metadata": {
        "id": "cqtsg7OSo5f_"
      },
      "outputs": [],
      "source": [
        "score3 = alignment_score_affine_gap('ACGTCAT', '--CTAAT')"
      ]
    },
    {
      "cell_type": "code",
      "source": [
        "print(f\"Score 1: {score1}\")\n",
        "print(f\"Score 2: {score2}\")\n",
        "print(f\"Score 3: {score3}\")"
      ],
      "metadata": {
        "id": "yAdhxZTLQIA_"
      },
      "execution_count": null,
      "outputs": []
    },
    {
      "cell_type": "markdown",
      "metadata": {
        "cell_id": "410f6e5a568d491eb070a3e00b042a52",
        "deepnote_cell_type": "markdown",
        "tags": [],
        "id": "LJlh74YAo5f_"
      },
      "source": [
        "#2. Dynamic Programming<a id='1'></a>"
      ]
    },
    {
      "cell_type": "markdown",
      "source": [
        "In this section, you'll implement dynamic programming for solving the Longest Common Substring (LCS) problem."
      ],
      "metadata": {
        "id": "ygS6RIgcQc1s"
      }
    },
    {
      "cell_type": "markdown",
      "metadata": {
        "cell_id": "2f78761e1184414e9862cf37900127c2",
        "deepnote_cell_type": "markdown",
        "tags": [],
        "id": "h2--6Frso5f_"
      },
      "source": [
        "Dynamic programming is a very powerful algorithmic paradigm in which a problem is solved by identifying a collection of subproblems and tackling them one by one, smallest first, using the answers to small problems to help figure out larger ones, until the whole problem is solved.\n",
        "\n",
        "This aspect of dynamic programming is very similar to how we break a problem into smaller and smaller sub parts when using naive recursion.\n",
        "\n",
        "**_So, how is it different from naive recursion?_**\n",
        "\n",
        "Dynamic programming _memoizes_ (not memorizes, although they mean the same thing) the answer to previous sub problems so they do not have to be recomputed. Generally, dynamic programming problems can be split into different subparts. <br>For our future use of dynamic programming for sequences, there are 3 subparts:\n",
        "\n",
        "_**initialization step**_: Initial setup of a problem, usually an array or a matrix.<br>\n",
        "_**recursive step**_: Continuous repetition of the steps involved in recursion.<br>\n",
        "_**traceback step**_: Use of our matrix to go backwards and determine our result.\n",
        "\n",
        "It is easiest to see this with an example.\n"
      ]
    },
    {
      "cell_type": "markdown",
      "metadata": {
        "cell_id": "cdf6ce859d1742599f96f1e0c372be08",
        "deepnote_cell_type": "markdown",
        "tags": [],
        "id": "FVoJwmyJo5f_"
      },
      "source": [
        "Let's take a look at the naive recursive implementation for calculating fibonacci numbers we learned last time. Below is the recursive tree."
      ]
    },
    {
      "cell_type": "markdown",
      "metadata": {
        "cell_id": "d7476b3f305e41eda78b26bd611af7ec",
        "deepnote_cell_type": "markdown",
        "tags": [],
        "id": "5MKHEOJXo5gA"
      },
      "source": [
        "![fibonacci](fibtree.png)"
      ]
    },
    {
      "cell_type": "code",
      "execution_count": null,
      "metadata": {
        "cell_id": "b7d57f5d01844994a5256e3cfffdfdf6",
        "deepnote_cell_type": "code",
        "deepnote_to_be_reexecuted": false,
        "execution_millis": 1,
        "execution_start": 1666578645905,
        "source_hash": "6808330",
        "tags": [],
        "id": "aKWXqxSjo5gA"
      },
      "outputs": [],
      "source": [
        "# Recursive implementation\n",
        "def recursive_fib(fib_number):\n",
        "    if fib_number == 0:\n",
        "        return 0\n",
        "    elif fib_number == 1:\n",
        "        return 1\n",
        "\n",
        "    return recursive_fib(fib_number-1) + recursive_fib(fib_number-2)"
      ]
    },
    {
      "cell_type": "markdown",
      "metadata": {
        "cell_id": "616bfd1d3859471fa153c63ed3029453",
        "deepnote_cell_type": "markdown",
        "tags": [],
        "id": "UyDL27YZo5gA"
      },
      "source": [
        "## Question 2"
      ]
    },
    {
      "cell_type": "markdown",
      "metadata": {
        "cell_id": "ea0979d1ff67479681b595122520501c",
        "deepnote_cell_type": "markdown",
        "tags": [],
        "id": "JWgyCWbwo5gA"
      },
      "source": [
        "###In your explanation, describe why the naive recursive implementation for calculating Fibonacci numbers is inefficient."
      ]
    },
    {
      "cell_type": "markdown",
      "metadata": {
        "cell_id": "fc00aa6264494993a4d2ef135a8d4a02",
        "deepnote_cell_type": "markdown",
        "tags": [],
        "id": "oCcm-v9Oo5gA"
      },
      "source": [
        "_**Replace text with your answer.**_"
      ]
    },
    {
      "cell_type": "markdown",
      "metadata": {
        "cell_id": "18a1501486c04ba199a7207fae75d525",
        "deepnote_cell_type": "markdown",
        "tags": [],
        "id": "dEG5ifePo5gA"
      },
      "source": [
        "Hopefully, you saw that most of the fibonacci calls are repeated. Take a look at F(2), which appears 3 times in our small call to F(5). This observation is key to understanding how our dynamic programming algorithm will work."
      ]
    },
    {
      "cell_type": "markdown",
      "metadata": {
        "cell_id": "a9c8be201f0f459bba9b68dc2d8508e2",
        "deepnote_cell_type": "markdown",
        "tags": [],
        "id": "PEB-3juvo5gB"
      },
      "source": [
        "## Question 3"
      ]
    },
    {
      "cell_type": "markdown",
      "metadata": {
        "cell_id": "3896689854ce49a9ba2f6ec769cdf3c8",
        "deepnote_cell_type": "markdown",
        "tags": [],
        "id": "vVXUFmbJo5gB"
      },
      "source": [
        "Let's imagine we want to calculate _**Fibonacci(3)**_.\n",
        "\n",
        "We then need to solve the following subproblems:\n",
        "\n",
        "_Fibonacci(2)_, _Fibonacci(1)_, _Fibonacci(0)_"
      ]
    },
    {
      "cell_type": "markdown",
      "metadata": {
        "cell_id": "dfe2a466355846719849408b0c949576",
        "deepnote_cell_type": "markdown",
        "tags": [],
        "id": "amRh38-Ko5gB"
      },
      "source": [
        "At each step, instead of recalculating one of the values, let's just remember the answer to our subproblem and use it in our calculation."
      ]
    },
    {
      "cell_type": "markdown",
      "metadata": {
        "cell_id": "cc08d3f0895a460ba5b6af4f9ba8519a",
        "deepnote_cell_type": "markdown",
        "tags": [],
        "id": "nFbCxDLHo5gB"
      },
      "source": [
        "_Where should we store our answers?_ We can just store it in a **list**.\n",
        "\n",
        "Therefore, to calculate _Fibonacci(3)_, we can simply do **list**[Fibonacci(2)] + **list**[Fibonacci(1)].<br>Then, we add this value to our **list** for future use."
      ]
    },
    {
      "cell_type": "markdown",
      "metadata": {
        "cell_id": "0cfb9dd14cc7444e897df0d0cf716f8f",
        "deepnote_cell_type": "markdown",
        "tags": [],
        "id": "OvkYAkjqo5gB"
      },
      "source": [
        "### 3a. Complete the implementation of the function _dp_fib_."
      ]
    },
    {
      "cell_type": "markdown",
      "source": [
        "Here's the dp_fib function that efficiently calculates Fibonacci numbers using dynamic programming"
      ],
      "metadata": {
        "id": "u6x_ghAOSfCi"
      }
    },
    {
      "cell_type": "code",
      "execution_count": null,
      "metadata": {
        "cell_id": "01735a03967d4858b866e2fa91271ac4",
        "deepnote_cell_type": "code",
        "deepnote_to_be_reexecuted": false,
        "execution_millis": 1,
        "execution_start": 1666574361725,
        "source_hash": "ec41c811",
        "tags": [],
        "id": "z7_3g2Zbo5gC"
      },
      "outputs": [],
      "source": [
        "def dp_fib(n):\n",
        "    # initialization step\n",
        "    answers = [0,1]\n",
        "\n",
        "    # recursive step\n",
        "    if n <= 1:\n",
        "        return answers[n]\n",
        "\n",
        "    # traceback step\n",
        "    for i in range(2, n + 1):\n",
        "        answers.append(answers[i-1] + answers[i-2])\n",
        "\n",
        "    return answers[n]"
      ]
    },
    {
      "cell_type": "markdown",
      "metadata": {
        "cell_id": "c6cc1c78c18147e0a77dcfa3569a7448",
        "deepnote_cell_type": "markdown",
        "tags": [],
        "id": "4J5541mho5gC"
      },
      "source": [
        "###3b. Verify your answers by comparing the output of dp_fib(30) with the result of recursive_fib(30).\n",
        "\n",
        "Hint: Verify your answers are the same."
      ]
    },
    {
      "cell_type": "code",
      "execution_count": null,
      "metadata": {
        "cell_id": "6d31cbd492ff4bc7a3b8345cad88eafc",
        "deepnote_cell_type": "code",
        "deepnote_to_be_reexecuted": false,
        "execution_millis": 426,
        "execution_start": 1666574362288,
        "source_hash": "13efd1fd",
        "tags": [],
        "id": "t3QPk5gro5gC"
      },
      "outputs": [],
      "source": [
        "# Test your code\n",
        "result_recursive_fib = recursive_fib(30)\n",
        "result_dp_fib = dp_fib(30)\n",
        "\n",
        "print(f\"Recursive Fibonacci(30): {result_recursive_fib}\")\n",
        "print(f\"Dynamic Programming Fibonacci(30): {result_dp_fib}\")"
      ]
    },
    {
      "cell_type": "markdown",
      "metadata": {
        "id": "9CQvMCu2o5gD"
      },
      "source": [
        "Let's take a look at the runtime of our dynamic programming fibonacci function."
      ]
    },
    {
      "cell_type": "code",
      "execution_count": null,
      "metadata": {
        "cell_id": "0606c1b7a3304424b68e3d09d3dd7556",
        "deepnote_cell_type": "code",
        "deepnote_to_be_reexecuted": false,
        "execution_millis": 27321,
        "execution_start": 1666574834865,
        "source_hash": "e6cb61b7",
        "tags": [],
        "id": "TBfw0DOso5gD"
      },
      "outputs": [],
      "source": [
        "# Do not edit this cell, you don't need to understand how the code works\n",
        "# This make take a while to run\n",
        "start_time = timeit.default_timer()\n",
        "dt = []\n",
        "for i in range(0, 10000):\n",
        "    dp_fib(i)\n",
        "    dt.append(timeit.default_timer()-start_time)\n",
        "plt.plot(dt)\n",
        "plt.xlim(5000, 10000)\n",
        "plt.ylim(5, 25)\n",
        "plt.xlabel('n')\n",
        "plt.ylabel('Fibonaci Function Runtime');"
      ]
    },
    {
      "cell_type": "markdown",
      "metadata": {
        "cell_id": "3c964b351ce2491ba0e19ce733186220",
        "deepnote_cell_type": "markdown",
        "tags": [],
        "id": "CLwwmsvgo5gD"
      },
      "source": [
        "### 3C. Recall the complexity of fibonacci using dynamic programming. Did the complexity graph match your expectation?"
      ]
    },
    {
      "cell_type": "markdown",
      "metadata": {
        "cell_id": "a98a5d4237c14c12b18e9deb961a9d52",
        "deepnote_cell_type": "markdown",
        "tags": [],
        "id": "USwnz3yOo5gD"
      },
      "source": [
        "_**Replace text with your answer.**_"
      ]
    },
    {
      "cell_type": "markdown",
      "metadata": {
        "cell_id": "b57a7a75d6da422dbf795a5bf0b01cd6",
        "deepnote_cell_type": "markdown",
        "tags": [],
        "id": "i7jjD-Hio5gD"
      },
      "source": [
        "#3. Longest Common Substring (LCS) <a id='2'></a>"
      ]
    },
    {
      "cell_type": "markdown",
      "source": [
        "In this section, you will address the Longest Common Substring (LCS) problem using different approaches"
      ],
      "metadata": {
        "id": "oD30jaWrUTGK"
      }
    },
    {
      "cell_type": "markdown",
      "metadata": {
        "id": "dAwgou90o5gE"
      },
      "source": [
        "A _substring_ of a string is a contiguous sequence of characters within a string.\n",
        "\n",
        "For example, \"ACG\" and \"CG\" are substrings of \"ACGT\". \"AGT\" is not. A common substring of two strings is a substring that is common to both strings.\n",
        "\n",
        "_**Example 1**_:\n",
        "\n",
        "Input: seq1 = \"ACGT\", seq2 = \"CGTA\"\n",
        "\n",
        "Output: \"CGT\"\n",
        "\n",
        "Explanation: The longest common substring is \"CGT\".\n",
        "\n",
        "_**Example 2**_:\n",
        "\n",
        "Input: seq1 = \"CAT\", seq2 = \"CT\"\n",
        "\n",
        "Output: \"C\" or \"T\"\n",
        "\n",
        "Explanation: The longest common substring is \"C\", as it is the first occurance of the longest common substring of length 1. \"T\" is also techincally valid, but our implementation will always return the first occurance.  \n",
        "\n",
        "_**Example 3**_:\n",
        "\n",
        "Input: seq1 = \"AGG\", seq2 = \"TCT\"\n",
        "\n",
        "Output: \"\"\n",
        "\n",
        "Explanation: There is no such common substring, so nothing is returned."
      ]
    },
    {
      "cell_type": "markdown",
      "metadata": {
        "id": "IDFAsc46o5gE"
      },
      "source": [
        "## LCS Using a Brute Force Approach<a id='3'></a>"
      ]
    },
    {
      "cell_type": "markdown",
      "metadata": {
        "id": "jJntN26ro5gE"
      },
      "source": [
        "### Slicing"
      ]
    },
    {
      "cell_type": "markdown",
      "metadata": {
        "id": "PTgpZ7ldo5gE"
      },
      "source": [
        "With both lists and strings, you can return a range of entries by using the slice syntax.\n",
        "\n",
        "Specify the _start index_ (inclusive) and the _end index_ (non-inclusive), separated by a colon, to return a part of the string."
      ]
    },
    {
      "cell_type": "code",
      "execution_count": null,
      "metadata": {
        "id": "WQVAnQ1Zo5gE"
      },
      "outputs": [],
      "source": [
        "'ACGT'[0:2]"
      ]
    },
    {
      "cell_type": "code",
      "execution_count": null,
      "metadata": {
        "id": "T2r6cGJVo5gE"
      },
      "outputs": [],
      "source": [
        "[0,1,2,3,4,5][1:4]"
      ]
    },
    {
      "cell_type": "markdown",
      "metadata": {
        "id": "YjKL9xYgo5gE"
      },
      "source": [
        "## Question 4\n",
        "\n",
        "Let's implement a brute force way of finding the longest common substring.\n",
        "\n",
        "To do this, we will generate all possible substring of both strings, and compare them all with each other to see which is the longest common substring."
      ]
    },
    {
      "cell_type": "markdown",
      "metadata": {
        "id": "mUyYX0lQo5gF"
      },
      "source": [
        "### 4a. Implement the function get_all_substrings\n",
        "\n",
        "Hint: which should return a list of all the possible substrings of an input string.\n",
        "\n",
        "For example:\n",
        "\n",
        "_**get_all_substrings(\"ACGT\")**_ should return:\n",
        "\n",
        "['A', 'AC', 'ACG', 'ACGT', 'C', 'CG', 'CGT', 'G', 'GT', 'T']"
      ]
    },
    {
      "cell_type": "code",
      "execution_count": null,
      "metadata": {
        "id": "gyTxYO_Jo5gF"
      },
      "outputs": [],
      "source": [
        "def get_all_substrings(string):\n",
        "    length = len(string)\n",
        "    alist = []\n",
        "    for i in range(...):\n",
        "        for j in range(...,...):\n",
        "            alist.append(...)\n",
        "    return alist\n",
        "\n",
        "print(get_all_substrings('ACGT'))"
      ]
    },
    {
      "cell_type": "markdown",
      "metadata": {
        "id": "TFjjAr5qo5gF"
      },
      "source": [
        "### 4b. What is the complexity of the function? Explain briefly."
      ]
    },
    {
      "cell_type": "markdown",
      "metadata": {
        "id": "R8AVNCQ_o5gF"
      },
      "source": [
        "**_Replace text with your answer_**"
      ]
    },
    {
      "cell_type": "markdown",
      "metadata": {
        "id": "aiDMaYpSo5gG"
      },
      "source": [
        "### 4c. Implement the function lcs_brute_force\n",
        "\n",
        "Hint: which should return the longest common substring between two strings.\n",
        "\n",
        "You need to implement the lcs_bruteforce function, which finds the Longest Common Substring between two strings using a brute-force approach.\n",
        "For example:\n",
        "\n",
        "_**lcs_brute_force('ATGCGTCAG', 'ATGTGCGTG')**_ should return:\n",
        "\n",
        "'TGCGT'\n",
        "\n",
        "_**How should your algorithm work?**_\n",
        "\n",
        "Create all possible substrings for seq1.<br> Repeat for seq2.<br>\n",
        "\n",
        "Then, for every subtring of seq1, we must check if it is contained in the possible substrings of seq2.<br>\n",
        "If it is, we check if the length of the substring is larger then our previous longest substring.\n",
        "\n",
        "Finally, we return the longest common substring."
      ]
    },
    {
      "cell_type": "code",
      "execution_count": null,
      "metadata": {
        "id": "xY5qdUZ0o5gG"
      },
      "outputs": [],
      "source": [
        "def lcs_brute_force(string1, string2):\n",
        "    #TODO: generate two lists of substrings\n",
        "    ...\n",
        "    ...\n",
        "\n",
        "    length = 0\n",
        "    longest = ''\n",
        "    for i in ...:\n",
        "        for j in ...:\n",
        "            if i == j:\n",
        "                if len(i) > ...:\n",
        "                    length = ...\n",
        "                    longest = ...\n",
        "\n",
        "    return ..."
      ]
    },
    {
      "cell_type": "code",
      "execution_count": null,
      "metadata": {
        "id": "sY11KpMGo5gG"
      },
      "outputs": [],
      "source": [
        "lcs_brute_force('', '')"
      ]
    },
    {
      "cell_type": "code",
      "execution_count": null,
      "metadata": {
        "scrolled": true,
        "id": "sN7wJxsMo5gG"
      },
      "outputs": [],
      "source": [
        "## TEST YOUR CODE: Should return TGCGT\n",
        "lcs_brute_force('ATGCGTCAG', 'ATGTGCGTG')"
      ]
    },
    {
      "cell_type": "markdown",
      "metadata": {
        "id": "HQRhqIHno5gG"
      },
      "source": [
        "As a reminder of something we covered in Lab 7, we can use _cell magic_ and the _timeit_ library to time the execution of Python code."
      ]
    },
    {
      "cell_type": "code",
      "execution_count": null,
      "metadata": {
        "id": "XebibaEJo5gH"
      },
      "outputs": [],
      "source": [
        "# TEST YIOUR CODE: Should return GGGCAT\n",
        "testString1 = 'TTGCGGGGCATAGCTACGACTTGCTTAGCTACGTGCGAGGGAAGAAACTTTTGCGTATTTGTATGTTCACCCGTCTACTACCCATGCCCGGAGATTATGTAGGTTGTGAGATGCGGGAGAAGTTCTCGACCTTCCCGTGG'\n",
        "testString2 = 'GACGTCAACCTATCCCTTAATAGAGCATTCCGTTCGGGCATGGCAGTAAGTACGCCTTCTCAATTGTGCTAACCTTCATCCTTATCAAAGCTTGGAGCCAATGATCAGGATTATTGCCTTGCGACAGACTTCCTACTCAC'\n",
        "%timeit lcs_brute_force(testString1, testString2)\n",
        "lcs_brute_force(testString1, testString2)"
      ]
    },
    {
      "cell_type": "markdown",
      "metadata": {
        "id": "KdlcQ0pNo5gH"
      },
      "source": [
        "### 4d. What is the complexity of the brute force algorithm we developed, relative to the length of the strings (assume they are both length n)? Explain briefly."
      ]
    },
    {
      "cell_type": "markdown",
      "metadata": {
        "id": "Y9Euvxaao5gH"
      },
      "source": [
        "_**Replace text with your answer**_."
      ]
    },
    {
      "cell_type": "markdown",
      "source": [
        "###4e.Implement the plot_lcs_runtime function.\n",
        "\n",
        "You'll need to implement the plot_lcs_runtime function that measures the runtime of lcs_bruteforce for strings of varying lengths and plots the results."
      ],
      "metadata": {
        "id": "HFzjqZAfWAaP"
      }
    },
    {
      "cell_type": "code",
      "source": [
        "def plot_lcs_runtime():\n",
        "    lengths = [5, 10, 15, 20, 25]\n",
        "    times = []\n",
        "    for length in lengths:\n",
        "        str1 = 'ACGT' * (length // 4)\n",
        "        str2 = 'TGCA' * (length // 4)\n",
        "        start_time = timeit.default_timer()\n",
        "        lcs_bruteforce(str1, str2)\n",
        "        end_time = timeit.default_timer()\n",
        "        times.append(end_time - start_time)\n",
        "\n",
        "    plt.plot(lengths, times, marker='o')\n",
        "    plt.xlabel('String Length')\n",
        "    plt.ylabel('Runtime (s)')\n",
        "    plt.title('LCS Bruteforce Runtime')\n",
        "    plt.show()"
      ],
      "metadata": {
        "id": "1-YYY5X_WLc2"
      },
      "execution_count": null,
      "outputs": []
    },
    {
      "cell_type": "markdown",
      "metadata": {
        "id": "9t6o3QMLo5gH"
      },
      "source": [
        "## LCS Using Dot Plots<a id='4'></a>"
      ]
    },
    {
      "cell_type": "markdown",
      "metadata": {
        "id": "0S6v9nhSo5gH"
      },
      "source": [
        "Recall our dot plot code from the previous lab."
      ]
    },
    {
      "cell_type": "code",
      "execution_count": null,
      "metadata": {
        "id": "_EcyDH5qo5gH"
      },
      "outputs": [],
      "source": [
        "def makeMatrix(seqx,seqy):\n",
        "    matrix = []\n",
        "    for i in seqx:\n",
        "        appendArray = []\n",
        "        for j in seqy:\n",
        "            if i == j:\n",
        "                appendArray.append(1)\n",
        "            else:\n",
        "                appendArray.append(0)\n",
        "        matrix.append(appendArray)\n",
        "    return matrix\n",
        "\n",
        "def dotplot(seqx, seqy):\n",
        "    dotplot = plt.imshow(np.logical_not(makeMatrix(seqy,seqx)).astype(int))\n",
        "    xt = plt.xticks(np.arange(len(list(seqx))),list(seqx))\n",
        "    yt = plt.yticks(np.arange(len(list(seqy))),list(seqy))\n",
        "    plt.show()"
      ]
    },
    {
      "cell_type": "markdown",
      "metadata": {
        "id": "nwyE-F9Mo5gH"
      },
      "source": [
        "Let's take a look at the dot plot for two small strings."
      ]
    },
    {
      "cell_type": "code",
      "execution_count": null,
      "metadata": {
        "id": "U0-Nw9s5o5gI"
      },
      "outputs": [],
      "source": [
        "dotplot('ATGCGTCAG', 'ATGTGCGTG')"
      ]
    },
    {
      "cell_type": "markdown",
      "metadata": {
        "id": "0DHz24Mro5gI"
      },
      "source": [
        "We can use the diagonals of the dotplot to determine what counts as a common substring between two sequences.<br> Take a look at the dotplot to convince yourself that this is the case for the the sequence 'ATG'.\n",
        "\n",
        "Recall that our _makeMatrix_ function generates a 2d array of 0s and 1s, where each subarray is a column in the dotplot."
      ]
    },
    {
      "cell_type": "code",
      "execution_count": null,
      "metadata": {
        "id": "cokomEAGo5gI"
      },
      "outputs": [],
      "source": [
        "makeMatrix('ATGCGTCAG', 'ATGTGCGTG')"
      ]
    },
    {
      "cell_type": "markdown",
      "metadata": {
        "id": "SSobUJmMo5gI"
      },
      "source": [
        "To make it more visually similar to the dotplot, let's transpose the array."
      ]
    },
    {
      "cell_type": "code",
      "execution_count": null,
      "metadata": {
        "id": "XuMysSuRo5gI"
      },
      "outputs": [],
      "source": [
        "np.transpose(makeMatrix('ATGCGTCAG', 'ATGTGCGTG'))"
      ]
    },
    {
      "cell_type": "markdown",
      "metadata": {
        "id": "1sf_NSoco5gI"
      },
      "source": [
        "As you can see, the longest common substring is contained along the diagonal with the most 1s. Therefore, our goal will be to find the diagonal with the most number of 1s.\n",
        "\n",
        "_**How should your algorithm work?**_\n",
        "\n",
        "For every element in the matric, we check whether the value is 0 or 1.<br>If it is 0, we move on. <br> If it is 1:\n",
        "<br>&emsp; we add that character of the string to our current substring.\n",
        "<br>&emsp; we check the diagonal above and to the left. If it is 1, repeat the above step.\n",
        "<br>&emsp; If it is 0, we check whether or no the current substring is larger than the current largest susbtring. If it is, we replace our current longest substring.<br>\n",
        "Finally, we return the longest common substring."
      ]
    },
    {
      "cell_type": "markdown",
      "metadata": {
        "id": "uvBG7NWTo5gJ"
      },
      "source": [
        "## Question 5"
      ]
    },
    {
      "cell_type": "markdown",
      "metadata": {
        "id": "pxCdeo3So5gJ"
      },
      "source": [
        "### 5a. Implement lcs_dotplot, which takes in a matrix like the one above and generates the longest common substring."
      ]
    },
    {
      "cell_type": "code",
      "execution_count": null,
      "metadata": {
        "id": "z2sKRRJMo5gJ"
      },
      "outputs": [],
      "source": [
        "def lcs_dotplot(string1, string2):\n",
        "    matrix = np.transpose(makeMatrix(string1, string2))\n",
        "    lcs = ''\n",
        "\n",
        "    #Reminder, we transposed the two strings. string1 used to be a column, now it is a row of matrix\n",
        "    for i in range(len(...)):\n",
        "        length = 0\n",
        "        for j in range(len(...)):\n",
        "            diagonal = False\n",
        "            current_i = i\n",
        "            current_j = j\n",
        "            if matrix[...][...] == 1:\n",
        "                diagonal = ...\n",
        "                current_string = ''\n",
        "                current_string += ...[...]\n",
        "                while diagonal:\n",
        "                    if (current_j - 1 >= ...) & (... >= ...):\n",
        "                        if matrix[current_i - 1][...] == 1:\n",
        "                            current_i -= ...\n",
        "                            current_j -= ...\n",
        "                            current_string += string2[...]\n",
        "                        else:\n",
        "                            diagonal = ...\n",
        "                    else:\n",
        "                        diagonal = ...\n",
        "                if len(...) > len(...):\n",
        "                    ...\n",
        "\n",
        "    return lcs[::-1] #This inverts the string, since we added it backwards"
      ]
    },
    {
      "cell_type": "code",
      "execution_count": null,
      "metadata": {
        "scrolled": true,
        "id": "vk49Kppno5gJ"
      },
      "outputs": [],
      "source": [
        "lcs_dotplot('', '')"
      ]
    },
    {
      "cell_type": "code",
      "execution_count": null,
      "metadata": {
        "id": "qskPWeCAo5gK"
      },
      "outputs": [],
      "source": [
        "lcs_dotplot('ATGCGTCAG', 'ATGTGCGTG')"
      ]
    },
    {
      "cell_type": "code",
      "execution_count": null,
      "metadata": {
        "id": "RgLfP7Uwo5gK"
      },
      "outputs": [],
      "source": [
        "# TEST YIOUR CODE: Should return GGGCAT\n",
        "testString1 = 'TTGCGGGGCATAGCTACGACTTGCTTAGCTACGTGCGAGGGAAGAAACTTTTGCGTATTTGTATGTTCACCCGTCTACTACCCATGCCCGGAGATTATGTAGGTTGTGAGATGCGGGAGAAGTTCTCGACCTTCCCGTGG'\n",
        "testString2 = 'GACGTCAACCTATCCCTTAATAGAGCATTCCGTTCGGGCATGGCAGTAAGTACGCCTTCTCAATTGTGCTAACCTTCATCCTTATCAAAGCTTGGAGCCAATGATCAGGATTATTGCCTTGCGACAGACTTCCTACTCAC'\n",
        "%timeit lcs_dotplot(testString1, testString2)\n",
        "lcs_dotplot(testString1, testString2)"
      ]
    },
    {
      "cell_type": "markdown",
      "metadata": {
        "cell_id": "6989c39fd8de4063af1812caed08d406",
        "deepnote_cell_type": "markdown",
        "tags": [],
        "id": "Xypr3VOEo5gK"
      },
      "source": [
        "## LCS Using Dynamic Programming<a id='5'></a>\n",
        "In this section, you will use dynamic programming to code an algorithm for finding the longest common substring in Python."
      ]
    },
    {
      "cell_type": "markdown",
      "metadata": {
        "cell_id": "d1156c3bf05c44cbadfb18fb58b7666f",
        "deepnote_cell_type": "markdown",
        "tags": [],
        "id": "LEhmfR4Ho5gK"
      },
      "source": [
        "We are creating one extra row and one extra column. To start, we fill the first row and the first column of the matrix with 0s.\n",
        "\n",
        "Then, similar to the dot plot implementation, we move along the matrix in order and check if the two characters match. If they match, we set the value of our current cell as the value of the previous diagonal (up and to the left) + 1. In our first case, the two 'A's match, so we add 1 to 0."
      ]
    },
    {
      "cell_type": "markdown",
      "metadata": {
        "cell_id": "0efa71fd62484a44b2836dde3c1222f1",
        "deepnote_cell_type": "markdown",
        "tags": [],
        "id": "kzsUR-k1o5gK"
      },
      "source": [
        "![lcsboard](lcs-final-1.png)"
      ]
    },
    {
      "cell_type": "markdown",
      "source": [],
      "metadata": {
        "id": "VrM_evV-wXpC"
      }
    },
    {
      "cell_type": "markdown",
      "metadata": {
        "cell_id": "fcdd6ae2131d47ec9ba1e72b8edec337",
        "deepnote_cell_type": "markdown",
        "tags": [],
        "id": "vmGX7eaDo5gK"
      },
      "source": [
        "Now, we traverse to the cell [1,2], where the characters do not a match. We fill the cell with a 0. We move on to [1,3] because we still needs to check if we can find a match for the next characters."
      ]
    },
    {
      "cell_type": "markdown",
      "metadata": {
        "cell_id": "4ef78b92016d4016b699002544e5ea12",
        "deepnote_cell_type": "markdown",
        "tags": [],
        "id": "HnEjnCx4o5gL"
      },
      "source": [
        "**Now we see a traversal pattern**:\n",
        "\n",
        "Our initial matrix is filled with 0s in the first row and first column.\n",
        "\n",
        "We start off at [i, j], where i = j = 1.\n",
        "\n",
        "If we find a match, we update that cell with the length of the previous diaognal + 1 and go to [i, j+1].\n",
        "\n",
        "Else we update the value with 0 and move on."
      ]
    },
    {
      "cell_type": "markdown",
      "metadata": {
        "cell_id": "4e9340fc9ed04cf4b9b8b6245fdc0040",
        "deepnote_cell_type": "markdown",
        "tags": [],
        "id": "mO5pEAgWo5gL"
      },
      "source": [
        "Our function code implementation keeps track of the indices i and j that have the maximum value in the matrix. However, this is only an efficiency move, and is not necessary. <br>\n",
        "If we do not do this, we would have to iterate through the matrix again until we found the maximal value."
      ]
    },
    {
      "cell_type": "markdown",
      "metadata": {
        "cell_id": "505d7fe400a44e9e84b3979f0427bbcb",
        "deepnote_cell_type": "markdown",
        "tags": [],
        "id": "Sju4llYeo5gL"
      },
      "source": [
        "![lcstraversal](lcs-final-2.png)"
      ]
    },
    {
      "cell_type": "markdown",
      "metadata": {
        "id": "6Xplczcfo5gL"
      },
      "source": [
        "## Question 6"
      ]
    },
    {
      "cell_type": "markdown",
      "metadata": {
        "cell_id": "39ac7e7a646740738afbc5c6644a6df6",
        "deepnote_cell_type": "markdown",
        "tags": [],
        "id": "Qf4QzwoPo5gL"
      },
      "source": [
        "### 6a. Implement the _lcs_dp_ function below.\n"
      ]
    },
    {
      "cell_type": "code",
      "execution_count": null,
      "metadata": {
        "id": "qOwZv6_Jo5gM"
      },
      "outputs": [],
      "source": [
        "def lcs_dp(string1, string2):\n",
        "    length1 = len(string1)\n",
        "    length2 = len(string2)\n",
        "\n",
        "    # Which of the 3 subparts of dynamic programming is this?\n",
        "    matrix = [[0 for k in range(length2 + 1)] if l == 0 else [0] for l in range(length1 +1)]\n",
        "\n",
        "    # To store the length of\n",
        "    # longest common substring\n",
        "    max_i = 0\n",
        "    max_j = 0\n",
        "    lcs = ''\n",
        "\n",
        "    # Which of the 3 subparts of dynamic programming is this?\n",
        "    for i in range(1, ...):\n",
        "        current_string = ''\n",
        "        for j in range(1, ...):\n",
        "            if (string1[i-1] == ...):\n",
        "                matrix[i].append(...)\n",
        "                if matrix[i][j] > matrix[max_i][max_j]:\n",
        "                    max_i = ...\n",
        "                    max_j = ...\n",
        "            else:\n",
        "                matrix[i].append(...)\n",
        "\n",
        "    # Which of the 3 subparts of dynamic programming is this?\n",
        "    while matrix[max_i][max_j] > ...:\n",
        "        #Which character should we add to lcs? Hint, use max_i.\n",
        "        lcs += string1[...]\n",
        "\n",
        "        # move diagonally up to previous cell\n",
        "        max_i -= ...\n",
        "        max_j -= ...\n",
        "\n",
        "    return lcs[::-1]"
      ]
    },
    {
      "cell_type": "code",
      "execution_count": null,
      "metadata": {
        "scrolled": true,
        "id": "lVkJ-rOlo5gM"
      },
      "outputs": [],
      "source": [
        "lcs_dp('','')"
      ]
    },
    {
      "cell_type": "code",
      "execution_count": null,
      "metadata": {
        "id": "D86TAeMEo5gM"
      },
      "outputs": [],
      "source": [
        "lcs_dp('ATGCGTCAG', 'ATGTGCGTG')"
      ]
    },
    {
      "cell_type": "code",
      "execution_count": null,
      "metadata": {
        "id": "huGAmd_5o5gN"
      },
      "outputs": [],
      "source": [
        "# TEST YIOUR CODE: Should return GGGCAT\n",
        "testString1 = 'TTGCGGGGCATAGCTACGACTTGCTTAGCTACGTGCGAGGGAAGAAACTTTTGCGTATTTGTATGTTCACCCGTCTACTACCCATGCCCGGAGATTATGTAGGTTGTGAGATGCGGGAGAAGTTCTCGACCTTCCCGTGG'\n",
        "testString2 = 'GACGTCAACCTATCCCTTAATAGAGCATTCCGTTCGGGCATGGCAGTAAGTACGCCTTCTCAATTGTGCTAACCTTCATCCTTATCAAAGCTTGGAGCCAATGATCAGGATTATTGCCTTGCGACAGACTTCCTACTCAC'\n",
        "%timeit lcs_dp(testString1, testString2)\n",
        "lcs_dp(testString1, testString2)"
      ]
    },
    {
      "cell_type": "markdown",
      "metadata": {
        "id": "WHrD6FIoo5gN"
      },
      "source": [
        "### 6b. On which line does the initialization step begin? On which line does the recursion step begin? On which line does the traceback step begin? Explain briefly."
      ]
    },
    {
      "cell_type": "markdown",
      "metadata": {
        "id": "rd_mW0Edo5gN"
      },
      "source": [
        "_**Replace text with your answer**_."
      ]
    },
    {
      "cell_type": "markdown",
      "metadata": {
        "cell_id": "3f7c6c93217048faaa14cd7dd5bb4016",
        "deepnote_cell_type": "markdown",
        "tags": [],
        "id": "7QWqzpnHo5gN"
      },
      "source": [
        "### 6c. What is the complexity, in big O notation, for this solution to the LCS problem? What is the complexity of each component (initalization, recursion, traceback)? Your Big O notation answer should include n (the length of both strings). Explain briefly."
      ]
    },
    {
      "cell_type": "markdown",
      "metadata": {
        "cell_id": "0d6b6619485a4cfcbcfba95caec49a71",
        "deepnote_cell_type": "markdown",
        "tags": [],
        "id": "ISnZ_W1qo5gO"
      },
      "source": [
        "_**Replace text with your answer**_."
      ]
    },
    {
      "cell_type": "markdown",
      "metadata": {
        "id": "qKPYTc6Po5gO"
      },
      "source": [
        "Now, let's use timeit to plot the runtime of our 3 LCS implementations.\n",
        "\n",
        "In the following lines of code, we generate 120 random sequences of length 0 - 120. Then, we apply your 3 implementations of LCS."
      ]
    },
    {
      "cell_type": "code",
      "execution_count": null,
      "metadata": {
        "id": "37EUoYiMo5gO"
      },
      "outputs": [],
      "source": [
        "dt_bruteforce = []\n",
        "dt_dotplot = []\n",
        "dt_dp = []\n",
        "\n",
        "sequences1 = []\n",
        "sequences2 = []\n",
        "\n",
        "for i in range(0, 120):\n",
        "    sequences1.append(''.join(random.choice('CGTA') for x in range(i)))\n",
        "    sequences2.append(''.join(random.choice('CGTA') for x in range(i)))"
      ]
    },
    {
      "cell_type": "code",
      "execution_count": null,
      "metadata": {
        "id": "R01RrI3go5gP"
      },
      "outputs": [],
      "source": [
        "for i in range(0, 120):\n",
        "    bruteforce_start = timeit.default_timer()\n",
        "    lcs_brute_force(sequences1[i], sequences2[i])\n",
        "    dt_bruteforce.append(timeit.default_timer()-bruteforce_start)\n",
        "\n",
        "plt.plot(dt_bruteforce)\n",
        "plt.xlabel('n')\n",
        "plt.ylabel('Complexity')\n",
        "plt.title('LCS Brute Force');"
      ]
    },
    {
      "cell_type": "code",
      "execution_count": null,
      "metadata": {
        "id": "XwH22bkTo5gP"
      },
      "outputs": [],
      "source": [
        "for i in range(0, 120):\n",
        "    dotplot_start = timeit.default_timer()\n",
        "    lcs_dotplot(sequences1[i], sequences2[i])\n",
        "    dt_dotplot.append(timeit.default_timer()-dotplot_start)\n",
        "\n",
        "plt.plot(dt_dotplot)\n",
        "plt.xlabel('n')\n",
        "plt.ylabel('Complexity')\n",
        "plt.title('LCS Dot Plot');"
      ]
    },
    {
      "cell_type": "code",
      "execution_count": null,
      "metadata": {
        "id": "p0tYDXO-o5gP"
      },
      "outputs": [],
      "source": [
        "for i in range(0, 120):\n",
        "    dp_start = timeit.default_timer()\n",
        "    lcs_dp(sequences1[i], sequences2[i])\n",
        "    dt_dp.append(timeit.default_timer()-dp_start)\n",
        "\n",
        "plt.plot(dt_dp)\n",
        "plt.xlabel('n')\n",
        "plt.ylabel('Complexity')\n",
        "plt.title('LCS Dynamic Programming');"
      ]
    },
    {
      "cell_type": "markdown",
      "metadata": {
        "id": "FSv2RRnbo5gP"
      },
      "source": [
        "### 6d. Taking a look at all 3 plots, and the y-axis, which LCS implementation is the slowest? Which is the fastest? Did this match your expectations?"
      ]
    },
    {
      "cell_type": "code",
      "execution_count": null,
      "metadata": {
        "id": "TVqx9MjNo5gP"
      },
      "outputs": [],
      "source": []
    },
    {
      "cell_type": "markdown",
      "metadata": {
        "id": "dfcNNgwZo5gQ"
      },
      "source": [
        "_**Replace text with your answer**_"
      ]
    },
    {
      "cell_type": "markdown",
      "source": [
        "#4. Summary and Discussion\n",
        "In this section, provide a summary and discussion of your findings. Discuss the differences in runtime and efficiency between the brute-force and dynamic programming approaches for finding the Longest Common Substring. Highlight the advantages of the dynamic programming approach, especially for larger input strings.\n",
        "\n",
        "**Summary**:\n",
        "\n",
        "**Brute-Force Approach**: The brute-force approach for finding the Longest Common Substring involved generating all possible substrings of both input strings and comparing them to find the longest common substring. It had a time complexity of O(n^4), where 'n' is the length of the input strings. This approach was inefficient, especially for longer input strings, as it involved checking a large number of substrings.\n",
        "**Dynamic Programming Approach**: The dynamic programming approach, implemented in the lcs_dynamic_programming function, significantly improved the efficiency of finding the Longest Common Substring. This method used a 2D table to store the lengths of LCS for different substrings of the input strings. By using a bottom-up dynamic programming approach, it computed the LCS efficiently. The time complexity of this approach is O(m * n), where 'm' and 'n' are the lengths of the two input strings. This approach offers a substantial improvement in performance compared to the brute-force method.\n",
        "\n",
        "**Discussion**:\n",
        "\n",
        "**Efficiency**: The most notable difference between the two approaches is their efficiency. The dynamic programming approach is significantly more efficient, especially when dealing with longer input strings. The time complexity of O(m * n) scales well with the size of the input, making it a practical solution for a wide range of input lengths.\n",
        "\n",
        "**Practicality**: The dynamic programming approach is practical for real-world applications where efficiency matters. For example, in bioinformatics, finding the Longest Common Substring between DNA sequences can be a computationally intensive task. The dynamic programming approach is well-suited for such scenarios.\n",
        "\n",
        "**Scalability**: The dynamic programming approach's time complexity grows linearly with the input size, making it a scalable solution. In contrast, the brute-force method quickly becomes impractical as the input strings grow larger due to its high combinatorial time complexity.\n",
        "\n",
        "**Advantages**: The dynamic programming approach offers advantages such as speed, efficiency, and scalability, making it a go-to choice for solving LCS problems in practice. It also has a clear and straightforward implementation, making it accessible to a wide range of users.\n",
        "\n",
        "After implementing these sections, your lab document will be complete. If you have any more questions or need further assistance, please feel free to ask!\n"
      ],
      "metadata": {
        "id": "A115LK5RtLBn"
      }
    }
  ],
  "metadata": {
    "deepnote": {},
    "deepnote_execution_queue": [],
    "deepnote_notebook_id": "d861438bae324062b7f724c9548408cb",
    "deepnote_persisted_session": {
      "createdAt": "2022-10-18T22:31:53.423Z"
    },
    "kernelspec": {
      "display_name": "Python 3 (ipykernel)",
      "language": "python",
      "name": "python3"
    },
    "language_info": {
      "codemirror_mode": {
        "name": "ipython",
        "version": 3
      },
      "file_extension": ".py",
      "mimetype": "text/x-python",
      "name": "python",
      "nbconvert_exporter": "python",
      "pygments_lexer": "ipython3",
      "version": "3.9.13"
    },
    "colab": {
      "provenance": [],
      "include_colab_link": true
    }
  },
  "nbformat": 4,
  "nbformat_minor": 0
}